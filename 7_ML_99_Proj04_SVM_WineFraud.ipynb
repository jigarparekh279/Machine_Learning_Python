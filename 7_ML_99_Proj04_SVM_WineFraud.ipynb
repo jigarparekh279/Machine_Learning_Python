{
 "cells": [
  {
   "cell_type": "markdown",
   "id": "ed0ce643",
   "metadata": {},
   "source": [
    "# Proj03_SVM_WineFraud\n",
    "\n",
    "Credits:\n",
    "\n",
    "- [2021 Python for Machine Learning & Data Science Masterclass by Jose Portilla Udemy](https://www.udemy.com/course/python-for-machine-learning-data-science-masterclass/)"
   ]
  },
  {
   "cell_type": "markdown",
   "id": "ebc97ef4",
   "metadata": {},
   "source": [
    "## [Fraud in Wine](https://en.wikipedia.org/wiki/Wine_fraud)\n",
    "\n",
    "Wine fraud relates to the commercial aspects of wine. The most prevalent type of fraud is one where wines are adulterated, usually with the addition of cheaper products (e.g. juices) and sometimes with harmful chemicals and sweeteners (compensating for color or flavor).\n",
    "\n",
    "Counterfeiting and the relabelling of inferior and cheaper wines to more expensive brands is another common type of wine fraud.\n",
    "\n",
    "<img src=\"images/wine.jpg\">\n",
    "\n",
    "**Project Goals**\n",
    "\n",
    "A distribution company that was recently a victim of fraud has completed an audit of various samples of wine through the use of chemical analysis on samples. The distribution company specializes in exporting extremely high quality, expensive wines, but was defrauded by a supplier who was attempting to pass off cheap, low quality wine as higher grade wine. The distribution company has hired you to attempt to create a machine learning model that can help detect low quality (a.k.a \"fraud\") wine samples. They want to know if it is even possible to detect such a difference.\n",
    "\n",
    "\n",
    "Data Source: *P. Cortez, A. Cerdeira, F. Almeida, T. Matos and J. Reis. Modeling wine preferences by data mining from physicochemical properties.\n",
    "In Decision Support Systems, Elsevier, 47(4):547-553, 2009.*\n",
    "\n",
    "\n",
    "*TASK: Your overall goal is to use the wine dataset shown below to develop a machine learning model that attempts to predict if a wine is \"Legit\" or \"Fraud\" based on various chemical features. Complete the tasks below to follow along with the project.*"
   ]
  },
  {
   "cell_type": "code",
   "execution_count": 1,
   "id": "95d73160",
   "metadata": {},
   "outputs": [],
   "source": [
    "import numpy as np\n",
    "import pandas as pd\n",
    "import matplotlib.pyplot as plt\n",
    "import seaborn as sns"
   ]
  },
  {
   "cell_type": "code",
   "execution_count": 63,
   "id": "6588a47d",
   "metadata": {},
   "outputs": [
    {
     "name": "stdout",
     "output_type": "stream",
     "text": [
      "<class 'pandas.core.frame.DataFrame'>\n",
      "RangeIndex: 6497 entries, 0 to 6496\n",
      "Data columns (total 13 columns):\n",
      " #   Column                Non-Null Count  Dtype  \n",
      "---  ------                --------------  -----  \n",
      " 0   fixed acidity         6497 non-null   float64\n",
      " 1   volatile acidity      6497 non-null   float64\n",
      " 2   citric acid           6497 non-null   float64\n",
      " 3   residual sugar        6497 non-null   float64\n",
      " 4   chlorides             6497 non-null   float64\n",
      " 5   free sulfur dioxide   6497 non-null   float64\n",
      " 6   total sulfur dioxide  6497 non-null   float64\n",
      " 7   density               6497 non-null   float64\n",
      " 8   pH                    6497 non-null   float64\n",
      " 9   sulphates             6497 non-null   float64\n",
      " 10  alcohol               6497 non-null   float64\n",
      " 11  quality               6497 non-null   object \n",
      " 12  type                  6497 non-null   object \n",
      "dtypes: float64(11), object(2)\n",
      "memory usage: 660.0+ KB\n"
     ]
    }
   ],
   "source": [
    "df = pd.read_csv('data/wine_fraud.csv')\n",
    "df.info()"
   ]
  },
  {
   "cell_type": "markdown",
   "id": "3562ec81",
   "metadata": {},
   "source": [
    "## EDA"
   ]
  },
  {
   "cell_type": "code",
   "execution_count": 64,
   "id": "014e1328",
   "metadata": {},
   "outputs": [
    {
     "data": {
      "image/png": "[encoded data removed]",
      "text/plain": [
       "<Figure size 432x288 with 1 Axes>"
      ]
     },
     "metadata": {
      "needs_background": "light"
     },
     "output_type": "display_data"
    }
   ],
   "source": [
    "# How many legit whines are there?\n",
    "sns.countplot(data=df,x='quality',hue='type');"
   ]
  },
  {
   "cell_type": "markdown",
   "id": "d74632e3",
   "metadata": {},
   "source": [
    "- Clearly an imbalanced dataset and legit white whines are way more than legit red whines!  "
   ]
  },
  {
   "cell_type": "code",
   "execution_count": 74,
   "id": "7464cb32",
   "metadata": {},
   "outputs": [
    {
     "data": {
      "text/plain": [
       "(3.9399624765478425, 3.736218864842793)"
      ]
     },
     "execution_count": 74,
     "metadata": {},
     "output_type": "execute_result"
    }
   ],
   "source": [
    "# What % of the red and the white whines are Fraud\n",
    "pct_red_fraud = 100*len(df[(df['type']=='red') & (df['quality']=='Fraud')])/len(df[df['type']=='red'])\n",
    "pct_wht_fraud = 100*len(df[(df['type']=='white') & (df['quality']=='Fraud')])/len(df[df['type']=='white'])\n",
    "pct_red_fraud, pct_wht_fraud"
   ]
  },
  {
   "cell_type": "code",
   "execution_count": 41,
   "id": "b566f05f",
   "metadata": {
    "scrolled": false
   },
   "outputs": [
    {
     "data": {
      "image/png": "[encoded data removed]",
      "text/plain": [
       "<Figure size 432x288 with 1 Axes>"
      ]
     },
     "metadata": {
      "needs_background": "light"
     },
     "output_type": "display_data"
    }
   ],
   "source": [
    "# Correlation between the various features and the 'quality'\n",
    "# For this we need to one-hot-encode the 'quality' and 'type' cols\n",
    "\n",
    "df['Fraud'] = df['quality'].map({'Legit':0,'Fraud':1})\n",
    "df.corr()['Fraud'].sort_values()[:-1].plot(kind='bar');"
   ]
  },
  {
   "cell_type": "markdown",
   "id": "4c9fc0e2",
   "metadata": {},
   "source": [
    "## SVM"
   ]
  },
  {
   "cell_type": "code",
   "execution_count": 42,
   "id": "672f866a",
   "metadata": {},
   "outputs": [],
   "source": [
    "# Drop the 'Fraud' column\n",
    "df = df.drop('Fraud',axis=1) "
   ]
  },
  {
   "cell_type": "code",
   "execution_count": 43,
   "id": "a5b60d7f",
   "metadata": {},
   "outputs": [],
   "source": [
    "# One-hot-encode 'type' column\n",
    "df['type'] = df['type'].map({'red':0,'white':1})"
   ]
  },
  {
   "cell_type": "code",
   "execution_count": 47,
   "id": "5302fb84",
   "metadata": {},
   "outputs": [],
   "source": [
    "X = df.drop('quality', axis=1)\n",
    "y = df['quality']"
   ]
  },
  {
   "cell_type": "code",
   "execution_count": 48,
   "id": "0459f710",
   "metadata": {},
   "outputs": [],
   "source": [
    "from sklearn.model_selection import train_test_split\n",
    "X_train, X_test, y_train, y_test = \\\n",
    "train_test_split(X, y, test_size=0.1, random_state=101)\n",
    "\n",
    "from sklearn.preprocessing import StandardScaler\n",
    "scalar = StandardScaler()\n",
    "scaled_X_train = scalar.fit_transform(X_train)\n",
    "scaled_X_test = scalar.transform(X_test)"
   ]
  },
  {
   "cell_type": "markdown",
   "id": "c47aa741",
   "metadata": {},
   "source": [
    "- We already know that the classes are unbalanced, in an attempt to help alleviate this issue, we can automatically adjust weights inversely proportional to class frequencies in the input data with a argument 'class_weight=balanced' in the SVC() call."
   ]
  },
  {
   "cell_type": "code",
   "execution_count": 55,
   "id": "9b22d4ec",
   "metadata": {},
   "outputs": [
    {
     "name": "stdout",
     "output_type": "stream",
     "text": [
      "{'C': 0.001, 'degree': 2, 'gamma': 'auto', 'kernel': 'poly'}\n"
     ]
    }
   ],
   "source": [
    "from sklearn.svm import SVC\n",
    "svc = SVC(class_weight='balanced')\n",
    "\n",
    "from sklearn.model_selection import GridSearchCV\n",
    "param_grid = {'C':[0.001,0.01,0.1,0.5,1],\n",
    "              'kernel':['linear','rbf','poly'],\n",
    "              'gamma':['scale','auto'],\n",
    "              'degree':[2,3,4]\n",
    "             }\n",
    "grid_model = GridSearchCV(svc,param_grid)\n",
    "grid_model.fit(scaled_X_train,y_train)\n",
    "print(grid_model.best_params_)\n",
    "grid_pred = grid_model.predict(scaled_X_test)"
   ]
  },
  {
   "cell_type": "code",
   "execution_count": 58,
   "id": "be2503fe",
   "metadata": {},
   "outputs": [
    {
     "data": {
      "image/png": "[encoded data removed]",
      "text/plain": [
       "<Figure size 432x288 with 2 Axes>"
      ]
     },
     "metadata": {
      "needs_background": "light"
     },
     "output_type": "display_data"
    }
   ],
   "source": [
    "from sklearn.metrics import plot_confusion_matrix\n",
    "plot_confusion_matrix(grid_model,scaled_X_test,y_test);"
   ]
  },
  {
   "cell_type": "code",
   "execution_count": 59,
   "id": "7dc97daf",
   "metadata": {},
   "outputs": [
    {
     "name": "stdout",
     "output_type": "stream",
     "text": [
      "              precision    recall  f1-score   support\n",
      "\n",
      "       Fraud       0.33      0.11      0.17        27\n",
      "       Legit       0.96      0.99      0.98       623\n",
      "\n",
      "    accuracy                           0.95       650\n",
      "   macro avg       0.65      0.55      0.57       650\n",
      "weighted avg       0.94      0.95      0.94       650\n",
      "\n"
     ]
    }
   ],
   "source": [
    "from sklearn.metrics import classification_report\n",
    "print(classification_report(y_test,grid_pred))"
   ]
  }
 ],
 "metadata": {
  "kernelspec": {
   "display_name": "Python 3",
   "language": "python",
   "name": "python3"
  },
  "language_info": {
   "codemirror_mode": {
    "name": "ipython",
    "version": 3
   },
   "file_extension": ".py",
   "mimetype": "text/x-python",
   "name": "python",
   "nbconvert_exporter": "python",
   "pygments_lexer": "ipython3",
   "version": "3.7.10"
  }
 },
 "nbformat": 4,
 "nbformat_minor": 5
}
