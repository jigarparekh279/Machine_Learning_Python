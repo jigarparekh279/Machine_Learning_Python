{
 "cells": [
  {
   "cell_type": "markdown",
   "source": [
    "# Python\n",
    "Credits: \n",
    "- Learn Python - Full Course for Beginners [freeCodeCamp](https://www.youtube.com/watch?v=rfscVS0vtbw&list=PLWKjhJtqVAbnqBxcdjVGgT3uVR10bzTEB&index=1)\n",
    "- Intermediate Python Programming Course [freeCodeCamp](https://youtu.be/HGOBQPFzWKo)\n",
    "\n",
    "Notes on important features of python useful for an intermediate level programming."
   ],
   "metadata": {}
  },
  {
   "cell_type": "markdown",
   "source": [
    "- [Getting Input From Users](#1)\n",
    "    - input()\n",
    "- [Reading / Writing Into Files](#2)\n",
    "    - open(fName,r/w/a)\n",
    "    - f.write(), f.close()\n",
    "- [Modules & Pip](#3)\n",
    "    - pip\n",
    "    - os, sys, path\n",
    "- [Lists [ ]](#4)\n",
    "    - append(), pop(), insert(), remove()\n",
    "    - clear(), reverse(), sort(), copy() \n",
    "    - for elem in myList\n",
    "- [Tuples ( )](#5)\n",
    "    - count(), index(), unpacking a tuple\n",
    "- [Dictionary { }](#6)\n",
    "    - del, keys(), values(), items(), copy(), update(), \n",
    "- [Sets { }](#7)\n",
    "    - set(), add(), remove(), discard(), pop(), clear()\n",
    "    - union(), intersection()\n",
    "    - difference(), symmetric_difference()\n",
    "    - update(), intersection_update()\n",
    "    - difference_update(), symmetric_difference_update()\n",
    "    - issubset(), issuperset(), isdisjoint()\n",
    "    - frozenset()\n",
    "- [String \" ... \", ' ... ', \" .... ' ... \", ' ... \\\\' ...', \" \" \" ...\" \" \"](#8)\n",
    "- [Collections](#9)\n",
    "- [Itertools](#10)\n",
    "- [Lambda](#11)\n",
    "- [Exceptions](#12)\n",
    "- [Random Numbers](#13)\n",
    "- [Decorators](#14)\n",
    "- [Genarators](#15)\n",
    "- [Threading vs Multiprocessing](#16)\n",
    "- [Multithreading](#17)\n",
    "    - Locks\n",
    "    - Queues\n",
    "- [Multiprocessing](#18)\n",
    "    - Process Pool\n",
    "- [Function Arguments](#19)\n",
    "- [Asterisk (\\*) Operator](#20)\n",
    "- [Shallow vs Deep Copying](#21)\n",
    "- [Context Managers](#22)\n"
   ],
   "metadata": {}
  },
  {
   "cell_type": "markdown",
   "source": [
    "<a id='1'></a>\n",
    "## Getting Input From Users"
   ],
   "metadata": {}
  },
  {
   "cell_type": "code",
   "execution_count": 1,
   "source": [
    "name = input(\"Enter your name: \")\n",
    "age  = input(\"Enter your age: \")\n",
    "\n",
    "print(\"Hello \" + name + \"! You are \" + age)"
   ],
   "outputs": [
    {
     "output_type": "stream",
     "name": "stdout",
     "text": [
      "Hello ! You are \n"
     ]
    }
   ],
   "metadata": {
    "collapsed": true
   }
  },
  {
   "cell_type": "markdown",
   "source": [
    "<a id='2'></a>\n",
    "## Reading / Writing Into Files"
   ],
   "metadata": {}
  },
  {
   "cell_type": "code",
   "execution_count": 2,
   "source": [
    "# open and close a file\n",
    "# r = read, w = write,  a = append, r+ = r and w\n",
    "someFile = open(\"files/someFile.txt\", 'r') \n",
    "\n",
    "# check if the file readable\n",
    "print(someFile.readable())\n",
    "\n",
    "# read a line in the file\n",
    "print(someFile.readline())\n",
    "\n",
    "# read all the (remaining) lines in the file into a list\n",
    "allLines = someFile.readlines()\n",
    "print(allLines)\n",
    "\n",
    "# read the entire (remaining) lines of the file as it is\n",
    "print(someFile.read())\n",
    "\n",
    "someFile.close()\n",
    "# reading from a file"
   ],
   "outputs": [
    {
     "output_type": "stream",
     "name": "stdout",
     "text": [
      "True\n",
      "\n",
      "\n",
      "['This is a new line!']\n",
      "\n"
     ]
    }
   ],
   "metadata": {
    "collapsed": true
   }
  },
  {
   "cell_type": "code",
   "execution_count": 3,
   "source": [
    "# append a file\n",
    "someFile = open(\"files/someFile.txt\", 'a') \n",
    "\n",
    "# check if the file readable\n",
    "someFile.write(\"\\nThis is a new line!\")\n",
    "\n",
    "someFile.close()"
   ],
   "outputs": [],
   "metadata": {
    "collapsed": true
   }
  },
  {
   "cell_type": "code",
   "execution_count": 4,
   "source": [
    "# write (overwrite) in file\n",
    "someFile = open(\"files/someFile.txt\", 'w') \n",
    "\n",
    "# check if the file readable\n",
    "someFile.write(\"\\nThis is a new line!\")\n",
    "\n",
    "someFile.close()"
   ],
   "outputs": [],
   "metadata": {
    "collapsed": true
   }
  },
  {
   "cell_type": "code",
   "execution_count": 5,
   "source": [
    "# create a new file with write mode\n",
    "someNewFile = open(\"files/someNewFile.txt\", 'w') \n",
    "\n",
    "# check if the file readable\n",
    "someNewFile.write(\"\\nThis is a new line!\")\n",
    "\n",
    "someNewFile.close()"
   ],
   "outputs": [],
   "metadata": {
    "collapsed": true
   }
  },
  {
   "cell_type": "markdown",
   "source": [
    "<a id='3'></a>\n",
    "## Modules & Pip\n",
    "\n",
    "Built-in modules are already there in the python installation, while the external modules can be found (as files) in the *Lib* directory in of the installation.\n",
    "\n",
    "Pip is a package manager (just another useful module) used to install, manage, update different pyhton modules."
   ],
   "metadata": {}
  },
  {
   "cell_type": "code",
   "execution_count": 6,
   "source": [
    "pip --version"
   ],
   "outputs": [
    {
     "output_type": "stream",
     "name": "stdout",
     "text": [
      "pip 21.2.2 from /home/jigar/anaconda3/envs/dataScienceEnv/lib/python3.7/site-packages/pip (python 3.7)\n",
      "Note: you may need to restart the kernel to use updated packages.\n"
     ]
    }
   ],
   "metadata": {
    "collapsed": true
   }
  },
  {
   "cell_type": "code",
   "execution_count": 7,
   "source": [
    "# !pip install python-docx (OR execute in the termial)\n",
    "# this new thrid party module (python-docx) will get installed \n",
    "# in the Lib/site-packages folder\n",
    "!pip install python-docx"
   ],
   "outputs": [
    {
     "output_type": "stream",
     "name": "stdout",
     "text": [
      "Requirement already satisfied: python-docx in /home/jigar/anaconda3/envs/dataScienceEnv/lib/python3.7/site-packages (0.8.11)\n",
      "Requirement already satisfied: lxml>=2.3.2 in /home/jigar/anaconda3/envs/dataScienceEnv/lib/python3.7/site-packages (from python-docx) (4.5.1)\n"
     ]
    }
   ],
   "metadata": {
    "collapsed": true
   }
  },
  {
   "cell_type": "code",
   "execution_count": 8,
   "source": [
    "# !pip uninstall python-docx"
   ],
   "outputs": [],
   "metadata": {
    "collapsed": true
   }
  },
  {
   "cell_type": "code",
   "execution_count": 9,
   "source": [
    "\"\"\"\n",
    "\n",
    "importing a module \n",
    "- in cwd OR \n",
    "- provile the full path of the module OR\n",
    "- use the os and sys module to find and append the the path \n",
    "  where the module can be found\n",
    "\n",
    "\"\"\"\n",
    "import os, sys\n",
    "sys.path.append('modules')\n",
    "\n",
    "\n",
    "import someModuleWithFunctions\n",
    "someModuleWithFunctions.someFunction()\n",
    "\n",
    "print('-- OR --')\n",
    "\n",
    "from someModuleWithFunctions import someFunction\n",
    "someFunction()"
   ],
   "outputs": [
    {
     "output_type": "stream",
     "name": "stdout",
     "text": [
      "I  0.054000000000000006 \n",
      "Z0 0.0011206843450025056\n",
      "uf 0.2897939897273745\n",
      "k  0.27993518827369884 \t\t  \n",
      "e  0.0008691668177791903\n",
      "w  0.0344987321743674\n",
      "nut  8.114361619401512\n",
      "-- OR --\n",
      "I  0.054000000000000006 \n",
      "Z0 0.0011206843450025056\n",
      "uf 0.2897939897273745\n",
      "k  0.27993518827369884 \t\t  \n",
      "e  0.0008691668177791903\n",
      "w  0.0344987321743674\n",
      "nut  8.114361619401512\n"
     ]
    }
   ],
   "metadata": {
    "collapsed": true
   }
  },
  {
   "cell_type": "markdown",
   "source": [
    "<a id='4'></a>\n",
    "## Lists [ ]\n",
    "Collection of elements - ordered, ***mutable***, allows duplicate elements"
   ],
   "metadata": {}
  },
  {
   "cell_type": "code",
   "execution_count": 10,
   "source": [
    "aList = [\"banana\", \"cherry\", \"apple\"]\n",
    "print(aList)"
   ],
   "outputs": [
    {
     "output_type": "stream",
     "name": "stdout",
     "text": [
      "['banana', 'cherry', 'apple']\n"
     ]
    }
   ],
   "metadata": {
    "collapsed": true
   }
  },
  {
   "cell_type": "code",
   "execution_count": 11,
   "source": [
    "myList = list() # empty list\n",
    "print(myList)"
   ],
   "outputs": [
    {
     "output_type": "stream",
     "name": "stdout",
     "text": [
      "[]\n"
     ]
    }
   ],
   "metadata": {
    "collapsed": true
   }
  },
  {
   "cell_type": "code",
   "execution_count": 12,
   "source": [
    "# Allows different data types\n",
    "myList = [5, True, \"apple\", \"pear\"]\n",
    "print(myList[0], myList[-1], myList[-2]) # first, last, 2nd last elem"
   ],
   "outputs": [
    {
     "output_type": "stream",
     "name": "stdout",
     "text": [
      "5 pear apple\n"
     ]
    }
   ],
   "metadata": {
    "collapsed": true
   }
  },
  {
   "cell_type": "code",
   "execution_count": 13,
   "source": [
    "# Iterate over list\n",
    "for i in myList:\n",
    "    print(i)"
   ],
   "outputs": [
    {
     "output_type": "stream",
     "name": "stdout",
     "text": [
      "5\n",
      "True\n",
      "apple\n",
      "pear\n"
     ]
    }
   ],
   "metadata": {
    "collapsed": true
   }
  },
  {
   "cell_type": "code",
   "execution_count": 14,
   "source": [
    "# Check for an item in list\n",
    "item = 'apple'\n",
    "#item = 6\n",
    "if item in myList:\n",
    "    print(\"Got it!\")\n",
    "else:\n",
    "    print('Not there!')"
   ],
   "outputs": [
    {
     "output_type": "stream",
     "name": "stdout",
     "text": [
      "Got it!\n"
     ]
    }
   ],
   "metadata": {
    "collapsed": true
   }
  },
  {
   "cell_type": "code",
   "execution_count": 15,
   "source": [
    "# Number of elemets\n",
    "print(len(myList))"
   ],
   "outputs": [
    {
     "output_type": "stream",
     "name": "stdout",
     "text": [
      "4\n"
     ]
    }
   ],
   "metadata": {
    "collapsed": true
   }
  },
  {
   "cell_type": "code",
   "execution_count": 16,
   "source": [
    "# Append the list\n",
    "myList.append('ice')\n",
    "print(myList)\n",
    "\n",
    "# pop (remove) last item and return it\n",
    "item = myList.pop()\n",
    "print('removed item =', item)\n",
    "print(myList)"
   ],
   "outputs": [
    {
     "output_type": "stream",
     "name": "stdout",
     "text": [
      "[5, True, 'apple', 'pear', 'ice']\n",
      "removed item = ice\n",
      "[5, True, 'apple', 'pear']\n"
     ]
    }
   ],
   "metadata": {
    "collapsed": true
   }
  },
  {
   "cell_type": "code",
   "execution_count": 17,
   "source": [
    "# Insert at specific index\n",
    "myList.insert(1,'insertedItem')\n",
    "print(myList)\n",
    "\n",
    "# Remove specific item\n",
    "myList.remove('apple')\n",
    "print(myList)"
   ],
   "outputs": [
    {
     "output_type": "stream",
     "name": "stdout",
     "text": [
      "[5, 'insertedItem', True, 'apple', 'pear']\n",
      "[5, 'insertedItem', True, 'pear']\n"
     ]
    }
   ],
   "metadata": {
    "collapsed": true
   }
  },
  {
   "cell_type": "code",
   "execution_count": 18,
   "source": [
    "# Remove all items\n",
    "myList.clear()\n",
    "print(myList)"
   ],
   "outputs": [
    {
     "output_type": "stream",
     "name": "stdout",
     "text": [
      "[]\n"
     ]
    }
   ],
   "metadata": {
    "collapsed": true
   }
  },
  {
   "cell_type": "code",
   "execution_count": 19,
   "source": [
    "myList = [\"banana\", \"cherry\", '9', \"apple\",'5']\n",
    "\n",
    "# Reverse\n",
    "myList.reverse()\n",
    "print(myList)\n",
    "\n",
    "# Sort but not change\n",
    "new_list = sorted(myList)\n",
    "print(new_list)\n",
    "\n",
    "# Sort and change\n",
    "#myList.sort()\n",
    "#print(myList)"
   ],
   "outputs": [
    {
     "output_type": "stream",
     "name": "stdout",
     "text": [
      "['5', 'apple', '9', 'cherry', 'banana']\n",
      "['5', '9', 'apple', 'banana', 'cherry']\n"
     ]
    }
   ],
   "metadata": {
    "collapsed": true
   }
  },
  {
   "cell_type": "code",
   "execution_count": 20,
   "source": [
    "# Same elemnets mutiple times\n",
    "myList = ['a', 1, False] * 3 # list of three ['a', 1, False]\n",
    "print(myList)"
   ],
   "outputs": [
    {
     "output_type": "stream",
     "name": "stdout",
     "text": [
      "['a', 1, False, 'a', 1, False, 'a', 1, False]\n"
     ]
    }
   ],
   "metadata": {
    "collapsed": true
   }
  },
  {
   "cell_type": "code",
   "execution_count": 21,
   "source": [
    "# Join lists\n",
    "joinedList = new_list + myList + new_list\n",
    "print(joinedList)"
   ],
   "outputs": [
    {
     "output_type": "stream",
     "name": "stdout",
     "text": [
      "['5', '9', 'apple', 'banana', 'cherry', 'a', 1, False, 'a', 1, False, 'a', 1, False, '5', '9', 'apple', 'banana', 'cherry']\n"
     ]
    }
   ],
   "metadata": {
    "collapsed": true
   }
  },
  {
   "cell_type": "code",
   "execution_count": 22,
   "source": [
    "# Access sub-parts of the list (in step)\n",
    "a = joinedList[2:12:3] # the 3rd idx is the step-size\n",
    "print(a)"
   ],
   "outputs": [
    {
     "output_type": "stream",
     "name": "stdout",
     "text": [
      "['apple', 'a', 'a', 'a']\n"
     ]
    }
   ],
   "metadata": {
    "collapsed": true
   }
  },
  {
   "cell_type": "code",
   "execution_count": 23,
   "source": [
    "# Smart Reverse\n",
    "a = joinedList[::-1]\n",
    "print(a)"
   ],
   "outputs": [
    {
     "output_type": "stream",
     "name": "stdout",
     "text": [
      "['cherry', 'banana', 'apple', '9', '5', False, 1, 'a', False, 1, 'a', False, 1, 'a', 'cherry', 'banana', 'apple', '9', '5']\n"
     ]
    }
   ],
   "metadata": {
    "collapsed": true
   }
  },
  {
   "cell_type": "code",
   "execution_count": 24,
   "source": [
    "# Copying a list\n",
    "a_copy = a # both refer to same memory\n",
    "print(a_copy)\n",
    "\n",
    "# but if now a is modified, a_copy also changes\n",
    "a.append('randomAppend')\n",
    "print(a)\n",
    "print(a_copy)"
   ],
   "outputs": [
    {
     "output_type": "stream",
     "name": "stdout",
     "text": [
      "['cherry', 'banana', 'apple', '9', '5', False, 1, 'a', False, 1, 'a', False, 1, 'a', 'cherry', 'banana', 'apple', '9', '5']\n",
      "['cherry', 'banana', 'apple', '9', '5', False, 1, 'a', False, 1, 'a', False, 1, 'a', 'cherry', 'banana', 'apple', '9', '5', 'randomAppend']\n",
      "['cherry', 'banana', 'apple', '9', '5', False, 1, 'a', False, 1, 'a', False, 1, 'a', 'cherry', 'banana', 'apple', '9', '5', 'randomAppend']\n"
     ]
    }
   ],
   "metadata": {
    "collapsed": true
   }
  },
  {
   "cell_type": "code",
   "execution_count": 25,
   "source": [
    "# Copying safely with diffrent methods\n",
    "#a_copy = a.copy()\n",
    "#a_copy = list(a)\n",
    "a_copy = a[:]\n",
    "\n",
    "a.append('againAppend')\n",
    "print(a)\n",
    "print(a_copy)"
   ],
   "outputs": [
    {
     "output_type": "stream",
     "name": "stdout",
     "text": [
      "['cherry', 'banana', 'apple', '9', '5', False, 1, 'a', False, 1, 'a', False, 1, 'a', 'cherry', 'banana', 'apple', '9', '5', 'randomAppend', 'againAppend']\n",
      "['cherry', 'banana', 'apple', '9', '5', False, 1, 'a', False, 1, 'a', False, 1, 'a', 'cherry', 'banana', 'apple', '9', '5', 'randomAppend']\n"
     ]
    }
   ],
   "metadata": {
    "collapsed": true
   }
  },
  {
   "cell_type": "code",
   "execution_count": 26,
   "source": [
    "# List comprehenssion\n",
    "a = [1,2,3,4,5,6]\n",
    "b = [elem*elem for elem in a]\n",
    "print(b)"
   ],
   "outputs": [
    {
     "output_type": "stream",
     "name": "stdout",
     "text": [
      "[1, 4, 9, 16, 25, 36]\n"
     ]
    }
   ],
   "metadata": {
    "collapsed": true
   }
  },
  {
   "cell_type": "markdown",
   "source": [
    "<a id='5'></a>\n",
    "## Tuples ( )\n",
    "\n",
    "Collection of elements - ordered, ***immutable***, allows duplicate elements. Same as list but can't be changed after creation."
   ],
   "metadata": {}
  },
  {
   "cell_type": "code",
   "execution_count": 27,
   "source": [
    "# Make a tuple\n",
    "myTuple = ('Max', 28, 'Max', 'Boston')  # w/  paranthesis\n",
    "yourTuple = 'Maxy', 98, 'Bostony'       # w/o \n",
    "tupleFuncTuple = tuple(\"boy\"+\"and\"+\"girl\")     # using tuple func \n",
    "listToTuple = tuple(myList)             # list to tuple\n",
    "tupleToList = list(myTuple)             # tuple to list\n",
    "print(myTuple,yourTuple, tupleFuncTuple, listToTuple, tupleToList)"
   ],
   "outputs": [
    {
     "output_type": "stream",
     "name": "stdout",
     "text": [
      "('Max', 28, 'Max', 'Boston') ('Maxy', 98, 'Bostony') ('b', 'o', 'y', 'a', 'n', 'd', 'g', 'i', 'r', 'l') ('a', 1, False, 'a', 1, False, 'a', 1, False) ['Max', 28, 'Max', 'Boston']\n"
     ]
    }
   ],
   "metadata": {
    "collapsed": true
   }
  },
  {
   "cell_type": "code",
   "execution_count": 28,
   "source": [
    "# Need at least one comma ',' to NOT make it a string dtype\n",
    "tpl_string = (\"Max\")\n",
    "tpl_tuple  = (\"Max\",)\n",
    "print(type(tpl_string))\n",
    "print(type(tpl_tuple))"
   ],
   "outputs": [
    {
     "output_type": "stream",
     "name": "stdout",
     "text": [
      "<class 'str'>\n",
      "<class 'tuple'>\n"
     ]
    }
   ],
   "metadata": {
    "collapsed": true
   }
  },
  {
   "cell_type": "code",
   "execution_count": 29,
   "source": [
    "# Access elements of tuple EXACTLY same as list\n",
    "print(myTuple[2], myTuple[-1])"
   ],
   "outputs": [
    {
     "output_type": "stream",
     "name": "stdout",
     "text": [
      "Max Boston\n"
     ]
    }
   ],
   "metadata": {
    "collapsed": true
   }
  },
  {
   "cell_type": "code",
   "execution_count": 30,
   "source": [
    "\"\"\"\n",
    "Access elements\n",
    "Iterate ove tuple\n",
    "Check for an element\n",
    "Get length\n",
    "Reversing\n",
    "Slicing\n",
    "\n",
    "\n",
    "All EXACTLY same as list\n",
    "\"\"\""
   ],
   "outputs": [
    {
     "output_type": "execute_result",
     "data": {
      "text/plain": [
       "'\\nAccess elements\\nIterate ove tuple\\nCheck for an element\\nGet length\\nReversing\\nSlicing\\n\\n\\nAll EXACTLY same as list\\n'"
      ]
     },
     "metadata": {},
     "execution_count": 30
    }
   ],
   "metadata": {
    "collapsed": true
   }
  },
  {
   "cell_type": "code",
   "execution_count": 31,
   "source": [
    "# Count of an element in a tuple\n",
    "print(myTuple.count('Max'))\n",
    "\n",
    "# Get (first) index of an element\n",
    "print(myTuple.index('Max'))"
   ],
   "outputs": [
    {
     "output_type": "stream",
     "name": "stdout",
     "text": [
      "2\n",
      "0\n"
     ]
    }
   ],
   "metadata": {
    "collapsed": true
   }
  },
  {
   "cell_type": "code",
   "execution_count": 32,
   "source": [
    "# Unpacking a tuple\n",
    "name, age, _, city = myTuple\n",
    "print(name, age, city)\n",
    "\n",
    "# Ony unpack fisrt and last element and make a list of remianing\n",
    "name, *someItems, city = myTuple\n",
    "print(name, someItems, city)\n",
    "\n",
    "# Only unpack first element\n",
    "name, *someItems = myTuple\n",
    "print(name, someItems)"
   ],
   "outputs": [
    {
     "output_type": "stream",
     "name": "stdout",
     "text": [
      "Max 28 Boston\n",
      "Max [28, 'Max'] Boston\n",
      "Max [28, 'Max', 'Boston']\n"
     ]
    }
   ],
   "metadata": {
    "collapsed": true
   }
  },
  {
   "cell_type": "markdown",
   "source": [
    "Since tuples are immutable, it can be more efficient specially when working with large data."
   ],
   "metadata": {}
  },
  {
   "cell_type": "code",
   "execution_count": 33,
   "source": [
    "# tuple has lower memory than list\n",
    "import sys\n",
    "print(sys.getsizeof(myTuple)) \n",
    "print(sys.getsizeof(list(myTuple)))\n",
    "print(\"List is larger than tuple even with same number of elements!\")"
   ],
   "outputs": [
    {
     "output_type": "stream",
     "name": "stdout",
     "text": [
      "88\n",
      "128\n",
      "List is larger than tuple even with same number of elements!\n"
     ]
    }
   ],
   "metadata": {
    "collapsed": true
   }
  },
  {
   "cell_type": "code",
   "execution_count": 34,
   "source": [
    "# Iterating over tuple is better than over list \n",
    "import timeit\n",
    "print(timeit.timeit(stmt=\"(0,1,2,3,4,5)\", number=1000000))\n",
    "print(timeit.timeit(stmt=\"[0,1,2,3,4,5]\", number=1000000))\n",
    "print(\"Iteraating over tuple is more efficient than over a list!\")"
   ],
   "outputs": [
    {
     "output_type": "stream",
     "name": "stdout",
     "text": [
      "0.009597969998139888\n",
      "0.060389653997845016\n",
      "Iteraating over tuple is more efficient than over a list!\n"
     ]
    }
   ],
   "metadata": {
    "collapsed": true
   }
  },
  {
   "cell_type": "markdown",
   "source": [
    "<a id='6'></a>\n",
    "## Dictionary { }\n",
    "Collection datatype that is unordered (python < 3.7), ordered (pyhton >= 3.7) and ***mutable***.\n",
    "It consists of a collection of ***key-value*** pairs."
   ],
   "metadata": {}
  },
  {
   "cell_type": "code",
   "execution_count": 35,
   "source": [
    "# Make a dictionary (key-value joined by a colon) \n",
    "myDict = {'name':'Max', \"age\":28, 'city':'NY'} # using braces\n",
    "yourDict = dict(name='Mad',age=38,city='JK')   # using dict function\n",
    "print(myDict, yourDict)"
   ],
   "outputs": [
    {
     "output_type": "stream",
     "name": "stdout",
     "text": [
      "{'name': 'Max', 'age': 28, 'city': 'NY'} {'name': 'Mad', 'age': 38, 'city': 'JK'}\n"
     ]
    }
   ],
   "metadata": {
    "collapsed": true
   }
  },
  {
   "cell_type": "code",
   "execution_count": 36,
   "source": [
    "# Access the values for specific keys\n",
    "val = myDict['name']\n",
    "print(val)"
   ],
   "outputs": [
    {
     "output_type": "stream",
     "name": "stdout",
     "text": [
      "Max\n"
     ]
    }
   ],
   "metadata": {
    "collapsed": true
   }
  },
  {
   "cell_type": "code",
   "execution_count": 37,
   "source": [
    "# Add and overwrite a key-value pair\n",
    "myDict[\"email\"] = \"max@gmail.com\"\n",
    "print(myDict)\n",
    "\n",
    "myDict[\"email\"] = \"mad@gmail.com\"\n",
    "print(myDict)"
   ],
   "outputs": [
    {
     "output_type": "stream",
     "name": "stdout",
     "text": [
      "{'name': 'Max', 'age': 28, 'city': 'NY', 'email': 'max@gmail.com'}\n",
      "{'name': 'Max', 'age': 28, 'city': 'NY', 'email': 'mad@gmail.com'}\n"
     ]
    }
   ],
   "metadata": {
    "collapsed": true
   }
  },
  {
   "cell_type": "code",
   "execution_count": 38,
   "source": [
    "# Delete item\n",
    "del myDict['name'] # using del method\n",
    "print(myDict)\n",
    "\n",
    "myDict.pop(\"age\") # using pop method\n",
    "print(myDict)\n",
    "\n",
    "myDict.popitem() # remove last item\n",
    "print(myDict)"
   ],
   "outputs": [
    {
     "output_type": "stream",
     "name": "stdout",
     "text": [
      "{'age': 28, 'city': 'NY', 'email': 'mad@gmail.com'}\n",
      "{'city': 'NY', 'email': 'mad@gmail.com'}\n",
      "{'city': 'NY'}\n"
     ]
    }
   ],
   "metadata": {
    "collapsed": true
   }
  },
  {
   "cell_type": "code",
   "execution_count": 39,
   "source": [
    "# Check if a key is there in a dict\n",
    "if 'city' in myDict:\n",
    "    print(\"Yes!\")\n",
    "    \n",
    "# using try and except (safer if wrong key name is passed)\n",
    "try:\n",
    "    print(myDict['name']) # this will throw and error (exception)\n",
    "except:\n",
    "    print('error')        # this will catch the error and move on"
   ],
   "outputs": [
    {
     "output_type": "stream",
     "name": "stdout",
     "text": [
      "Yes!\n",
      "error\n"
     ]
    }
   ],
   "metadata": {
    "collapsed": true
   }
  },
  {
   "cell_type": "code",
   "execution_count": 40,
   "source": [
    "# Get the list of all the keys\n",
    "allKeys = yourDict.keys()\n",
    "print(allKeys)\n",
    "\n",
    "# Get the list of all the values\n",
    "allValues = yourDict.values()\n",
    "print(allValues)"
   ],
   "outputs": [
    {
     "output_type": "stream",
     "name": "stdout",
     "text": [
      "dict_keys(['name', 'age', 'city'])\n",
      "dict_values(['Mad', 38, 'JK'])\n"
     ]
    }
   ],
   "metadata": {
    "collapsed": true
   }
  },
  {
   "cell_type": "code",
   "execution_count": 41,
   "source": [
    "# Iterate over keys of the dict\n",
    "for key in yourDict.keys():\n",
    "    print(key)\n",
    "    \n",
    "# Iterate over both keys and values\n",
    "for key, value in yourDict.items():\n",
    "    print(key, value)"
   ],
   "outputs": [
    {
     "output_type": "stream",
     "name": "stdout",
     "text": [
      "name\n",
      "age\n",
      "city\n",
      "name Mad\n",
      "age 38\n",
      "city JK\n"
     ]
    }
   ],
   "metadata": {
    "collapsed": true
   }
  },
  {
   "cell_type": "code",
   "execution_count": 42,
   "source": [
    "# Copying a dict (same as list)\n",
    "myDict  = yourDict.copy()          # safe\n",
    "myDict  = dict(yourDict)           # safe\n",
    "badDict = yourDict                 # not safe\n",
    "yourDict['country'] = 'India'\n",
    "\n",
    "print(yourDict)\n",
    "print(myDict)\n",
    "print(badDict)"
   ],
   "outputs": [
    {
     "output_type": "stream",
     "name": "stdout",
     "text": [
      "{'name': 'Mad', 'age': 38, 'city': 'JK', 'country': 'India'}\n",
      "{'name': 'Mad', 'age': 38, 'city': 'JK'}\n",
      "{'name': 'Mad', 'age': 38, 'city': 'JK', 'country': 'India'}\n"
     ]
    }
   ],
   "metadata": {
    "collapsed": true
   }
  },
  {
   "cell_type": "code",
   "execution_count": 43,
   "source": [
    "someDict = {'name':'Jigar', 'surname':'Parekh', 'age':30, 'sex':'M'}\n",
    "# Merge two dicts with overwritten and added items \n",
    "myDict.update(someDict)\n",
    "print(myDict)"
   ],
   "outputs": [
    {
     "output_type": "stream",
     "name": "stdout",
     "text": [
      "{'name': 'Jigar', 'age': 30, 'city': 'JK', 'surname': 'Parekh', 'sex': 'M'}\n"
     ]
    }
   ],
   "metadata": {
    "collapsed": true
   }
  },
  {
   "cell_type": "code",
   "execution_count": 44,
   "source": [
    "# non-string key types\n",
    "nonStrDict = {2:4, 3:9, 6:36, 9:81}\n",
    "print(nonStrDict)\n",
    "\n",
    "# be careful b/w index and key\n",
    "print(nonStrDict[2], nonStrDict[3])   # will work fine\n",
    "print(nonStrDict['2'])                # will throw an error\n",
    "print(nonStrDict[0])                  # will throw an error"
   ],
   "outputs": [
    {
     "output_type": "stream",
     "name": "stdout",
     "text": [
      "{2: 4, 3: 9, 6: 36, 9: 81}\n",
      "4 9\n"
     ]
    },
    {
     "output_type": "error",
     "ename": "KeyError",
     "evalue": "'2'",
     "traceback": [
      "\u001b[0;31m---------------------------------------------------------------------------\u001b[0m",
      "\u001b[0;31mKeyError\u001b[0m                                  Traceback (most recent call last)",
      "\u001b[0;32m/tmp/ipykernel_1043514/1765357256.py\u001b[0m in \u001b[0;36m<module>\u001b[0;34m\u001b[0m\n\u001b[1;32m      5\u001b[0m \u001b[0;31m# be careful b/w index and key\u001b[0m\u001b[0;34m\u001b[0m\u001b[0;34m\u001b[0m\u001b[0;34m\u001b[0m\u001b[0m\n\u001b[1;32m      6\u001b[0m \u001b[0mprint\u001b[0m\u001b[0;34m(\u001b[0m\u001b[0mnonStrDict\u001b[0m\u001b[0;34m[\u001b[0m\u001b[0;36m2\u001b[0m\u001b[0;34m]\u001b[0m\u001b[0;34m,\u001b[0m \u001b[0mnonStrDict\u001b[0m\u001b[0;34m[\u001b[0m\u001b[0;36m3\u001b[0m\u001b[0;34m]\u001b[0m\u001b[0;34m)\u001b[0m   \u001b[0;31m# will work fine\u001b[0m\u001b[0;34m\u001b[0m\u001b[0;34m\u001b[0m\u001b[0m\n\u001b[0;32m----> 7\u001b[0;31m \u001b[0mprint\u001b[0m\u001b[0;34m(\u001b[0m\u001b[0mnonStrDict\u001b[0m\u001b[0;34m[\u001b[0m\u001b[0;34m'2'\u001b[0m\u001b[0;34m]\u001b[0m\u001b[0;34m)\u001b[0m                \u001b[0;31m# will throw an error\u001b[0m\u001b[0;34m\u001b[0m\u001b[0;34m\u001b[0m\u001b[0m\n\u001b[0m\u001b[1;32m      8\u001b[0m \u001b[0mprint\u001b[0m\u001b[0;34m(\u001b[0m\u001b[0mnonStrDict\u001b[0m\u001b[0;34m[\u001b[0m\u001b[0;36m0\u001b[0m\u001b[0;34m]\u001b[0m\u001b[0;34m)\u001b[0m                  \u001b[0;31m# will throw an error\u001b[0m\u001b[0;34m\u001b[0m\u001b[0;34m\u001b[0m\u001b[0m\n",
      "\u001b[0;31mKeyError\u001b[0m: '2'"
     ]
    }
   ],
   "metadata": {
    "collapsed": true
   }
  },
  {
   "cell_type": "code",
   "execution_count": 45,
   "source": [
    "# tuple as a key\n",
    "myTuple = (8, 7)\n",
    "myDict = {myTuple: 15}\n",
    "print(myDict)\n",
    "print(\"This is not allowed with a list!\")\n",
    "print(myDict[(8,7)])"
   ],
   "outputs": [
    {
     "output_type": "stream",
     "name": "stdout",
     "text": [
      "{(8, 7): 15}\n",
      "This is not allowed with a list!\n",
      "15\n"
     ]
    }
   ],
   "metadata": {
    "collapsed": true
   }
  },
  {
   "cell_type": "markdown",
   "source": [
    "<a id='7'></a>\n",
    "## Sets { }\n",
    "Colelction datatype which is unordered, ***mutable***, with ***non-duplicate*** elements."
   ],
   "metadata": {}
  },
  {
   "cell_type": "code",
   "execution_count": 46,
   "source": [
    "# Make a set\n",
    "mySet = {1,2,3,1,2}        # using braces\n",
    "mySet = set([1,2,3,1,2])   # using set func and a list\n",
    "\n",
    "print(mySet)\n",
    "print('Notice that duplicate elements are skipped!')"
   ],
   "outputs": [
    {
     "output_type": "stream",
     "name": "stdout",
     "text": [
      "{1, 2, 3}\n",
      "Notice that duplicate elements are skipped!\n"
     ]
    }
   ],
   "metadata": {
    "collapsed": true
   }
  },
  {
   "cell_type": "code",
   "execution_count": 47,
   "source": [
    "wordSet = set(\"Hello there!\")\n",
    "print(wordSet)\n",
    "print('Notice that the set is unordered!')"
   ],
   "outputs": [
    {
     "output_type": "stream",
     "name": "stdout",
     "text": [
      "{'l', 'H', 'e', 'r', 'h', ' ', '!', 't', 'o'}\n",
      "Notice that the set is unordered!\n"
     ]
    }
   ],
   "metadata": {
    "collapsed": true
   }
  },
  {
   "cell_type": "code",
   "execution_count": 48,
   "source": [
    "# Empty set\n",
    "emptySet = {}      # this is a dict\n",
    "print(type(emptySet))\n",
    "emptySet = set()   # this is a set\n",
    "print(type(emptySet))"
   ],
   "outputs": [
    {
     "output_type": "stream",
     "name": "stdout",
     "text": [
      "<class 'dict'>\n",
      "<class 'set'>\n"
     ]
    }
   ],
   "metadata": {
    "collapsed": true
   }
  },
  {
   "cell_type": "code",
   "execution_count": 49,
   "source": [
    "# Add and remove\n",
    "mySet.add(9)\n",
    "print(mySet)\n",
    "\n",
    "mySet.remove(3)\n",
    "print(mySet)\n",
    "\n",
    "mySet.discard(4) # no error if wrong element supplied\n",
    "print(mySet)\n",
    "\n",
    "mySet.pop()      # return and removes an arbitrary element    \n",
    "print(mySet)\n",
    "\n",
    "mySet.clear()\n",
    "print(mySet)"
   ],
   "outputs": [
    {
     "output_type": "stream",
     "name": "stdout",
     "text": [
      "{1, 2, 3, 9}\n",
      "{1, 2, 9}\n",
      "{1, 2, 9}\n",
      "{2, 9}\n",
      "set()\n"
     ]
    }
   ],
   "metadata": {
    "collapsed": true
   }
  },
  {
   "cell_type": "code",
   "execution_count": 50,
   "source": [
    "\"\"\"\n",
    "Iterete over each element -- for elem in setA\n",
    "Check if element is in the set -- if \n",
    "Copying a set -- setB=set(setA) OR setB=setA.copy() \n",
    "\n",
    "All EXACTLY same as list\n",
    "\"\"\""
   ],
   "outputs": [
    {
     "output_type": "execute_result",
     "data": {
      "text/plain": [
       "'\\nIterete over each element -- for elem in setA\\nCheck if element is in the set -- if \\nCopying a set -- setB=set(setA) OR setB=setA.copy() \\n\\nAll EXACTLY same as list\\n'"
      ]
     },
     "metadata": {},
     "execution_count": 50
    }
   ],
   "metadata": {
    "collapsed": true
   }
  },
  {
   "cell_type": "code",
   "execution_count": 51,
   "source": [
    "# union and intersect of sets\n",
    "odds   = {1,3,5,7,9}\n",
    "evens  = {elem*2 for elem in odds}\n",
    "primes = {2,3,5,7}\n",
    "\n",
    "U = odds.union(evens)\n",
    "print(U)\n",
    "I = odds.intersection(evens)\n",
    "print(I)\n",
    "I = odds.intersection(primes)\n",
    "print(I)\n",
    "I = evens.intersection(primes)\n",
    "print(I)"
   ],
   "outputs": [
    {
     "output_type": "stream",
     "name": "stdout",
     "text": [
      "{1, 2, 3, 5, 6, 7, 9, 10, 14, 18}\n",
      "set()\n",
      "{3, 5, 7}\n",
      "{2}\n"
     ]
    }
   ],
   "metadata": {
    "collapsed": true
   }
  },
  {
   "cell_type": "code",
   "execution_count": 52,
   "source": [
    "setA = {1,2,3, 4,5,6,7,8,9        }\n",
    "setB = {1,2,3,             10,11,12}\n",
    "print('setA', setA)\n",
    "print('setB', setB, '\\n')\n",
    "\n",
    "# difference of two sets (ordering is important)\n",
    "diff = setA.difference(setB) # setA - setB\n",
    "print('setA - setB', diff)\n",
    "\n",
    "diff = setB.difference(setA) # setB - setA\n",
    "print('setB - setA', diff)\n",
    "\n",
    "symmDiff = setA.symmetric_difference(setB) # (setA-setB)U(setB-setA)\n",
    "print('(setA-setB)U(setB-setA)', symmDiff,'\\n')\n",
    "\n",
    "# updating a set\n",
    "setA = {1,2,3, 4,5,6,7,8,9,        }\n",
    "setB = {1,2,3,             10,11,12}\n",
    "setA.update(setB)               # updating by union (default)\n",
    "print('setA->U', setA)\n",
    "\n",
    "setA = {1,2,3, 4,5,6,7,8,9,        }\n",
    "setB = {1,2,3,             10,11,12}\n",
    "setA.intersection_update(setB)  # updating by intersection\n",
    "print('setA->I', setA)\n",
    "\n",
    "setA = {1,2,3, 4,5,6,7,8,9,        }\n",
    "setB = {1,2,3,             10,11,12}\n",
    "setA.difference_update(setB)    # updating by setA-setB\n",
    "print('setA->setA-setB', setA)\n",
    "\n",
    "setA = {1,2,3, 4,5,6,7,8,9,        }\n",
    "setB = {1,2,3,             10,11,12}\n",
    "setA.symmetric_difference_update(setB) # up by (setA-setB)U(setB-setA)\n",
    "print('setA->(setA-setB)U(setB-setA)', setA, '\\n')\n",
    "\n",
    "# check for sub- and super- sets\n",
    "setA = {1,2,3, 4,5,6,7,8,9}\n",
    "setB = {1,2,3}\n",
    "setC = {7,8}\n",
    "print(setA.issubset(setB)) # if a set is a subset of another set\n",
    "print(setB.issubset(setA)) # if a set is a subset of another set\n",
    "print(setA.issuperset(setB)) # if a set is a superset of another set\n",
    "print(setB.issuperset(setA)) # if a set is a superset of another set\n",
    "\n",
    "# check if sets are disjoint (null intersection)\n",
    "print(setB.isdisjoint(setA)) # if a set is a disjoint of another set\n",
    "print(setB.isdisjoint(setC)) # if a set is a disjoint of another set"
   ],
   "outputs": [
    {
     "output_type": "stream",
     "name": "stdout",
     "text": [
      "setA {1, 2, 3, 4, 5, 6, 7, 8, 9}\n",
      "setB {1, 2, 3, 10, 11, 12} \n",
      "\n",
      "setA - setB {4, 5, 6, 7, 8, 9}\n",
      "setB - setA {10, 11, 12}\n",
      "(setA-setB)U(setB-setA) {4, 5, 6, 7, 8, 9, 10, 11, 12} \n",
      "\n",
      "setA->U {1, 2, 3, 4, 5, 6, 7, 8, 9, 10, 11, 12}\n",
      "setA->I {1, 2, 3}\n",
      "setA->setA-setB {4, 5, 6, 7, 8, 9}\n",
      "setA->(setA-setB)U(setB-setA) {4, 5, 6, 7, 8, 9, 10, 11, 12} \n",
      "\n",
      "False\n",
      "True\n",
      "True\n",
      "False\n",
      "False\n",
      "True\n"
     ]
    }
   ],
   "metadata": {
    "collapsed": true
   }
  },
  {
   "cell_type": "code",
   "execution_count": 53,
   "source": [
    "# frozenset = immutable version of a normal set\n",
    "a = frozenset([1,2,3,4,5,99,11])\n",
    "print(a)\n",
    "\n",
    "try:\n",
    "    a.update(setA) # error\n",
    "except:\n",
    "    print('error')\n",
    "\n",
    "try:\n",
    "    a.add(9)       # error\n",
    "except:\n",
    "    print('error')\n",
    "\n",
    "try:\n",
    "    a.remove(2)    # error\n",
    "except:\n",
    "    print('error')\n",
    "    \n",
    "a.union(setA)      # works"
   ],
   "outputs": [
    {
     "output_type": "stream",
     "name": "stdout",
     "text": [
      "frozenset({1, 2, 3, 4, 5, 99, 11})\n",
      "error\n",
      "error\n",
      "error\n"
     ]
    },
    {
     "output_type": "execute_result",
     "data": {
      "text/plain": [
       "frozenset({1, 2, 3, 4, 5, 6, 7, 8, 9, 11, 99})"
      ]
     },
     "metadata": {},
     "execution_count": 53
    }
   ],
   "metadata": {
    "collapsed": true
   }
  },
  {
   "cell_type": "markdown",
   "source": [
    "<a id='8'></a>\n",
    "## String \" ... \", ' ... ', \" .... ' ... \", ' ... \\\\' ...', \" \" \" ...\" \" \"\n",
    "Collection datatype which is ordered and ***immutable***, used for text representation."
   ],
   "metadata": {}
  },
  {
   "cell_type": "code",
   "execution_count": 54,
   "source": [
    "myStr = \"Hello World\"\n",
    "myStr = 'Hello World'\n",
    "print(myStr)\n",
    "\n",
    "# using single quotes '' in the text\n",
    "myStr = \"I'm a programmer\"\n",
    "myStr = 'I\\'m a programmer'\n",
    "print(myStr)\n",
    "\n",
    "# multiline strings (the \\ is used for continuation)\n",
    "myStr = \"\"\"\n",
    "Hello there. \\\n",
    "How are you?     \n",
    "I'm fine.     \n",
    "\"\"\"\n",
    "print(myStr)"
   ],
   "outputs": [
    {
     "output_type": "stream",
     "name": "stdout",
     "text": [
      "Hello World\n",
      "I'm a programmer\n",
      "\n",
      "Hello there. How are you?     \n",
      "I'm fine.     \n",
      "\n"
     ]
    }
   ],
   "metadata": {
    "collapsed": true
   }
  },
  {
   "cell_type": "code",
   "execution_count": 55,
   "source": [
    "\"\"\"\n",
    "Accesing elements, slice\n",
    "Reverse, Concatenate (+)\n",
    "Iterate -- for s in myStr\n",
    "Check for a char/ sub-string -- if c in myStr\n",
    "\n",
    "All EXACTLY same as list\n",
    "\"\"\""
   ],
   "outputs": [
    {
     "output_type": "execute_result",
     "data": {
      "text/plain": [
       "'\\nAccesing elements, slice\\nReverse, Concatenate (+)\\nIterate -- for s in myStr\\nCheck for a char/ sub-string -- if c in myStr\\n\\nAll EXACTLY same as list\\n'"
      ]
     },
     "metadata": {},
     "execution_count": 55
    }
   ],
   "metadata": {
    "collapsed": true
   }
  },
  {
   "cell_type": "code",
   "execution_count": 56,
   "source": [
    "myStr = \"     Hello Jigar      \"\n",
    "# remove start and end whitespace\n",
    "myStr = myStr.strip() # need to reassign as str are immutable\n",
    "print(myStr)"
   ],
   "outputs": [
    {
     "output_type": "stream",
     "name": "stdout",
     "text": [
      "Hello Jigar\n"
     ]
    }
   ],
   "metadata": {
    "collapsed": true
   }
  },
  {
   "cell_type": "code",
   "execution_count": 57,
   "source": [
    "# convert to upper / lower case\n",
    "myStr = myStr.upper() # reassignment as str is immutble\n",
    "print(myStr)\n",
    "myStr = myStr.lower()\n",
    "print(myStr)"
   ],
   "outputs": [
    {
     "output_type": "stream",
     "name": "stdout",
     "text": [
      "HELLO JIGAR\n",
      "hello jigar\n"
     ]
    }
   ],
   "metadata": {
    "collapsed": true
   }
  },
  {
   "cell_type": "code",
   "execution_count": 58,
   "source": [
    "# check if starts / ends with a char / str\n",
    "print(myStr.startswith('hello'))\n",
    "print(myStr.endswith('hello'))"
   ],
   "outputs": [
    {
     "output_type": "stream",
     "name": "stdout",
     "text": [
      "True\n",
      "False\n"
     ]
    }
   ],
   "metadata": {
    "collapsed": true
   }
  },
  {
   "cell_type": "code",
   "execution_count": 59,
   "source": [
    "# find 1st index of a char / sub-string\n",
    "print(myStr.find('o'))\n",
    "print(myStr.find('jig'))\n",
    "print(myStr.find('p')) # returns -1 when can't find"
   ],
   "outputs": [
    {
     "output_type": "stream",
     "name": "stdout",
     "text": [
      "4\n",
      "6\n",
      "-1\n"
     ]
    }
   ],
   "metadata": {
    "collapsed": true
   }
  },
  {
   "cell_type": "code",
   "execution_count": 60,
   "source": [
    "# count num of char / sub-str\n",
    "print(myStr.count('j'))"
   ],
   "outputs": [
    {
     "output_type": "stream",
     "name": "stdout",
     "text": [
      "1\n"
     ]
    }
   ],
   "metadata": {
    "collapsed": true
   }
  },
  {
   "cell_type": "code",
   "execution_count": 61,
   "source": [
    "# replace a char / sub-str\n",
    "replStr = myStr.replace('hello', 'hi') # nothing if 'hello' not found\n",
    "print(myStr, replStr)"
   ],
   "outputs": [
    {
     "output_type": "stream",
     "name": "stdout",
     "text": [
      "hello jigar hi jigar\n"
     ]
    }
   ],
   "metadata": {
    "collapsed": true
   }
  },
  {
   "cell_type": "code",
   "execution_count": 62,
   "source": [
    "# convert string into list of words\n",
    "myStr = \"How,are,you,doing?\"\n",
    "myList = myStr.split(',') # the default delimiter is space\n",
    "print(myList)\n",
    "\n",
    "# convert list of words into str by join method using delimiter in ''\n",
    "myStr = ''.join(myList)\n",
    "print(myStr)\n",
    "myStr = ' '.join(myList)\n",
    "print(myStr)\n",
    "myStr = ','.join(myList)\n",
    "print(myStr)"
   ],
   "outputs": [
    {
     "output_type": "stream",
     "name": "stdout",
     "text": [
      "['How', 'are', 'you', 'doing?']\n",
      "Howareyoudoing?\n",
      "How are you doing?\n",
      "How,are,you,doing?\n"
     ]
    }
   ],
   "metadata": {
    "collapsed": true
   }
  },
  {
   "cell_type": "code",
   "execution_count": 63,
   "source": [
    "myList = ['a'] * 10000000\n",
    "#print(myList)\n",
    "\n",
    "from timeit import default_timer as timer\n",
    "\n",
    "# bad python code\n",
    "start = timer()\n",
    "myStr = ''\n",
    "for c in myList:    # since a str is immutable, this will create\n",
    "    myStr += c      # and assign a new string every iteration\n",
    "stop = timer()\n",
    "print(stop-start)\n",
    "#print(myStr)\n",
    "\n",
    "# good python code\n",
    "start = timer()\n",
    "myStr = ''.join(myList)  # much faster \n",
    "stop = timer()\n",
    "print(stop-start)\n",
    "#print(myStr)        "
   ],
   "outputs": [
    {
     "output_type": "stream",
     "name": "stdout",
     "text": [
      "1.5437716669985093\n",
      "0.0812831399962306\n"
     ]
    }
   ],
   "metadata": {
    "collapsed": true
   }
  },
  {
   "cell_type": "code",
   "execution_count": 64,
   "source": [
    "# OLD - % placeholder (%s, %d, %f)\n",
    "var = \"Tom\"\n",
    "myStr = \"The varaible is %s\" %var\n",
    "print(myStr)\n",
    "\n",
    "var = 3\n",
    "myStr = \"The varaible is %d\" %var\n",
    "print(myStr)\n",
    "\n",
    "var = 3.12\n",
    "myStr = \"The varaible is %f\" %var\n",
    "print(myStr)\n",
    "\n",
    "# OLD - {} with .format() method, f-strings\n",
    "var = 5.12; var2 = 'a'\n",
    "myStr = \"The varaible is {} {:.2f}\".format(var2, 3*var)\n",
    "print(myStr)\n",
    "\n",
    "# NEW - f-strings (python > 3.6)\n",
    "var = 6.12; var2 = 'an'\n",
    "myStr = f\"The varaible is {var2} {4*var}\"\n",
    "print(myStr)"
   ],
   "outputs": [
    {
     "output_type": "stream",
     "name": "stdout",
     "text": [
      "The varaible is Tom\n",
      "The varaible is 3\n",
      "The varaible is 3.120000\n",
      "The varaible is a 15.36\n",
      "The varaible is an 24.48\n"
     ]
    }
   ],
   "metadata": {
    "collapsed": true
   }
  },
  {
   "cell_type": "markdown",
   "source": [
    "<a id='9'></a>\n",
    "## Collections\n",
    "This module implements special container datatypes and provides additional functionalities as compared to list, tuples and dicts. Five different types from the collection module -- Counter, namedtuple, OderedDict, defaultdict, deque."
   ],
   "metadata": {}
  },
  {
   "cell_type": "code",
   "execution_count": 65,
   "source": [
    "\"\"\" \n",
    "Counter --  container that stores the elements as dict keys an \n",
    "            their counts as dict value\n",
    "\"\"\"\n",
    "from collections import Counter\n",
    "\n",
    "# a can be any iterable\n",
    "a = \"'jnqaioaivoirevioanINOINQAOVOWEmvrempomvakmOKFPWMFMFP4OF`pomm'\"\n",
    "myCounter = Counter(a)\n",
    "print(myCounter)\n",
    "\n",
    "# Most common elemetns\n",
    "print(myCounter.most_common(3)) # top three # returns list of tuples\n",
    "\n",
    "# Ordered list with elements listed as per theri counts\n",
    "print(list(myCounter.elements()))"
   ],
   "outputs": [
    {
     "output_type": "stream",
     "name": "stdout",
     "text": [
      "Counter({'m': 6, 'o': 5, 'O': 5, 'a': 4, 'i': 4, 'v': 4, 'F': 4, \"'\": 2, 'n': 2, 'r': 2, 'e': 2, 'I': 2, 'N': 2, 'W': 2, 'p': 2, 'P': 2, 'M': 2, 'j': 1, 'q': 1, 'Q': 1, 'A': 1, 'V': 1, 'E': 1, 'k': 1, 'K': 1, '4': 1, '`': 1})\n",
      "[('m', 6), ('o', 5), ('O', 5)]\n",
      "[\"'\", \"'\", 'j', 'n', 'n', 'q', 'a', 'a', 'a', 'a', 'i', 'i', 'i', 'i', 'o', 'o', 'o', 'o', 'o', 'v', 'v', 'v', 'v', 'r', 'r', 'e', 'e', 'I', 'I', 'N', 'N', 'O', 'O', 'O', 'O', 'O', 'Q', 'A', 'V', 'W', 'W', 'E', 'm', 'm', 'm', 'm', 'm', 'm', 'p', 'p', 'k', 'K', 'F', 'F', 'F', 'F', 'P', 'P', 'M', 'M', '4', '`']\n"
     ]
    }
   ],
   "metadata": {
    "collapsed": true
   }
  },
  {
   "cell_type": "code",
   "execution_count": 66,
   "source": [
    "\"\"\" \n",
    "nametuple -- container that is like a light weight struct\n",
    "\n",
    "\"\"\"\n",
    "from collections import namedtuple\n",
    "\n",
    "Point = namedtuple('Point', 'x,y')\n",
    "pt = Point(1,-4)\n",
    "print(pt)\n",
    "print(pt.x, pt.y)"
   ],
   "outputs": [
    {
     "output_type": "stream",
     "name": "stdout",
     "text": [
      "Point(x=1, y=-4)\n",
      "1 -4\n"
     ]
    }
   ],
   "metadata": {
    "collapsed": true
   }
  },
  {
   "cell_type": "code",
   "execution_count": 67,
   "source": [
    "\"\"\"\n",
    "OrderedDict -- just like regular dict, but they remember the order in\n",
    "               which the items were inserted. This is now built in the\n",
    "               regular dict since Python > 3.7\n",
    "\"\"\"\n",
    "from collections import OrderedDict\n",
    "\n",
    "ordDict = {}#OrderedDict()\n",
    "ordDict['a'] = 1\n",
    "ordDict['b'] = 2\n",
    "ordDict['c'] = 3\n",
    "ordDict['d'] = 9\n",
    "\n",
    "print(ordDict)"
   ],
   "outputs": [
    {
     "output_type": "stream",
     "name": "stdout",
     "text": [
      "{'a': 1, 'b': 2, 'c': 3, 'd': 9}\n"
     ]
    }
   ],
   "metadata": {
    "collapsed": true
   }
  },
  {
   "cell_type": "code",
   "execution_count": 68,
   "source": [
    "\"\"\"\n",
    "defautldict -- just like regular dict, but it will have a default \n",
    "               value (of the given dtype) if the key has not been \n",
    "               set yet\n",
    "\"\"\"\n",
    "from collections import defaultdict\n",
    "\n",
    "dd = defaultdict(int)\n",
    "dd['a'] = 1\n",
    "dd['b'] = 2\n",
    "dd['c'] = 3\n",
    "\n",
    "print(dd)\n",
    "print(dd['a'], dd['x']) # for non-existant key it return default int "
   ],
   "outputs": [
    {
     "output_type": "stream",
     "name": "stdout",
     "text": [
      "defaultdict(<class 'int'>, {'a': 1, 'b': 2, 'c': 3})\n",
      "1 0\n"
     ]
    }
   ],
   "metadata": {
    "collapsed": true
   }
  },
  {
   "cell_type": "code",
   "execution_count": 69,
   "source": [
    "\"\"\"\n",
    "deque -- A list-like sequence optimized for data accesses near its \n",
    "         endpoints. Can be used to efficiently add / remove elemetns\n",
    "         from both ends \n",
    "\"\"\"\n",
    "from collections import deque\n",
    "\n",
    "deq = deque()\n",
    "\n",
    "# append from right (usual and default)\n",
    "deq.append(1)\n",
    "deq.append(2)\n",
    "\n",
    "print(deq)\n",
    "\n",
    "# append from left\n",
    "deq.appendleft(0)\n",
    "print(deq)\n",
    "\n",
    "# remove last element (usual and default)\n",
    "deq.pop()\n",
    "print(deq)\n",
    "\n",
    "# remove from left\n",
    "deq.popleft()\n",
    "print(deq)\n",
    "\n",
    "# extend with mutiple elements (usual and default)\n",
    "deq.extend([2,3,4])\n",
    "print(deq)\n",
    "\n",
    "# extend with mutiple elements from left\n",
    "deq.extendleft([5,6,7])\n",
    "print(deq) # check the order of append!\n",
    "\n",
    "# rotate to right (usual and default)\n",
    "deq.rotate(1) # 1 -> shift one place right\n",
    "print(deq)\n",
    "\n",
    "# rotate to left\n",
    "deq.rotate(-2) # -2 -> shift one place left\n",
    "print(deq)"
   ],
   "outputs": [
    {
     "output_type": "stream",
     "name": "stdout",
     "text": [
      "deque([1, 2])\n",
      "deque([0, 1, 2])\n",
      "deque([0, 1])\n",
      "deque([1])\n",
      "deque([1, 2, 3, 4])\n",
      "deque([7, 6, 5, 1, 2, 3, 4])\n",
      "deque([4, 7, 6, 5, 1, 2, 3])\n",
      "deque([6, 5, 1, 2, 3, 4, 7])\n"
     ]
    }
   ],
   "metadata": {
    "collapsed": true
   }
  },
  {
   "cell_type": "markdown",
   "source": [
    "<a id='10'></a>\n",
    "## Itertools\n",
    "Collection of tools for handling iterators (dataypes that can be used in a for loop, e.g., list, tuples, dict etc). Itertools offer some advanced tools like -- ***product, permutation, combination, accumulate, groupby*** and ***infinte iterators***. "
   ],
   "metadata": {}
  },
  {
   "cell_type": "code",
   "execution_count": 70,
   "source": [
    "\"\"\"\n",
    "product -- Cartesian product of input iterables. Equivalent to nested\n",
    "           for-loops.\n",
    "\"\"\"\n",
    "from itertools import product\n",
    "\n",
    "a = (1,2); b = (3,4)\n",
    "print(list(product(a,b)))"
   ],
   "outputs": [
    {
     "output_type": "stream",
     "name": "stdout",
     "text": [
      "[(1, 3), (1, 4), (2, 3), (2, 4)]\n"
     ]
    }
   ],
   "metadata": {
    "collapsed": true
   }
  },
  {
   "cell_type": "code",
   "execution_count": 71,
   "source": [
    "\"\"\"\n",
    "permutations -- Return all possible ordering of the input.\n",
    "\n",
    "\"\"\"\n",
    "from itertools import permutations\n",
    "\n",
    "a = [1,2,3]\n",
    "print(list(permutations(a, 2))) # permutations of length 2"
   ],
   "outputs": [
    {
     "output_type": "stream",
     "name": "stdout",
     "text": [
      "[(1, 2), (1, 3), (2, 1), (2, 3), (3, 1), (3, 2)]\n"
     ]
    }
   ],
   "metadata": {
    "collapsed": true
   }
  },
  {
   "cell_type": "code",
   "execution_count": 72,
   "source": [
    "\"\"\"\n",
    "combinations -- Return all possible combinations of the input.\n",
    "\n",
    "\"\"\"\n",
    "from itertools import combinations, combinations_with_replacement\n",
    "\n",
    "a = [1,2,3]\n",
    "print(list(combinations(a, 2))) # combinations of length 2\n",
    "print(list(combinations_with_replacement(a, 2))) # combinations_with_replacement of length 2"
   ],
   "outputs": [
    {
     "output_type": "stream",
     "name": "stdout",
     "text": [
      "[(1, 2), (1, 3), (2, 3)]\n",
      "[(1, 1), (1, 2), (1, 3), (2, 2), (2, 3), (3, 3)]\n"
     ]
    }
   ],
   "metadata": {
    "collapsed": true
   }
  },
  {
   "cell_type": "code",
   "execution_count": 73,
   "source": [
    "\"\"\"\n",
    "accumulate -- Return accumulates sums.\n",
    "\n",
    "\"\"\"\n",
    "from itertools import accumulate\n",
    "import operator\n",
    "\n",
    "a = [1,2,5,3,4]\n",
    "print(list(accumulate(a)))                     # sum (default)\n",
    "print(list(accumulate(a, func=operator.mul)))  # mul (using operator)\n",
    "print(list(accumulate(a, func=max)))  # max for each successive comparison"
   ],
   "outputs": [
    {
     "output_type": "stream",
     "name": "stdout",
     "text": [
      "[1, 3, 8, 11, 15]\n",
      "[1, 2, 10, 30, 120]\n",
      "[1, 2, 5, 5, 5]\n"
     ]
    }
   ],
   "metadata": {
    "collapsed": true
   }
  },
  {
   "cell_type": "code",
   "execution_count": 74,
   "source": [
    "\"\"\"\n",
    "groupby -- Return keys and groups from an iterable based on some rule.\n",
    "\n",
    "\"\"\"\n",
    "from itertools import groupby\n",
    "\n",
    "def smaller_than_3(x):\n",
    "    return x <= 3\n",
    "\n",
    "a = [1,2,3,4,5]\n",
    "\n",
    "# key specifies the rule to group\n",
    "grpObj = groupby(a, key=smaller_than_3)\n",
    "#grpObj = groupby(a, key=lambda x: x<=3)\n",
    "\n",
    "print(grpObj)\n",
    "\n",
    "for key, val in grpObj:\n",
    "    print(key, list(val))"
   ],
   "outputs": [
    {
     "output_type": "stream",
     "name": "stdout",
     "text": [
      "<itertools.groupby object at 0x7f7a4416e050>\n",
      "True [1, 2, 3]\n",
      "False [4, 5]\n"
     ]
    }
   ],
   "metadata": {
    "collapsed": true
   }
  },
  {
   "cell_type": "code",
   "execution_count": 75,
   "source": [
    "\"\"\"\n",
    "inifite iterators -- count, cycle, repeat\n",
    "\n",
    "\"\"\"\n",
    "from itertools import count, cycle, repeat\n",
    "\n",
    "for i in count(10): # infinite loop starting from 10\n",
    "    print(i)\n",
    "    if i == 12:\n",
    "        break\n",
    "\n",
    "        \n",
    "a = [1,2,3]\n",
    "for i in cycle(a):\n",
    "    print(i)\n",
    "    if i == 3:\n",
    "        break\n",
    "    \n",
    "for i in repeat('x', 3): # repeat 3 times\n",
    "    print(i)\n",
    "    "
   ],
   "outputs": [
    {
     "output_type": "stream",
     "name": "stdout",
     "text": [
      "10\n",
      "11\n",
      "12\n",
      "1\n",
      "2\n",
      "3\n",
      "x\n",
      "x\n",
      "x\n"
     ]
    }
   ],
   "metadata": {
    "collapsed": true
   }
  },
  {
   "cell_type": "markdown",
   "source": [
    "<a id='11'></a>\n",
    "## Lambda\n",
    "lambda [argument(s)]: [expression]\n",
    "\n",
    "A small one line aninymous function, defined without a name. Useful for a single function used only once in the code or for the hgher order functions (that take other functions as arguments). We will use lambda function with some functions like - sorted, map, filter and reduce."
   ],
   "metadata": {}
  },
  {
   "cell_type": "code",
   "execution_count": 76,
   "source": [
    "add10 = lambda x: x+10\n",
    "add10(5)"
   ],
   "outputs": [
    {
     "output_type": "execute_result",
     "data": {
      "text/plain": [
       "15"
      ]
     },
     "metadata": {},
     "execution_count": 76
    }
   ],
   "metadata": {
    "collapsed": true
   }
  },
  {
   "cell_type": "code",
   "execution_count": 77,
   "source": [
    "# multiple argumet lambda function\n",
    "mult = lambda x,y: x*y\n",
    "mult(2,5)"
   ],
   "outputs": [
    {
     "output_type": "execute_result",
     "data": {
      "text/plain": [
       "10"
      ]
     },
     "metadata": {},
     "execution_count": 77
    }
   ],
   "metadata": {
    "collapsed": true
   }
  },
  {
   "cell_type": "code",
   "execution_count": 78,
   "source": [
    "# sorted with lambda function as the key argument\n",
    "points2D = [(1,2),(3,-4),(-5,6),(7,8)] # list of tuples\n",
    "print(points2D)\n",
    "\n",
    "points2DSorted = sorted(points2D) \n",
    "print(points2DSorted) # sorts by 1st element of tuple (defalut)\n",
    "\n",
    "points2DSorted = sorted(points2D, key=lambda x: x[1]) \n",
    "print(points2DSorted) # sorts by 2nd element of tuple\n",
    "\n",
    "points2DSorted = sorted(points2D, key=lambda x: x[0]+x[1])\n",
    "print(points2DSorted) # sorts by sum of tuple elements"
   ],
   "outputs": [
    {
     "output_type": "stream",
     "name": "stdout",
     "text": [
      "[(1, 2), (3, -4), (-5, 6), (7, 8)]\n",
      "[(-5, 6), (1, 2), (3, -4), (7, 8)]\n",
      "[(3, -4), (1, 2), (-5, 6), (7, 8)]\n",
      "[(3, -4), (-5, 6), (1, 2), (7, 8)]\n"
     ]
    }
   ],
   "metadata": {
    "collapsed": true
   }
  },
  {
   "cell_type": "code",
   "execution_count": 79,
   "source": [
    "# map(func, sequence) with lambda function\n",
    "a = [1,2,3,4,5]\n",
    "b = list(map(lambda x: x*2, a))\n",
    "print(a)\n",
    "print(b)"
   ],
   "outputs": [
    {
     "output_type": "stream",
     "name": "stdout",
     "text": [
      "[1, 2, 3, 4, 5]\n",
      "[2, 4, 6, 8, 10]\n"
     ]
    }
   ],
   "metadata": {
    "collapsed": true
   }
  },
  {
   "cell_type": "code",
   "execution_count": 80,
   "source": [
    "# filter(func, sequence) with lambda function\n",
    "a = [1,2,3,4,5]\n",
    "b = list(filter(lambda x: x>2, a))\n",
    "print(a)\n",
    "print(b)"
   ],
   "outputs": [
    {
     "output_type": "stream",
     "name": "stdout",
     "text": [
      "[1, 2, 3, 4, 5]\n",
      "[3, 4, 5]\n"
     ]
    }
   ],
   "metadata": {
    "collapsed": true
   }
  },
  {
   "cell_type": "code",
   "execution_count": 81,
   "source": [
    "# reduce(func, sequence) with lambda function\n",
    "from functools import reduce\n",
    "\n",
    "a = [1,2,3,4,5]\n",
    "b = reduce(lambda x,y: x*y, a)\n",
    "print(a)\n",
    "print(b)"
   ],
   "outputs": [
    {
     "output_type": "stream",
     "name": "stdout",
     "text": [
      "[1, 2, 3, 4, 5]\n",
      "120\n"
     ]
    }
   ],
   "metadata": {
    "collapsed": true
   }
  },
  {
   "cell_type": "markdown",
   "source": [
    "<a id='12'></a>\n",
    "## Exceptions\n",
    "Syntax error vs exception. Examples of exceptions - *type* error, *module* error, *name* error, *file* error, *value*n error, *index* error, *key* error etc. Raising and exception using if and assert statements. Handle exceptions using ***try-except*** block. Create a custom exception using base exception class ***Exception***. "
   ],
   "metadata": {}
  },
  {
   "cell_type": "code",
   "execution_count": 82,
   "source": [
    "# syntax error\n",
    "a = 5 print(a)"
   ],
   "outputs": [
    {
     "output_type": "error",
     "ename": "SyntaxError",
     "evalue": "invalid syntax (986354755.py, line 2)",
     "traceback": [
      "\u001b[0;36m  File \u001b[0;32m\"/tmp/ipykernel_1043514/986354755.py\"\u001b[0;36m, line \u001b[0;32m2\u001b[0m\n\u001b[0;31m    a = 5 print(a)\u001b[0m\n\u001b[0m              ^\u001b[0m\n\u001b[0;31mSyntaxError\u001b[0m\u001b[0;31m:\u001b[0m invalid syntax\n"
     ]
    }
   ],
   "metadata": {
    "collapsed": true
   }
  },
  {
   "cell_type": "code",
   "execution_count": null,
   "source": [
    "# exception - type error\n",
    "a = 5 + '10'"
   ],
   "outputs": [],
   "metadata": {
    "collapsed": true
   }
  },
  {
   "cell_type": "code",
   "execution_count": null,
   "source": [
    "# exception - module error\n",
    "import someModuleWhichDoesntExist"
   ],
   "outputs": [],
   "metadata": {
    "collapsed": true
   }
  },
  {
   "cell_type": "code",
   "execution_count": null,
   "source": [
    "# exception - name error\n",
    "a = 5\n",
    "b = someVarNotYetDefined"
   ],
   "outputs": [],
   "metadata": {
    "collapsed": true
   }
  },
  {
   "cell_type": "code",
   "execution_count": null,
   "source": [
    "# exception - file error\n",
    "f = open('someFileWhichDoesntExist.txt')"
   ],
   "outputs": [],
   "metadata": {
    "collapsed": true
   }
  },
  {
   "cell_type": "code",
   "execution_count": null,
   "source": [
    "# exception - value error\n",
    "a = [1,2,3,4,5]\n",
    "a.remove(6)\n",
    "print(a)"
   ],
   "outputs": [],
   "metadata": {
    "collapsed": true
   }
  },
  {
   "cell_type": "code",
   "execution_count": null,
   "source": [
    "# exception - index error\n",
    "print(a[10])"
   ],
   "outputs": [],
   "metadata": {
    "collapsed": true
   }
  },
  {
   "cell_type": "code",
   "execution_count": null,
   "source": [
    "# exception - key error\n",
    "myDict = {'name': 'Max'}\n",
    "myDict['age']"
   ],
   "outputs": [],
   "metadata": {
    "collapsed": true
   }
  },
  {
   "cell_type": "code",
   "execution_count": null,
   "source": [
    "# raise an exception for some condition using if statement\n",
    "x = -5\n",
    "if x<0:\n",
    "    raise Exception('x should be +ve')"
   ],
   "outputs": [],
   "metadata": {
    "collapsed": true
   }
  },
  {
   "cell_type": "code",
   "execution_count": null,
   "source": [
    "# raise an exception for some condition as an assertion error\n",
    "x = -5\n",
    "assert (x>=0), 'x is not +ve' # displays message if condition is false"
   ],
   "outputs": [],
   "metadata": {
    "collapsed": true
   }
  },
  {
   "cell_type": "code",
   "execution_count": null,
   "source": [
    "# handle exception using try-except block \n",
    "# -- allows continuing program execution\n",
    "try:\n",
    "    a = 5/0\n",
    "except Exception as exMsg: # catch the exception message as exMsg\n",
    "    print(f'an error happened -- {exMsg}')\n",
    "    \n",
    "print('... program continued')"
   ],
   "outputs": [],
   "metadata": {
    "collapsed": true
   }
  },
  {
   "cell_type": "code",
   "execution_count": null,
   "source": [
    "# handle exception using try-except block with else clause\n",
    "# and do something based on the type of exception error\n",
    "try:\n",
    "    a = 5/1# 0\n",
    "    b = a + 4#'10'\n",
    "except ZeroDivisionError as exMsg: # catch ZeroDivisionError as exMsg\n",
    "    print(f'an error happened -- {exMsg}')\n",
    "except TypeError as exMsg:         # catch TypeError as exMsg\n",
    "    print(f'an error happened -- {exMsg}')\n",
    "else:                              # runs if no exception found\n",
    "    print(f'all good!')\n",
    "finally:                           # runs always\n",
    "    print(f'cleaning up ...')\n",
    "    \n",
    "print('... program continued')"
   ],
   "outputs": [],
   "metadata": {
    "collapsed": true
   }
  },
  {
   "cell_type": "code",
   "execution_count": null,
   "source": [
    "# defining our own exceptions by sub-classing \n",
    "# from the base exception class called Exception\n",
    "class ValueTooHighError(Exception):\n",
    "    pass\n",
    "\n",
    "class ValueTooSmallError(Exception):\n",
    "    def __init__(self, message, value):\n",
    "        self.message = message\n",
    "        self.value = value\n",
    "\n",
    "def test_value(x):\n",
    "    if x>100:\n",
    "        raise ValueTooHighError('value is too high')\n",
    "        # raise Exception('value is too high') # also works for now\n",
    "    if x<5:\n",
    "        raise ValueTooSmallError('value is too small', x)\n",
    "try:\n",
    "    #test_value(200)\n",
    "    test_value(2)\n",
    "except ValueTooHighError as exMsg:\n",
    "    print(exMsg)\n",
    "except ValueTooSmallError as exMsg:\n",
    "    print(f'{exMsg.value} {exMsg.message}')"
   ],
   "outputs": [],
   "metadata": {
    "collapsed": true
   }
  },
  {
   "cell_type": "markdown",
   "source": [
    "<a id='13'></a>\n",
    "## Random Numbers"
   ],
   "metadata": {}
  },
  {
   "cell_type": "code",
   "execution_count": null,
   "source": [
    "# generate pseudo random number (these numbers seem random but infact\n",
    "# they are reproducible)\n",
    "\n",
    "import random\n",
    "\n",
    "a = random.random() # random float in range (0,1) (default)\n",
    "print(a)\n",
    "\n",
    "b = random.uniform(1,10) # random float in range (a,b)\n",
    "print(b)\n",
    "\n",
    "c = random.randint(1,10) # random int in range [a,b]\n",
    "print(c)\n",
    "\n",
    "c = random.randrange(1,10) # random int in range (a,b)\n",
    "print(c)\n",
    "\n",
    "d = random.normalvariate(0,1) # random flaot from a normal dist\n",
    "print(d)\n",
    "\n",
    "myList = list(\"ABCDEFGHABCDEFGHAAAAAAAAAAAAAAAAAAAAAA\")\n",
    "print(myList)\n",
    "\n",
    "a = random.choice(myList) # pick random elem\n",
    "print(a)\n",
    "a = random.choices(myList, k=3) # pick random elems (multiple allowed)\n",
    "print(a)\n",
    "a = random.sample(myList, 3) # pick random elems\n",
    "print(a)\n",
    "\n",
    "random.shuffle(myList) # shuffle\n",
    "print(myList)"
   ],
   "outputs": [],
   "metadata": {
    "collapsed": true
   }
  },
  {
   "cell_type": "code",
   "execution_count": null,
   "source": [
    "# reproduing (fixing) these pseudo random numbers using seed method\n",
    "random.seed(1)\n",
    "print(random.random())\n",
    "print(random.randint(1,10))\n",
    "\n",
    "random.seed(2)\n",
    "print(random.random())\n",
    "print(random.randint(1,10))\n",
    "\n",
    "random.seed(1)\n",
    "print(random.random())\n",
    "print(random.randint(1,10))\n",
    "\n",
    "random.seed(2)\n",
    "print(random.random())\n",
    "print(random.randint(1,10))\n",
    "\n",
    "print('Since these random numbers are reproducible, \\\n",
    "you shouldn\\'t use it for security purposes.')"
   ],
   "outputs": [],
   "metadata": {
    "collapsed": true
   }
  },
  {
   "cell_type": "code",
   "execution_count": null,
   "source": [
    "# non-reproducible random numbers -- useful for passwords/ scurity \n",
    "# tokens / account authentication etc.\n",
    "\n",
    "import secrets\n",
    "\n",
    "a = secrets.randbelow(10) # random num in range (0,10)\n",
    "print(a)\n",
    "\n",
    "a = secrets.randbits(4) # random num using 4 different binary value\n",
    "print(a)                # lowest = 0000 (0), highest = 1111 (15)\n",
    "\n",
    "myList = list(\"ABCDEFGHABCDEFGHAAAAAAAAAAAAAAAAAAAAAA\")\n",
    "a = secrets.choice(myList) # random choice of elem\n",
    "print(a)"
   ],
   "outputs": [],
   "metadata": {
    "collapsed": true
   }
  },
  {
   "cell_type": "code",
   "execution_count": null,
   "source": [
    "# numpy random module for arrays -- different from the regular python\n",
    "# random genereator with also a different random seed\n",
    "\n",
    "import numpy as np\n",
    "\n",
    "a = np.random.rand(3, 3) # random 2D array of floats\n",
    "print(a)\n",
    "\n",
    "a = np.random.randint(0,10, (3,4)) # random 2D array of int in (0,10)\n",
    "print(a)                           # size passed as a tuple for > 1D\n",
    "\n",
    "np.random.shuffle(a) # shuffle an array in 1st axis (i.e. rows here)\n",
    "print(a)\n",
    "\n",
    "np.random.seed(1)           # setting numpy random seed\n",
    "print(np.random.rand(3, 3)) # (pseudo) random 2D array of floats"
   ],
   "outputs": [],
   "metadata": {
    "collapsed": true
   }
  },
  {
   "cell_type": "markdown",
   "source": [
    "<a id='14'></a>\n",
    "## Decorators\n",
    "A decorator is a function that takes another function as arguemnt and extends the behavior of this funciton w/o explicitely modifying it. It allows you to add new functionality to an existing function."
   ],
   "metadata": {}
  },
  {
   "cell_type": "code",
   "execution_count": null,
   "source": [
    "# functions can be passed as an arguemnt in another funciton\n",
    "\n",
    "def startEndDecorator(func):\n",
    "    \n",
    "    def wrapper():\n",
    "        print('Start--')\n",
    "        func()\n",
    "        print('--End')\n",
    "    \n",
    "    return wrapper\n",
    "\n",
    "\n",
    "def printName():\n",
    "    print(\"Alex\")\n",
    "\n",
    "printName() # simply prints the name\n",
    "\n",
    "# manually appying decorator to add a new functionality to printName()\n",
    "# by assigning it to the decorator function startEndDecorator(func)\n",
    "printName = startEndDecorator(printName)\n",
    "printName() # prints the name with Start-- and --End"
   ],
   "outputs": [],
   "metadata": {
    "collapsed": true
   }
  },
  {
   "cell_type": "code",
   "execution_count": null,
   "source": [
    "# a simple method to do the same as above is as follow\n",
    "\n",
    "import functools\n",
    "\n",
    "def startEndDecorator(func):\n",
    "    \n",
    "    @functools.wraps(func) # to avoid confusion for python\n",
    "    def wrapper(*args, **kwargs):\n",
    "        print('Start--')\n",
    "        result = func(*args, **kwargs)\n",
    "        print('--End')\n",
    "        return result\n",
    "    \n",
    "    return wrapper\n",
    "\n",
    "# extending the behavoir of printName() with a decorator\n",
    "@startEndDecorator \n",
    "def printName():\n",
    "    print(\"Alex\")\n",
    "\n",
    "printName()\n",
    "\n",
    "# extending the behavoir of add5() with a decorator\n",
    "# this will need the wrapper function to have arguments\n",
    "@startEndDecorator \n",
    "def add5(x):\n",
    "    return x+5\n",
    "\n",
    "result = add5(10)\n",
    "print(result)"
   ],
   "outputs": [],
   "metadata": {
    "collapsed": true
   }
  },
  {
   "cell_type": "code",
   "execution_count": null,
   "source": [
    "# use @functools.wraps(func) to avoid confusion in name\n",
    "print(help(add5))\n",
    "print(add5.__name__)"
   ],
   "outputs": [],
   "metadata": {
    "collapsed": true
   }
  },
  {
   "cell_type": "code",
   "execution_count": null,
   "source": [
    "# template for a decorator\n",
    "\n",
    "import functools\n",
    "\n",
    "def myDecorator(func):\n",
    "    \n",
    "    @functools.wraps(func) # to avoid confusion for python\n",
    "    def wrapper(*args, **kwargs):\n",
    "        # Do something before the func ...\n",
    "        result = func(*args, **kwargs)\n",
    "        # Do something before the func ...\n",
    "        return result\n",
    "    \n",
    "    return wrapper"
   ],
   "outputs": [],
   "metadata": {
    "collapsed": true
   }
  },
  {
   "cell_type": "code",
   "execution_count": null,
   "source": [
    "# decorator with arguments\n",
    "def repeat(numTimes):\n",
    "    def decoratorRepeat(func):\n",
    "        @functools.wraps(func)\n",
    "        def wrapper(*args, **kwargs):\n",
    "            for _ in range(numTimes):\n",
    "                result = func(*args, **kwargs)\n",
    "            return result\n",
    "        return wrapper\n",
    "    return decoratorRepeat\n",
    "\n",
    "@repeat(numTimes=3)\n",
    "def greet(name):\n",
    "    print(f'Hello {name}!')\n",
    "          \n",
    "greet('Alex')"
   ],
   "outputs": [],
   "metadata": {
    "collapsed": true
   }
  },
  {
   "cell_type": "code",
   "execution_count": null,
   "source": [
    "# nested decorators (are applied in the order they are listed)\n",
    "\n",
    "def messageHeaderFooter(func):\n",
    "    \n",
    "    @functools.wraps(func) # to avoid confusion for python\n",
    "    def wrapper(*args, **kwargs):\n",
    "        print(f'/***********/')\n",
    "        func(*args, **kwargs)\n",
    "        print(f'/***********/')\n",
    "    \n",
    "    return wrapper\n",
    "\n",
    "def startEndDecorator(func):\n",
    "    \n",
    "    @functools.wraps(func) # to avoid confusion for python\n",
    "    def wrapper(*args, **kwargs):\n",
    "        print('Start--')\n",
    "        result = func(*args, **kwargs)\n",
    "        print('--End')\n",
    "        return result\n",
    "    \n",
    "    return wrapper\n",
    "\n",
    "@messageHeaderFooter\n",
    "@startEndDecorator\n",
    "def sayHello(name):\n",
    "    greeting = f'Hello {name}'\n",
    "    print(greeting)\n",
    "    return greeting\n",
    "              \n",
    "sayHello('Mad')"
   ],
   "outputs": [],
   "metadata": {
    "collapsed": true
   }
  },
  {
   "cell_type": "code",
   "execution_count": null,
   "source": [
    "# class decorator\n",
    "\n",
    "class CountCalls:\n",
    "    \n",
    "    def __init__(self, func):\n",
    "        self.func = func\n",
    "        self.numCalls = 0\n",
    "        \n",
    "    def __call__(self, *args, **kwargs):\n",
    "        self.numCalls += 1\n",
    "        print(f'This is executed {self.numCalls} times')\n",
    "        return self.func(*args, **kwargs)\n",
    "        \n",
    "@CountCalls\n",
    "def sayHello():\n",
    "    print('Hello')\n",
    "    \n",
    "sayHello()\n",
    "sayHello()\n",
    "sayHello()"
   ],
   "outputs": [],
   "metadata": {
    "collapsed": true
   }
  },
  {
   "cell_type": "markdown",
   "source": [
    "Similarly, you can implement a timer decorator (to find the execution time of the function), debug decorator (to print out some more info of the function and its args), check decorator (to check of the args fullfil some requirements an adapt the behavior accordinly), cache the return values, add info or update the state."
   ],
   "metadata": {}
  },
  {
   "cell_type": "code",
   "execution_count": null,
   "source": [
    "# template for a decorator\n",
    "\n",
    "import functools\n",
    "from timeit import default_timer as timer\n",
    "\n",
    "def timerDecorator(func):\n",
    "    \n",
    "    @functools.wraps(func) # to avoid confusion for python\n",
    "    def wrapper(*args, **kwargs):\n",
    "        start = timer()\n",
    "        result = func(*args, **kwargs)\n",
    "        end = timer()\n",
    "        return result, (end-start)\n",
    "    \n",
    "    return wrapper\n",
    "\n",
    "# the above decorator will be used later"
   ],
   "outputs": [],
   "metadata": {
    "collapsed": true
   }
  },
  {
   "cell_type": "markdown",
   "source": [
    "<a id='15'></a>\n",
    "## Genarators\n",
    "These are the functions that return an object that can be iterated over. They generate the items inside the object, meaning that they generate the items only one at a time and onyl when you ask for it. This makes them much more memory efficient than other sequence objects when you need to deal with large datasets."
   ],
   "metadata": {}
  },
  {
   "cell_type": "code",
   "execution_count": null,
   "source": [
    "def myGenerator():\n",
    "    yield 5  # instead of return\n",
    "    yield 2\n",
    "    yield 3\n",
    "    \n",
    "g = myGenerator()\n",
    "for i in g:\n",
    "    print(i)\n",
    "\n",
    "g = myGenerator()\n",
    "\n",
    "value = next(g) # stops at the end of 1st yield\n",
    "print(value)\n",
    "\n",
    "value = next(g) # start from 2nd yield, stops at the end of 2nd\n",
    "print(value)\n",
    "\n",
    "value = next(g) # start from 2nd yield, stops at the end of 2nd\n",
    "print(value)"
   ],
   "outputs": [],
   "metadata": {
    "collapsed": true
   }
  },
  {
   "cell_type": "code",
   "execution_count": null,
   "source": [
    "# a generator can be used with the funcs that take iterable as arg\n",
    "g = myGenerator()\n",
    "print(sum(g))\n",
    "\n",
    "g = myGenerator()\n",
    "print(sorted(g))"
   ],
   "outputs": [],
   "metadata": {
    "collapsed": true
   }
  },
  {
   "cell_type": "code",
   "execution_count": null,
   "source": [
    "# execution of a generator\n",
    "\n",
    "def countDown(num):\n",
    "    print('Starting')\n",
    "    while num > 0:\n",
    "        yield num\n",
    "        num -= 1\n",
    "        \n",
    "cd = countDown(4)\n",
    "print(next(cd))\n",
    "print(next(cd))\n",
    "print(next(cd))\n",
    "print(next(cd))\n",
    "print(next(cd))"
   ],
   "outputs": [],
   "metadata": {
    "collapsed": true
   }
  },
  {
   "cell_type": "code",
   "execution_count": null,
   "source": [
    "# generators are very memory and time efficient\n",
    "\n",
    "import sys\n",
    "\n",
    "@timerDecorator\n",
    "def firstN(n):\n",
    "    nums = []\n",
    "    num = 0\n",
    "    while num < n:\n",
    "        nums.append(num) # inefficient\n",
    "        num += 1\n",
    "        \n",
    "    return nums\n",
    "\n",
    "myList, dt = firstN(1000000)\n",
    "print(f'Size of usual list object = {sys.getsizeof(myList)}')\n",
    "print(f'Sum of usual list object  = {sum(myList)}')\n",
    "print(f'Time taken to make the list = {dt} s')\n",
    "\n",
    "\n",
    "@timerDecorator\n",
    "def firstNGenerator(n):\n",
    "    num = 0\n",
    "    while num < n:\n",
    "        yield num # efficient\n",
    "        num += 1\n",
    "        \n",
    "myList, dt = firstNGenerator(1000000)\n",
    "print(f'Size of generator object = {sys.getsizeof(myList)}')\n",
    "print(f'Sum of generator object  = {sum(myList)}')\n",
    "print(f'Time taken to make the list = {dt} s')\n",
    "\n",
    "print(f'\\nAlso, when using generators, we do not have to wait until all the elements are \\\n",
    "generated before we start to use them.')"
   ],
   "outputs": [],
   "metadata": {
    "collapsed": true
   }
  },
  {
   "cell_type": "code",
   "execution_count": null,
   "source": [
    "# example Fibonacci sequence\n",
    "\n",
    "def fibonacciSeq(limit):\n",
    "    a, b = 0, 1\n",
    "    while a < limit:\n",
    "        yield a\n",
    "        a, b = b, a+b\n",
    "\n",
    "fib = fibonacciSeq(30) \n",
    "\n",
    "for i in fib:\n",
    "    print(i)"
   ],
   "outputs": [],
   "metadata": {
    "collapsed": true
   }
  },
  {
   "cell_type": "code",
   "execution_count": null,
   "source": [
    "import sys\n",
    "\n",
    "# list comprehension\n",
    "myList = [i for i in range(1000000) if i%2==0]      # all even\n",
    "print(f'Size of list object = {sys.getsizeof(myList)}')\n",
    "#print(myList)\n",
    "    \n",
    "# generator expression\n",
    "myGenerator = (i for i in range(1000000) if i%2==0) # all even\n",
    "print(f'Size of generator object = {sys.getsizeof(myGenerator)}')\n",
    "#for i in myGenerator:\n",
    "#    print(i)\n",
    "    \n",
    "# converting a generator object to a list\n",
    "myGenerator = (i for i in range(10) if i%2==0) # all even in 0..9\n",
    "myGeneratorList = list(myGenerator)\n",
    "print(myGeneratorList)\n",
    "print(sys.getsizeof(myList))\n"
   ],
   "outputs": [],
   "metadata": {
    "collapsed": true
   }
  },
  {
   "cell_type": "markdown",
   "source": [
    "<a id='16'></a>\n",
    "## Threading vs Multiprocessing\n",
    "\n",
    "- Process is an instance of a program. Can take advantage of multiple CPU and cores, and have a separate memory space. Good for CPU bound processing. A new process is stared independently of other processes. One GIL for each process is needed. Mutiprocessing is slower to start, need more memory, IPC (inter-process communication) is complicated and heavyweight as compared to threading. They are interruptable/killable.\n",
    "\n",
    "- Thread is an entity withing a process that can be scheduled for execution, also called light weight process. All threads in a process share the same memory and are faster to start. They are great for I/O bound tasks. GIL allows only one thread at a time, and has no effect for CPU bound task. They aren't interruptable/killable. Race condition may arise due to shared memory.\n",
    "\n",
    "- GIL is a Global Interpreter Lock and it allows only one thread at a time to execute."
   ],
   "metadata": {}
  },
  {
   "cell_type": "code",
   "execution_count": null,
   "source": [
    "# multithreading\n",
    "\n",
    "from threading import Thread\n",
    "import os\n",
    "import time\n",
    "\n",
    "def squareNumbers(limit):\n",
    "    for i in range(limit):\n",
    "        i**2\n",
    "        time.sleep(1)\n",
    "\n",
    "threads = []\n",
    "numThreads = 10\n",
    "print(f'Number of Threads = {numThreads}')    \n",
    "    \n",
    "# create threads (creation)\n",
    "for i in range(numThreads):\n",
    "    t = Thread(target=squareNumbers, args=(10,))\n",
    "    threads.append(t)\n",
    "\n",
    "# start threads (execution)\n",
    "for t in threads:\n",
    "    t.start()\n",
    "    \n",
    "# join threds - waiting for all threads to finish\n",
    "# and block the main thread until these threads are done\n",
    "for t in threads:\n",
    "    t.join() \n",
    "    \n",
    "print(f'end main')"
   ],
   "outputs": [],
   "metadata": {
    "collapsed": true
   }
  },
  {
   "cell_type": "code",
   "execution_count": null,
   "source": [
    "# multiprocessing\n",
    "\n",
    "from multiprocessing import Process\n",
    "import os\n",
    "import time\n",
    "\n",
    "def squareNumbers(limit):\n",
    "    for i in range(limit):\n",
    "        i**2\n",
    "        time.sleep(1)\n",
    "\n",
    "processes = []\n",
    "numProcesses = int(os.cpu_count()/2)\n",
    "print(f'Number of CPUs = {numProcesses}')    \n",
    "    \n",
    "# create processes (creation) and assign a function to each\n",
    "for i in range(numProcesses):\n",
    "    p = Process(target=squareNumbers, args=(10,))\n",
    "    processes.append(p)\n",
    "\n",
    "# start all processes (execution)\n",
    "for p in processes:\n",
    "    p.start()\n",
    "\n",
    "# join processes - waiting for all processes to finish\n",
    "# and block the main program until these processes are done\n",
    "for p in processes:\n",
    "    p.join() \n",
    "    \n",
    "print(f'end main')"
   ],
   "outputs": [],
   "metadata": {
    "collapsed": true
   }
  },
  {
   "cell_type": "markdown",
   "source": [
    "<a id='17'></a>\n",
    "## Multithreading"
   ],
   "metadata": {}
  },
  {
   "cell_type": "markdown",
   "source": [
    "### Locks"
   ],
   "metadata": {}
  },
  {
   "cell_type": "code",
   "execution_count": null,
   "source": [
    "from threading import Thread, Lock # to lock some part of code\n",
    "import time\n",
    "\n",
    "\n",
    "def increase(lock=Lock()):\n",
    "    global databaseValue\n",
    "    \n",
    "    #lock.acquire()  # strating the lock for the below code\n",
    "    \n",
    "    with lock: # using lock as a context manager\n",
    "        localCopy = databaseValue\n",
    "        # processing\n",
    "        localCopy += 1\n",
    "        time.sleep(1) # switching (w/o lock) to other thread while waiting\n",
    "        databaseValue = localCopy # a race condition (w/o lock)\n",
    "    \n",
    "    #lock.release() # always needed with lock.acquire()\n",
    "\n",
    "\n",
    "# serial\n",
    "databaseValue = 0\n",
    "\n",
    "if __name__ == \"__main__\":\n",
    "    \n",
    "    print(f'start value {databaseValue}')\n",
    "\n",
    "    increase()\n",
    "    increase()\n",
    "    \n",
    "    print(f'end value {databaseValue}')\n",
    "    \n",
    "    print('\\nend main\\n')\n",
    "    \n",
    "\n",
    "\n",
    "# parallel\n",
    "databaseValue = 0\n",
    "\n",
    "if __name__ == \"__main__\":\n",
    "    \n",
    "    lock = Lock()  # to avoid race conditions\n",
    "    \n",
    "    print(f'start value {databaseValue}')\n",
    "\n",
    "    thread1 = Thread(target=increase)#, args=(lock, ))\n",
    "    thread2 = Thread(target=increase)#, args=(lock, ))\n",
    "    thread3 = Thread(target=increase)#, args=(lock, ))\n",
    "    \n",
    "    thread1.start()\n",
    "    thread2.start()\n",
    "    thread3.start()\n",
    "    \n",
    "    thread1.join()\n",
    "    thread2.join()\n",
    "    thread3.join()\n",
    "\n",
    "    print(f'end value {databaseValue}')\n",
    "    \n",
    "    print('\\nend main\\n')\n"
   ],
   "outputs": [],
   "metadata": {
    "collapsed": true
   }
  },
  {
   "cell_type": "markdown",
   "source": [
    "### Queues \n",
    "- excellent for thread and process safe data exchanges"
   ],
   "metadata": {}
  },
  {
   "cell_type": "code",
   "execution_count": null,
   "source": [
    "from threading import Thread, Lock # to lock some part of code\n",
    "from queue import Queue\n",
    "import time\n",
    "\n",
    "if __name__ == \"__main__\":\n",
    "    \n",
    "    q = Queue()\n",
    "    \n",
    "    q.put(1)\n",
    "    q.put(2)\n",
    "    q.put(3)\n",
    "    \n",
    "    # 3 2 1 --->\n",
    "    \n",
    "    first = q.get() # gets and removes the first item\n",
    "    print(first)\n",
    "    \n",
    "    first = q.get()\n",
    "    print(first)\n",
    "    \n",
    "    print('\\nend main\\n')\n",
    "    "
   ],
   "outputs": [],
   "metadata": {
    "collapsed": true
   }
  },
  {
   "cell_type": "code",
   "execution_count": null,
   "source": [
    "# example\n",
    "\n",
    "from threading import Thread, Lock, current_thread\n",
    "from queue import Queue\n",
    "import time\n",
    "\n",
    "\n",
    "def worker(q, lock=Lock()):\n",
    "    while True:\n",
    "        value = q.get() # thread safe, \n",
    "                        # gets item as soon as items are available\n",
    "        \n",
    "        with lock:\n",
    "            # processing\n",
    "            print(f'in {current_thread().name} got {value}')\n",
    "        \n",
    "        q.task_done()\n",
    "\n",
    "\n",
    "if __name__ == \"__main__\":\n",
    "    \n",
    "    q = Queue()\n",
    "    \n",
    "    numThreads = 10\n",
    "    \n",
    "    for i in range(numThreads):\n",
    "        \n",
    "        thread = Thread(target=worker, args=(q, ))\n",
    "        \n",
    "        thread.deamon=True # a deamon thread dies when the main\n",
    "                           # thread dies i.e. the last line of\n",
    "                           # __main__\n",
    "        thread.start()\n",
    "        \n",
    "    for i in range(1,21):\n",
    "        q.put(i) # thread safe\n",
    "                 # feeding the items into the queue\n",
    "        \n",
    "    q.join()\n",
    "    \n",
    "    print('\\nend main\\n') # the main thread dies after this line"
   ],
   "outputs": [],
   "metadata": {
    "collapsed": true
   }
  },
  {
   "cell_type": "markdown",
   "source": [
    "<a id='18'></a>\n",
    "## Multiprocessing"
   ],
   "metadata": {}
  },
  {
   "cell_type": "markdown",
   "source": [
    "### Value, Array\n",
    "Special shares memory objects to share data b/w processes"
   ],
   "metadata": {}
  },
  {
   "cell_type": "code",
   "execution_count": null,
   "source": [
    "from multiprocessing import Process, Value, Array, Lock\n",
    "import time\n",
    "\n",
    "def add100toNum(num, lock=Lock()):\n",
    "\n",
    "    for i in range(100):\n",
    "        #time.sleep(0.01)\n",
    "        with lock:\n",
    "            num.value += 1 # race condition (w/o lock)\n",
    "\n",
    "\n",
    "def add100toNums(nums, lock=Lock()):\n",
    "\n",
    "    # processing\n",
    "    for n in range(len(nums)):\n",
    "        for i in range(100):\n",
    "            #time.sleep(0.01)\n",
    "            with lock:\n",
    "                nums[n] += 1 # race condition (w/o lock)\n",
    "\n",
    "\n",
    "if __name__ == \"__main__\":\n",
    "\n",
    "    # single shared value\n",
    "    sharedNumber = Value('i', 0) # i = int, 0 = starting value\n",
    "    \n",
    "    print(f'Number at beginning is {sharedNumber.value}')\n",
    "\n",
    "    p1 = Process(target=add100toNum, args=(sharedNumber, ))\n",
    "    p2 = Process(target=add100toNum, args=(sharedNumber, ))\n",
    "\n",
    "    p1.start()\n",
    "    p2.start()\n",
    "\n",
    "    p1.join()\n",
    "    p2.join()\n",
    "    \n",
    "    print(f'Number at end is {sharedNumber.value}')\n",
    "    \n",
    "    # shared array\n",
    "    sharedArray = Array('d', [1.0,2.9,3.5]) # d = double, [...] = list\n",
    "    \n",
    "    print(f'\\nArray at beginning is {sharedArray[:]}')\n",
    "    \n",
    "    p1 = Process(target=add100toNums, args=(sharedArray, ))\n",
    "    p2 = Process(target=add100toNums, args=(sharedArray, ))\n",
    "\n",
    "    p1.start()\n",
    "    p2.start()\n",
    "\n",
    "    p1.join()\n",
    "    p2.join()\n",
    "    \n",
    "    print(f'Array at end is {sharedArray[:]}')\n",
    "\n",
    "    print(f'\\nend main\\n')"
   ],
   "outputs": [],
   "metadata": {
    "collapsed": true
   }
  },
  {
   "cell_type": "markdown",
   "source": [
    "### Process Pool\n",
    "Can be used to manage mutiple (worker) process to which jobs can be submitted. IT can manage the available processes and can split the data into smaller chunks of data which can then be processed in parallel by different processes."
   ],
   "metadata": {}
  },
  {
   "cell_type": "code",
   "execution_count": null,
   "source": [
    "from multiprocessing import Pool\n",
    "import time\n",
    "\n",
    "def cube(num):\n",
    "    return num**3\n",
    "\n",
    "\n",
    "if __name__ == \"__main__\":\n",
    "\n",
    "    numbers = range(100)\n",
    "\n",
    "    pool = Pool(processes=4) # default uses all procs\n",
    "    \n",
    "    # map (automatically allocate the max num of procs available,\n",
    "    # and create different processes, split numbers into chunks \n",
    "    # and submit it to the func cube, which is then executed in\n",
    "    # parallel by different processes)\n",
    "    result = pool.map(cube, numbers)\n",
    "    print(result)\n",
    "    \n",
    "    # close\n",
    "    pool.close()\n",
    "\n",
    "    # join (wait for the pool to process all the calculations)\n",
    "    pool.join()\n",
    "    \n",
    "    print(f'\\nend main\\n')"
   ],
   "outputs": [],
   "metadata": {
    "collapsed": true
   }
  },
  {
   "cell_type": "markdown",
   "source": [
    "<a id='19'></a>\n",
    "## Function Arguments\n",
    "- Parameters: are the varaibles that are defnied or used inside paranthesis while defining a function.\n",
    "- Argumetns: are the values passed for these parameters while calling a function."
   ],
   "metadata": {}
  },
  {
   "cell_type": "code",
   "execution_count": 83,
   "source": [
    "def printName(name):  # name --> parameter\n",
    "    print(name)\n",
    "    \n",
    "printName('Mad') # 'Mad' --> argument"
   ],
   "outputs": [
    {
     "output_type": "stream",
     "name": "stdout",
     "text": [
      "Mad\n"
     ]
    }
   ],
   "metadata": {
    "collapsed": true
   }
  },
  {
   "cell_type": "code",
   "execution_count": 84,
   "source": [
    "def foo(a,b,c='defaultC'): # c has a default value\n",
    "    print(a,b,c)\n",
    "    \n",
    "foo(1,2,3)       # using positional aruguments (order important)\n",
    "foo(b=2,a=1,c=3) # using keyword arguments (order unimportant)\n",
    "\n",
    "#foo(1,b=2,c)    # can't use a positional arg after a kwyword arg\n",
    "foo(1,b=2,c=3)   # works fine\n",
    "\n",
    "foo(1,2)         # using default value for c\n",
    "print('\\nNOTE - All default parameters must be defined at the end of \\\n",
    "function parameter list. So def foo(a=1,b,c=5) will give an error.')"
   ],
   "outputs": [
    {
     "output_type": "stream",
     "name": "stdout",
     "text": [
      "1 2 3\n",
      "1 2 3\n",
      "1 2 3\n",
      "1 2 defaultC\n",
      "\n",
      "NOTE - All default parameters must be defined at the end of function parameter list. So def foo(a=1,b,c=5) will give an error.\n"
     ]
    }
   ],
   "metadata": {
    "collapsed": true
   }
  },
  {
   "cell_type": "code",
   "execution_count": 85,
   "source": [
    "# variable length arguments\n",
    "# *args    --> (tuple) any number of positional arguments\n",
    "# **kawrgs --> (dictionary) any number of keyword arguments \n",
    "# *args, **kawrgs can take any other name like *c, *d\n",
    "\n",
    "def foo(a, b, *args, **kwargs):\n",
    "    print(a, b)\n",
    "    for arg in args:\n",
    "        print(arg)\n",
    "    for key in kwargs:\n",
    "        print(key, kwargs[key])\n",
    "    print('\\n')\n",
    "        \n",
    "foo(1,2, 3,4,5, six=6, seven=7)\n",
    "foo(1,2, six=6, seven=7) # using only keywords args (kwargs)\n",
    "foo(1,2, 3,4,5) # using only positional args (args)"
   ],
   "outputs": [
    {
     "output_type": "stream",
     "name": "stdout",
     "text": [
      "1 2\n",
      "3\n",
      "4\n",
      "5\n",
      "six 6\n",
      "seven 7\n",
      "\n",
      "\n",
      "1 2\n",
      "six 6\n",
      "seven 7\n",
      "\n",
      "\n",
      "1 2\n",
      "3\n",
      "4\n",
      "5\n",
      "\n",
      "\n"
     ]
    }
   ],
   "metadata": {
    "collapsed": true
   }
  },
  {
   "cell_type": "code",
   "execution_count": 86,
   "source": [
    "# forced keyword arguments\n",
    "\n",
    "# every parameter after * must be a kwarg\n",
    "def foo(a,b, *, c,d): \n",
    "    print(a,b,c,d,'\\n')\n",
    "    \n",
    "foo(1,2,c=3,d=4)\n",
    "\n",
    "# every parameter after *args must be a kwarg\n",
    "def foo(*args, c,d): \n",
    "    for arg in args:\n",
    "        print(arg)\n",
    "    print(c,d,'\\n')\n",
    "    \n",
    "foo(1,2, c=3,d=4)"
   ],
   "outputs": [
    {
     "output_type": "stream",
     "name": "stdout",
     "text": [
      "1 2 3 4 \n",
      "\n",
      "1\n",
      "2\n",
      "3 4 \n",
      "\n"
     ]
    }
   ],
   "metadata": {
    "collapsed": true
   }
  },
  {
   "cell_type": "code",
   "execution_count": 87,
   "source": [
    "# unpacking arguments\n",
    "\n",
    "def foo(a,b,c):\n",
    "    print(a,b,c)\n",
    "\n",
    "myList = [1,2,3]\n",
    "foo(*myList) # unpacking using a list (as positional args)\n",
    "\n",
    "myTuple = (1,2,3)\n",
    "foo(*myTuple) # unpacking using a tuple (as positional args)\n",
    "\n",
    "myDict = {'a':1,'b':2,'c':3} # the keys must match the \n",
    "                             # parameter names in the function\n",
    "foo(**myDict) # unpacking using a dict (as keyword args)"
   ],
   "outputs": [
    {
     "output_type": "stream",
     "name": "stdout",
     "text": [
      "1 2 3\n",
      "1 2 3\n",
      "1 2 3\n"
     ]
    }
   ],
   "metadata": {
    "collapsed": true
   }
  },
  {
   "cell_type": "code",
   "execution_count": 88,
   "source": [
    "# local vs global varaibles\n",
    "\n",
    "# global var\n",
    "number = 0\n",
    "\n",
    "def foo():\n",
    "    global number\n",
    "    number = 3 # conflict (if global var number not declared)\n",
    "    print(f'Number inside function: {number}')\n",
    "\n",
    "foo()\n",
    "print(f'Number outside function: {number}') # modified by foo()"
   ],
   "outputs": [
    {
     "output_type": "stream",
     "name": "stdout",
     "text": [
      "Number inside function: 3\n",
      "Number outside function: 3\n"
     ]
    }
   ],
   "metadata": {
    "collapsed": true
   }
  },
  {
   "cell_type": "code",
   "execution_count": 89,
   "source": [
    "# python uses call by object (see #1, #2, #3, #4, #5) instead of\n",
    "# call by value or reference\n",
    "\n",
    "def foo(x):\n",
    "    x = 5\n",
    "    \n",
    "var = 10\n",
    "foo(var)    #2 immutable object (int here) can NOT be changed\n",
    "print(var)  #  thus var remains unchanged\n",
    "\n",
    "\n",
    "def foo(someList):\n",
    "    someList.append(4) #2 mutable object can be changed\n",
    "    someList[0] = -100 #3 immutable object within a mutable object\n",
    "                       #  can be changed\n",
    "    someList += [200,300] # still appending w/o creating new list\n",
    "\n",
    "myList = [1,2,3]\n",
    "foo(myList)   #4 type of myList is a list, which is an mutable and\n",
    "print(myList) # thus gets changed, but a tuple will give an error\n",
    "\n",
    "\n",
    "def foo(someList):\n",
    "    someList = ['p','q','r'] #5 rebinding the reference will not\n",
    "                             # change the original refernce\n",
    "\n",
    "myList = [1,2,3]\n",
    "foo(myList)   # type of myList is a list, which is an mutable but\n",
    "print(myList) # rebinding doesn't change the older reference\n",
    "\n",
    "\n",
    "def foo(someList):\n",
    "    someList = someList + [200,300] # creating new list is same as\n",
    "                                    # rebinding the reference\n",
    "\n",
    "myList = [1,2,3]\n",
    "foo(myList)   # type of myList is a list, which is an mutable but\n",
    "print(myList) # rebinding by creating new list doesn't change the\n",
    "              # older reference"
   ],
   "outputs": [
    {
     "output_type": "stream",
     "name": "stdout",
     "text": [
      "10\n",
      "[-100, 2, 3, 4, 200, 300]\n",
      "[1, 2, 3]\n",
      "[1, 2, 3]\n"
     ]
    }
   ],
   "metadata": {
    "collapsed": true
   }
  },
  {
   "cell_type": "markdown",
   "source": [
    "<a id='20'></a>\n",
    "## Asterisk (\\*) Operator"
   ],
   "metadata": {}
  },
  {
   "cell_type": "code",
   "execution_count": 90,
   "source": [
    "# used to create lists, tuples or strings with repeated elements\n",
    "\n",
    "zerones = [0, 1]*5\n",
    "print(zerones)\n",
    "\n",
    "zerones = (0, 1)*5\n",
    "print(zerones)\n",
    "\n",
    "zerones = '0 1 '*5\n",
    "print(zerones)"
   ],
   "outputs": [
    {
     "output_type": "stream",
     "name": "stdout",
     "text": [
      "[0, 1, 0, 1, 0, 1, 0, 1, 0, 1]\n",
      "(0, 1, 0, 1, 0, 1, 0, 1, 0, 1)\n",
      "0 1 0 1 0 1 0 1 0 1 \n"
     ]
    }
   ],
   "metadata": {
    "collapsed": true
   }
  },
  {
   "cell_type": "code",
   "execution_count": 91,
   "source": [
    "# used for variable length arguments\n",
    "# *args    --> (tuple) any number of positional arguments\n",
    "# **kawrgs --> (dictionary) any number of keyword arguments \n",
    "\n",
    "def foo(a, b, *args, **kwargs):\n",
    "    print(a, b)\n",
    "    for arg in args:\n",
    "        print(arg)\n",
    "    for key in kwargs:\n",
    "        print(key, kwargs[key])\n",
    "    print('\\n')\n",
    "        \n",
    "foo(1,2, 3,4,5, six=6, seven=7)"
   ],
   "outputs": [
    {
     "output_type": "stream",
     "name": "stdout",
     "text": [
      "1 2\n",
      "3\n",
      "4\n",
      "5\n",
      "six 6\n",
      "seven 7\n",
      "\n",
      "\n"
     ]
    }
   ],
   "metadata": {
    "collapsed": true
   }
  },
  {
   "cell_type": "code",
   "execution_count": 92,
   "source": [
    "# used for unpacking arguments\n",
    "\n",
    "def foo(a,b,c):\n",
    "    print(a,b,c)\n",
    "\n",
    "myList = [1,2,3]\n",
    "foo(*myList) # unpacking using a list (as positional args)\n",
    "\n",
    "\n",
    "numbers = [1,2,3,4,5,6]\n",
    "#numbers = (1,2,3,4,5,6) # tuple works as well\n",
    "\n",
    "# used to unpack all the elements except the last one into a list\n",
    "*beginning, last = numbers\n",
    "print(beginning)\n",
    "print(last)\n",
    "\n",
    "# used to unpack all the elements except the firt one into a list\n",
    "beginning, *last = numbers\n",
    "print(beginning)\n",
    "print(last)\n",
    "\n",
    "# used to unpack all the elements except the first and last\n",
    "beginning, *middle, last = numbers\n",
    "print(beginning)\n",
    "print(middle)\n",
    "print(last)"
   ],
   "outputs": [
    {
     "output_type": "stream",
     "name": "stdout",
     "text": [
      "1 2 3\n",
      "[1, 2, 3, 4, 5]\n",
      "6\n",
      "1\n",
      "[2, 3, 4, 5, 6]\n",
      "1\n",
      "[2, 3, 4, 5]\n",
      "6\n"
     ]
    }
   ],
   "metadata": {
    "collapsed": true
   }
  },
  {
   "cell_type": "code",
   "execution_count": 93,
   "source": [
    "# used to merge iterables into a list\n",
    "\n",
    "myTuple = (1,2,3)\n",
    "myList  = [4,5,6]\n",
    "mySet   = {7,8,9}\n",
    "\n",
    "newList = [*myTuple, *myList, *mySet]\n",
    "print(newList)\n",
    "\n",
    "# used to merge dicts into a dict\n",
    "dictA = {'a':1, 'b':2}\n",
    "dictB = {'c':3, 'd':4}\n",
    "\n",
    "newDict = {**dictA, **dictB}\n",
    "print(newDict)"
   ],
   "outputs": [
    {
     "output_type": "stream",
     "name": "stdout",
     "text": [
      "[1, 2, 3, 4, 5, 6, 8, 9, 7]\n",
      "{'a': 1, 'b': 2, 'c': 3, 'd': 4}\n"
     ]
    }
   ],
   "metadata": {
    "collapsed": true
   }
  },
  {
   "cell_type": "markdown",
   "source": [
    "<a id='21'></a>\n",
    "## Shallow vs Deep Copying"
   ],
   "metadata": {}
  },
  {
   "cell_type": "code",
   "execution_count": 94,
   "source": [
    "org = 5\n",
    "cpy = org # both variables point to same number\n",
    "cpy = 6   # creates a new varaible as int is immutable\n",
    "\n",
    "print(cpy)\n",
    "print(org)\n",
    "\n",
    "org = [0,1,2,3,4]\n",
    "cpy = org    # both variables point to same memory\n",
    "cpy[0] = -10 # doesn't create a new varaible as list is mutable\n",
    "             # and thus makes the changes in the shared memory\n",
    "\n",
    "print(cpy)\n",
    "print(org)"
   ],
   "outputs": [
    {
     "output_type": "stream",
     "name": "stdout",
     "text": [
      "6\n",
      "5\n",
      "[-10, 1, 2, 3, 4]\n",
      "[-10, 1, 2, 3, 4]\n"
     ]
    }
   ],
   "metadata": {
    "collapsed": true
   }
  },
  {
   "cell_type": "code",
   "execution_count": 95,
   "source": [
    "import copy\n",
    "\n",
    "'''\n",
    "shallow copy - one level deep, only references of nested child \n",
    "               objects\n",
    "\n",
    "'''\n",
    "\n",
    "org = [0,1,2,3,4]\n",
    "cpy = copy.copy(org)\n",
    "# cpy = org.copy()\n",
    "# cpy = list(org)\n",
    "# cpy = org[:]\n",
    "cpy[0] = -10\n",
    "print(cpy)\n",
    "print(org)\n",
    "\n",
    "\n",
    "'''\n",
    "deep copy - full independent copy\n",
    "\n",
    "'''\n",
    "\n",
    "org = [[0,1,2,3,4], [5,6,7,8]] # nested list\n",
    "cpy = org.copy()               # shallow copy\n",
    "cpy[0][0] = -10\n",
    "print(cpy)\n",
    "print(org) # bcoz shallow copy is only one level deep \n",
    "\n",
    "org = [[0,1,2,3,4], [5,6,7,8]] # nested list\n",
    "cpy = copy.deepcopy(org)       # deep copy\n",
    "cpy[0][0] = -10\n",
    "print(cpy)\n",
    "print(org) # bcoz deep copy makes an all-level copy"
   ],
   "outputs": [
    {
     "output_type": "stream",
     "name": "stdout",
     "text": [
      "[-10, 1, 2, 3, 4]\n",
      "[0, 1, 2, 3, 4]\n",
      "[[-10, 1, 2, 3, 4], [5, 6, 7, 8]]\n",
      "[[-10, 1, 2, 3, 4], [5, 6, 7, 8]]\n",
      "[[-10, 1, 2, 3, 4], [5, 6, 7, 8]]\n",
      "[[0, 1, 2, 3, 4], [5, 6, 7, 8]]\n"
     ]
    }
   ],
   "metadata": {
    "collapsed": true
   }
  },
  {
   "cell_type": "code",
   "execution_count": 96,
   "source": [
    "# the shallow and deep copy (as above) can also be used for a \n",
    "# custom onject\n",
    "\n",
    "class Person:\n",
    "    def __init__(self, name, age):\n",
    "        self.name = name\n",
    "        self.age  = age\n",
    "        \n",
    "class Company:\n",
    "    def __init__(self, boss, employee):\n",
    "        self.boss = boss\n",
    "        self.employee = employee\n",
    "    \n",
    "\n",
    "p1 = Person('Mad', 27)\n",
    "p2 = p1\n",
    "p2.age = 28\n",
    "print(p2.age)\n",
    "print(p1.age, '\\n')\n",
    "\n",
    "p1 = Person('Mad', 27)\n",
    "p2 = copy.copy(p1)                        # shallow copy\n",
    "p2.age = 28\n",
    "print(p2.age)\n",
    "print(p1.age, '\\n')\n",
    "\n",
    "\n",
    "aBoss        = Person('Mad', 57)\n",
    "anEmployee   = Person('Max', 27)\n",
    "company      = Company(aBoss, anEmployee) # nested object\n",
    "companyClone = copy.copy(company)         # shallow copy\n",
    "companyClone.boss.age = 60\n",
    "print(companyClone.boss.age)\n",
    "print(company.boss.age, '\\n')\n",
    "\n",
    "aBoss        = Person('Mad', 57)\n",
    "anEmployee   = Person('Max', 27)\n",
    "company      = Company(aBoss, anEmployee) # nested object\n",
    "companyClone = copy.deepcopy(company)     # deep copy\n",
    "companyClone.boss.age = 60\n",
    "print(companyClone.boss.age)\n",
    "print(company.boss.age, '\\n')"
   ],
   "outputs": [
    {
     "output_type": "stream",
     "name": "stdout",
     "text": [
      "28\n",
      "28 \n",
      "\n",
      "28\n",
      "27 \n",
      "\n",
      "60\n",
      "60 \n",
      "\n",
      "60\n",
      "57 \n",
      "\n"
     ]
    }
   ],
   "metadata": {
    "collapsed": true
   }
  },
  {
   "cell_type": "markdown",
   "source": [
    "<a id='22'></a>\n",
    "## Context Managers\n",
    "Tool for resource management, allows to allocate and release resources when needed."
   ],
   "metadata": {}
  },
  {
   "cell_type": "code",
   "execution_count": 97,
   "source": [
    "# file I/O\n",
    "\n",
    "# w/o context manager\n",
    "file = open('files/someFile.txt', 'w')\n",
    "try:\n",
    "    file.write('write something ...')\n",
    "finally:\n",
    "    file.close()\n",
    "\n",
    "# w/ context manager\n",
    "with open('files/someFile.txt', 'w') as file:\n",
    "    file.write('write something ...')"
   ],
   "outputs": [],
   "metadata": {
    "collapsed": true
   }
  },
  {
   "cell_type": "code",
   "execution_count": 98,
   "source": [
    "# lock (see the multithreading, multiprocessing section)"
   ],
   "outputs": [],
   "metadata": {
    "collapsed": true
   }
  },
  {
   "cell_type": "code",
   "execution_count": 99,
   "source": [
    "# context manager as a class\n",
    "\n",
    "class ManagedFile:\n",
    "    def __init__(self, fileName):\n",
    "        self.fileName = fileName\n",
    "        print('inited')\n",
    "        \n",
    "    def __enter__(self): # will be executed as we enter \n",
    "                         # the with statement\n",
    "        print('entered')\n",
    "        self.file = open(self.fileName, 'w')\n",
    "        return self.file\n",
    "        \n",
    "    def __exit__(self, exc_type, exc_value, exc_traceback):\n",
    "        if self.file:\n",
    "            self.file.close()\n",
    "        if exc_type is not None:\n",
    "            print('WARNING: exception has been handled')\n",
    "        #print('exc:', exc_type, exc_value) # exception type, value\n",
    "        print('exited')\n",
    "        return True # in order not to raise the exception\n",
    "        \n",
    "# __init__ called as the object is created \n",
    "# via ManagedFile('files/someFile.txt')\n",
    "with ManagedFile('files/someFile.txt') as file: \n",
    "    # __enter__ called here and the resource gets allocated\n",
    "    print('do some stuff ...')\n",
    "    file.write('write something ...')\n",
    "    file.someMethodThatDoesntExist()\n",
    "# __exit__ called here (as soon as we leave the with context)\n",
    "print('continuing')"
   ],
   "outputs": [
    {
     "output_type": "stream",
     "name": "stdout",
     "text": [
      "inited\n",
      "entered\n",
      "do some stuff ...\n",
      "WARNING: exception has been handled\n",
      "exited\n",
      "continuing\n"
     ]
    }
   ],
   "metadata": {
    "collapsed": true
   }
  },
  {
   "cell_type": "code",
   "execution_count": 102,
   "source": [
    "# context manager fas a function\n",
    "\n",
    "from contextlib import contextmanager\n",
    "\n",
    "@contextmanager\n",
    "def openMangedFile(fileName):\n",
    "    print('iniated')\n",
    "    # all the contents of __enter__ method above\n",
    "    print('entered')\n",
    "    f = open(fileName, 'w')\n",
    "    try:\n",
    "        yield f\n",
    "    # all the contents of __exit__ method above\n",
    "    finally:\n",
    "        f.close()\n",
    "        print('exited')\n",
    "        \n",
    "with openMangedFile('files/fileName.txt') as f:\n",
    "    print('do some stuff ...')\n",
    "    f.write('write something ...')"
   ],
   "outputs": [
    {
     "output_type": "stream",
     "name": "stdout",
     "text": [
      "iniated\n",
      "entered\n",
      "do some stuff ...\n",
      "exited\n"
     ]
    }
   ],
   "metadata": {
    "collapsed": true
   }
  },
  {
   "cell_type": "code",
   "execution_count": null,
   "source": [],
   "outputs": [],
   "metadata": {}
  }
 ],
 "metadata": {
  "kernelspec": {
   "name": "python3",
   "display_name": "Python 3.7.11 64-bit ('dataScienceEnv': conda)"
  },
  "language_info": {
   "codemirror_mode": {
    "name": "ipython",
    "version": 3
   },
   "file_extension": ".py",
   "mimetype": "text/x-python",
   "name": "python",
   "nbconvert_exporter": "python",
   "pygments_lexer": "ipython3",
   "version": "3.7.11"
  },
  "interpreter": {
   "hash": "6f415853b1e0b403e8b03f550866aad9b3fbe228fa1e76cb62d67d24d440cc7e"
  }
 },
 "nbformat": 4,
 "nbformat_minor": 4
}