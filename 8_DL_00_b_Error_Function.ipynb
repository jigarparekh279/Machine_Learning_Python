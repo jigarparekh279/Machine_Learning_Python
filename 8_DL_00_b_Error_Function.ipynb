{
 "cells": [
  {
   "cell_type": "markdown",
   "metadata": {},
   "source": [
    "## Discrete vs Continuous"
   ]
  },
  {
   "cell_type": "markdown",
   "metadata": {},
   "source": [
    "<img src=\"images/DC.png\" width=\"500\"/>\n",
    "<img src=\"images/DC1.png\" width=\"502\"/>"
   ]
  },
  {
   "cell_type": "code",
   "execution_count": 4,
   "metadata": {},
   "outputs": [
    {
     "data": {
      "text/plain": [
       "array([0.09003057, 0.24472847, 0.66524096])"
      ]
     },
     "execution_count": 4,
     "metadata": {},
     "output_type": "execute_result"
    }
   ],
   "source": [
    "import numpy as np\n",
    "\n",
    "# Write a function that takes as input a list of numbers, and returns\n",
    "# the list of values given by the softmax function.\n",
    "def softmax(L):\n",
    "    exp_list = np.exp(L)\n",
    "    return exp_list/exp_list.sum()\n",
    "\n",
    "softmax([1,2,3])\n"
   ]
  },
  {
   "cell_type": "markdown",
   "metadata": {},
   "source": [
    "## Connecting Probabilities with Error Function via _CrossEntropy_"
   ]
  },
  {
   "cell_type": "markdown",
   "metadata": {},
   "source": [
    "<img src=\"images/MaxLike.png\" width=\"500\"/>\n",
    "<img src=\"images/CrossEnt.png\" width=\"500\"/>\n",
    "\n",
    "A good model has a lower _Cross Entropy_.\n",
    "\n",
    "<img src=\"images/CrossEnt1.png\" width=\"500\"/>\n",
    "<img src=\"images/CrossEnt2.png\" width=\"500\"/>\n",
    "\n",
    "Cross Entropy - if we have a bunch of events and a bunch of probabilities, how likely is that those events are based on those probabilities. If it is very likely then we have a small cross-entropy. If it is unlikely then we have a large cross-entropy.\n",
    "\n",
    "<img src=\"images/ErrFunc.png\" width=\"500\"/>\n"
   ]
  },
  {
   "cell_type": "markdown",
   "metadata": {},
   "source": [
    "## Gradient Descent"
   ]
  },
  {
   "cell_type": "markdown",
   "metadata": {},
   "source": [
    "<img src=\"images/GD.png\" width=\"700\"/>\n",
    "<img src=\"images/GDvsPercp.png\" width=\"700\"/>\n",
    "\n",
    "\n",
    "- GD changes weights even when the point is correctly classified to make it more correct (go further away from decision boundary). While Perceptron algo updates weights for misclassified points only.\n",
    "- GD can be used for any value of y_hat while Perceptron can take only {0,1} values of y_hat."
   ]
  },
  {
   "cell_type": "markdown",
   "metadata": {},
   "source": []
  }
 ],
 "metadata": {
  "interpreter": {
   "hash": "f513c44cab0e7f43b93feb2c493bf956de6913ea868a31988c642fe6813eee3c"
  },
  "kernelspec": {
   "display_name": "Python 3.8.10 64-bit ('dataScienceEnv': venv)",
   "name": "python3"
  },
  "language_info": {
   "codemirror_mode": {
    "name": "ipython",
    "version": 3
   },
   "file_extension": ".py",
   "mimetype": "text/x-python",
   "name": "python",
   "nbconvert_exporter": "python",
   "pygments_lexer": "ipython3",
   "version": "3.8.10"
  },
  "orig_nbformat": 4
 },
 "nbformat": 4,
 "nbformat_minor": 2
}
