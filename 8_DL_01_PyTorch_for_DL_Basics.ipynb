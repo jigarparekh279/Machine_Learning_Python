{
 "cells": [
  {
   "cell_type": "markdown",
   "metadata": {},
   "source": [
    "# PyTorch for Deep Learning - Basics\n",
    "Credits:\n",
    "- PyTorch for Deep Learning - Full Course / Tutorial [freeCodeCamp](https://www.youtube.com/watch?v=GIsg-ZUy0MY&t=21636s)"
   ]
  },
  {
   "cell_type": "markdown",
   "metadata": {},
   "source": [
    "## 0. Data"
   ]
  },
  {
   "cell_type": "code",
   "execution_count": 2,
   "metadata": {},
   "outputs": [],
   "source": [
    "import numpy as np\n",
    "import torch\n",
    "\n",
    "# Input (temp, rainfall, humidity)\n",
    "inputs = np.array([[73, 67, 43], \n",
    "                   [91, 88, 64], \n",
    "                   [87, 134, 58], \n",
    "                   [102, 43, 37], \n",
    "                   [69, 96, 70], \n",
    "                   [74, 66, 43], \n",
    "                   [91, 87, 65], \n",
    "                   [88, 134, 59], \n",
    "                   [101, 44, 37], \n",
    "                   [68, 96, 71], \n",
    "                   [73, 66, 44], \n",
    "                   [92, 87, 64], \n",
    "                   [87, 135, 57], \n",
    "                   [103, 43, 36], \n",
    "                   [68, 97, 70]], \n",
    "                  dtype='float32')\n",
    "\n",
    "# Targets (apples, oranges)\n",
    "targets = np.array([[56, 70], \n",
    "                    [81, 101], \n",
    "                    [119, 133], \n",
    "                    [22, 37], \n",
    "                    [103, 119],\n",
    "                    [57, 69], \n",
    "                    [80, 102], \n",
    "                    [118, 132], \n",
    "                    [21, 38], \n",
    "                    [104, 118], \n",
    "                    [57, 69], \n",
    "                    [82, 100], \n",
    "                    [118, 134], \n",
    "                    [20, 38], \n",
    "                    [102, 120]], \n",
    "                   dtype='float32')\n",
    "\n",
    "inputs = torch.from_numpy(inputs)\n",
    "targets = torch.from_numpy(targets)"
   ]
  },
  {
   "cell_type": "markdown",
   "metadata": {},
   "source": [
    "## 1. Linear Regression in numpy -- 1 hidden layer 2 neurons"
   ]
  },
  {
   "cell_type": "code",
   "execution_count": 3,
   "metadata": {},
   "outputs": [
    {
     "name": "stdout",
     "output_type": "stream",
     "text": [
      "tensor(11.0964, grad_fn=<DivBackward0>) tensor(84.)\n"
     ]
    }
   ],
   "source": [
    "import numpy as np\n",
    "\n",
    "# model\n",
    "def model(x): return x @ w.t() + b\n",
    "\n",
    "# model parameters\n",
    "w = torch.randn(2,3, requires_grad=True) # 2x3\n",
    "b = torch.randn(2, requires_grad=True) # 1x2\n",
    "\n",
    "# loss function\n",
    "def mse(t1, t2):\n",
    "    diff = t1-t2\n",
    "    return torch.sum(diff**2)/diff.numel()\n",
    "\n",
    "# optimizer - update weights and biases \n",
    "# epochs - optimize multiple times\n",
    "for i in range(1000):\n",
    "    preds = model(inputs)\n",
    "    loss = mse(preds, targets)\n",
    "    loss.backward()\n",
    "    with torch.no_grad():\n",
    "        w -= w.grad * 1e-5\n",
    "        b -= b.grad * 1e-5\n",
    "        w.grad.zero_()\n",
    "        b.grad.zero_()\n",
    "        \n",
    "print(loss, targets.mean())"
   ]
  },
  {
   "cell_type": "markdown",
   "metadata": {},
   "source": [
    "## 2. Linear Regression in pytorch -- 1 hidden layer 2 neurons"
   ]
  },
  {
   "cell_type": "code",
   "execution_count": 4,
   "metadata": {},
   "outputs": [
    {
     "name": "stdout",
     "output_type": "stream",
     "text": [
      "Epoch [100/1000],Loss: 19.976354598999023, y_mean: 84.0\n",
      "Epoch [200/1000],Loss: 9.596784591674805, y_mean: 84.0\n",
      "Epoch [300/1000],Loss: 5.511408805847168, y_mean: 84.0\n",
      "Epoch [400/1000],Loss: 1.9738044738769531, y_mean: 84.0\n",
      "Epoch [500/1000],Loss: 0.9948694705963135, y_mean: 84.0\n",
      "Epoch [600/1000],Loss: 0.6645762920379639, y_mean: 84.0\n",
      "Epoch [700/1000],Loss: 0.9079132676124573, y_mean: 84.0\n",
      "Epoch [800/1000],Loss: 0.8994174599647522, y_mean: 84.0\n",
      "Epoch [900/1000],Loss: 1.2476019859313965, y_mean: 84.0\n",
      "Epoch [1000/1000],Loss: 0.846535861492157, y_mean: 84.0\n"
     ]
    }
   ],
   "source": [
    "# import torch and its methods\n",
    "import torch\n",
    "import torch.nn as nn               # More of OOPing\n",
    "import torch.nn.functional as F     # More of functions\n",
    "import torch.optim as optim\n",
    "\n",
    "from torch.utils.data import TensorDataset \n",
    "from torch.utils.data import DataLoader\n",
    "\n",
    "# DataLoader\n",
    "train_ds = TensorDataset(inputs, targets)\n",
    "train_dl = DataLoader(train_ds, batch_size=4, shuffle=True)\n",
    "\n",
    "# model + model params\n",
    "model = nn.Linear(3,2)\n",
    "\n",
    "# loss fucntion\n",
    "mse = F.mse_loss\n",
    "\n",
    "# optimizer\n",
    "opt = optim.SGD(model.parameters(), lr=1e-5)\n",
    "\n",
    "# update weights and biases multiple times\n",
    "def fit(num_epochs, model, loss_fn, opt, train_dl):\n",
    "    # Repeat for given number of epochs\n",
    "    for epoch in range(num_epochs):\n",
    "        \n",
    "        # Train with batches of data\n",
    "        for xb,yb in train_dl:\n",
    "            \n",
    "            # 1. Generate predictions\n",
    "            pred = model(xb)\n",
    "            \n",
    "            # 2. Calculate loss\n",
    "            loss = loss_fn(pred, yb)\n",
    "            \n",
    "            # 3. Compute gradients\n",
    "            loss.backward()\n",
    "            \n",
    "            # 4. Update parameters using gradients\n",
    "            opt.step()\n",
    "            \n",
    "            # 5. Reset the gradients to zero\n",
    "            opt.zero_grad()\n",
    "        \n",
    "        # Print the progress\n",
    "        if (epoch+1) % 100 == 0:\n",
    "            print(f'Epoch [{epoch+1}/{num_epochs}],Loss: {loss}, y_mean: {targets.mean()}')\n",
    "            \n",
    "fit(num_epochs=1000, model=model, loss_fn=mse, opt=opt, train_dl=train_dl)"
   ]
  },
  {
   "cell_type": "markdown",
   "metadata": {},
   "source": [
    "## 3. Image Classification with Logistic Regression (GPU)"
   ]
  },
  {
   "cell_type": "code",
   "execution_count": 1,
   "metadata": {},
   "outputs": [
    {
     "name": "stdout",
     "output_type": "stream",
     "text": [
      "numpy: 1.19.5\n",
      "matplotlib: 3.4.3\n",
      "torch: 1.10.0+cu102\n",
      "torchvision: 0.11.1+cu102\n",
      "cpu\n"
     ]
    }
   ],
   "source": [
    "# import torch and its methods\n",
    "import numpy as np\n",
    "import matplotlib\n",
    "import matplotlib.pyplot as plt\n",
    "\n",
    "import torch\n",
    "import torch.nn as nn\n",
    "import torch.nn.functional as F\n",
    "from torch.utils.data.sampler import SubsetRandomSampler\n",
    "from torch.utils.data.dataloader import DataLoader\n",
    "\n",
    "import torchvision\n",
    "from torchvision import datasets\n",
    "from torchvision import transforms\n",
    "\n",
    "from timeit import default_timer as timer\n",
    "from tqdm import tqdm\n",
    "%matplotlib inline\n",
    "\n",
    "print(f\"numpy: {np.__version__}\")\n",
    "print(f\"matplotlib: {matplotlib.__version__}\")\n",
    "print(f\"torch: {torch.__version__}\")\n",
    "print(f\"torchvision: {torchvision.__version__}\")\n",
    "\n",
    "# get CPU/GPU device\n",
    "def get_default_device():\n",
    "    \"\"\"Pick GPU if available, else CPU\"\"\"\n",
    "    if torch.cuda.is_available():\n",
    "    #if 0:\n",
    "        return torch.device('cuda')\n",
    "    else:\n",
    "        return torch.device('cpu')\n",
    "\n",
    "device = get_default_device()\n",
    "print(device)"
   ]
  },
  {
   "cell_type": "code",
   "execution_count": 2,
   "metadata": {},
   "outputs": [],
   "source": [
    "# load dataset\n",
    "dataset = datasets.MNIST(root='./data/', train=True, download=True, transform=transforms.ToTensor())\n",
    "test_dataset = datasets.MNIST(root='./data/', train=False, download=True, transform=transforms.ToTensor())\n",
    "\n",
    "# split indices for train and val sets\n",
    "def split_indices(n, val_pct):\n",
    "    # size of val set\n",
    "    n_val = int(val_pct*n)\n",
    "    # random permutations of 0 to n-1\n",
    "    idxs = np.random.permutation(n)\n",
    "    # pick first n_val indices for val set\n",
    "    return idxs[n_val:], idxs[:n_val]\n",
    "\n",
    "train_indices, val_indices = split_indices(n=len(dataset), val_pct=0.2)\n",
    "\n",
    "batch_size = 128\n",
    "\n",
    "# training sampler and data loader\n",
    "train_sampler = SubsetRandomSampler(train_indices)\n",
    "train_loader = DataLoader(dataset, batch_size=batch_size, sampler=train_sampler)\n",
    "# validation sampler and data loader\n",
    "val_sampler = SubsetRandomSampler(val_indices)\n",
    "val_loader = DataLoader(dataset, batch_size=batch_size, sampler=val_sampler)\n",
    "\n",
    "# testing data loader\n"
   ]
  },
  {
   "cell_type": "code",
   "execution_count": 3,
   "metadata": {},
   "outputs": [],
   "source": [
    "# an all in one model class -- including helper functions as methods\n",
    "class MnistModel(nn.Module):\n",
    "    \"\"\"Feedfoward neural network with 1 hidden layer\"\"\"\n",
    "    def __init__(self, in_size, hidden_size, out_size):\n",
    "        # initialise the parent class (Module) __init__ method\n",
    "        super().__init__()\n",
    "        # hidden layer 1 [hidLyr1]\n",
    "        self.hidLyr1 = nn.Linear(in_size, hidden_size)\n",
    "        # hidden layer 2 [hidLyr2]\n",
    "        self.hidLyr2 = nn.Linear(hidden_size, hidden_size)\n",
    "        # output layer   [outLyr]\n",
    "        self.outLyr = nn.Linear(hidden_size, out_size)\n",
    "        \n",
    "    def forward(self, xb):\n",
    "        # Flatten the image tensors\n",
    "        xb = xb.view(xb.size(0), -1)\n",
    "        # Get intermediate outputs using hidden layer\n",
    "        out = self.hidLyr1(xb)\n",
    "        # Apply activation function\n",
    "        out = F.relu(out)\n",
    "        # Get intermediate outputs using hidden layer\n",
    "        out = self.hidLyr2(out)\n",
    "        # Apply activation function\n",
    "        out = F.relu(out)\n",
    "        # Get predictions using output layer\n",
    "        out = self.outLyr(out)\n",
    "        return out\n",
    "    \n",
    "    def training_step(self, batch):\n",
    "        images, labels = batch \n",
    "        out = self.forward(images)          # Generate predictions\n",
    "        loss = F.cross_entropy(out, labels) # Calculate loss (softmax included)\n",
    "        return loss\n",
    "    \n",
    "    def validation_step(self, batch):\n",
    "        images, labels = batch \n",
    "        out = self.forward(images)            # Generate predictions\n",
    "        loss = F.cross_entropy(out, labels)   # Calculate loss (softmax included)\n",
    "        acc = accuracy(out, labels)           # Calculate accuracy\n",
    "        return {'val_loss': loss, 'val_acc': acc}\n",
    "        \n",
    "    def validation_epoch_end(self, outputs):\n",
    "        batch_losses = [x['val_loss'] for x in outputs]\n",
    "        epoch_loss = torch.stack(batch_losses).mean()   # Combine losses\n",
    "        batch_accs = [x['val_acc'] for x in outputs]\n",
    "        epoch_acc = torch.stack(batch_accs).mean()      # Combine accuracies\n",
    "        return {'val_loss': epoch_loss.item(), 'val_acc': epoch_acc.item()}\n",
    "    \n",
    "    def epoch_end(self, epoch, result):\n",
    "        print(\"Epoch [{}], val_loss: {:.4f}, val_acc: {:.4f}\".format(epoch, result['val_loss'], result['val_acc']))"
   ]
  },
  {
   "cell_type": "code",
   "execution_count": 4,
   "metadata": {},
   "outputs": [],
   "source": [
    "def accuracy(outputs, labels):\n",
    "    _, preds = torch.max(outputs, dim=1)\n",
    "    return torch.tensor(torch.sum(preds == labels).item() / len(preds))\n",
    "\n",
    "def evaluate(model, val_loader):\n",
    "    \"\"\"Evaluate the model's performance on the validation set\"\"\"\n",
    "    outputs = [model.validation_step(batch) for batch in val_loader]\n",
    "    return model.validation_epoch_end(outputs)\n",
    "\n",
    "def fit(epochs, lr, model, train_loader, val_loader, opt_func=torch.optim.SGD):\n",
    "    \"\"\"Train the model using gradient descent\"\"\"\n",
    "    history = []\n",
    "    optimizer = opt_func(model.parameters(), lr)\n",
    "    for epoch in range(epochs):\n",
    "        # Training Phase \n",
    "        # for batch in tqdm(train_loader):\n",
    "        for batch in train_loader:\n",
    "            loss = model.training_step(batch)\n",
    "            loss.backward()\n",
    "            optimizer.step()\n",
    "            optimizer.zero_grad()\n",
    "        # Validation phase\n",
    "        result = evaluate(model, val_loader)\n",
    "        model.epoch_end(epoch, result)\n",
    "        history.append(result)\n",
    "    return history"
   ]
  },
  {
   "cell_type": "code",
   "execution_count": 5,
   "metadata": {},
   "outputs": [],
   "source": [
    "# move model or data to chosen device\n",
    "# preferably for one time use\n",
    "def to_device(data, device):\n",
    "    \"\"\"Move tensor(s) to chosen device\"\"\"\n",
    "    if isinstance(data, (list,tuple)):\n",
    "        return [to_device(x, device) for x in data]\n",
    "    return data.to(device, non_blocking=True)\n",
    "\n",
    "# move data to device on the fly (only when it is about to be used)\n",
    "# used for batches\n",
    "class DeviceDataLoader():\n",
    "    \"\"\"Wrap a dataloader to move data to a device\"\"\"\n",
    "    def __init__(self, dl, device):\n",
    "        self.dl = dl\n",
    "        self.device = device\n",
    "        \n",
    "    def __iter__(self):  # called when dl is used in a for loop\n",
    "        \"\"\"Yield a batch of data after moving it to device\"\"\"\n",
    "        for b in self.dl: \n",
    "            yield to_device(b, self.device) # return when needed (called)\n",
    "\n",
    "    def __len__(self):\n",
    "        \"\"\"Number of batches\"\"\"\n",
    "        return len(self.dl)"
   ]
  },
  {
   "cell_type": "code",
   "execution_count": 6,
   "metadata": {},
   "outputs": [
    {
     "name": "stdout",
     "output_type": "stream",
     "text": [
      "torch.Size([32, 784])\n",
      "torch.Size([32])\n",
      "torch.Size([32, 32])\n",
      "torch.Size([32])\n",
      "torch.Size([10, 32])\n",
      "torch.Size([10])\n"
     ]
    }
   ],
   "source": [
    "# wrap data loaders using DeviceDataLoader\n",
    "train_loader = DeviceDataLoader(train_loader, device)\n",
    "val_loader = DeviceDataLoader(val_loader, device)\n",
    "\n",
    "# define model\n",
    "input_size = 28*28 # number of features\n",
    "num_classes = 10   # number of all possible labels\n",
    "hidden_size = 32   # you can change this\n",
    "\n",
    "model = MnistModel(in_size=input_size, hidden_size=32, out_size=num_classes)\n",
    "to_device(model, device)\n",
    "for t in model.parameters():\n",
    "    print(t.shape)"
   ]
  },
  {
   "cell_type": "code",
   "execution_count": 7,
   "metadata": {},
   "outputs": [
    {
     "name": "stdout",
     "output_type": "stream",
     "text": [
      "Epoch [0], val_loss: 0.2387, val_acc: 0.9261\n",
      "Epoch [1], val_loss: 0.1933, val_acc: 0.9416\n",
      "Epoch [2], val_loss: 0.1452, val_acc: 0.9551\n",
      "Epoch [3], val_loss: 0.1379, val_acc: 0.9581\n",
      "Epoch [4], val_loss: 0.1387, val_acc: 0.9597\n",
      "Epoch [5], val_loss: 0.1311, val_acc: 0.9602\n",
      "Epoch [6], val_loss: 0.1249, val_acc: 0.9602\n",
      "Epoch [7], val_loss: 0.1219, val_acc: 0.9638\n",
      "Epoch [8], val_loss: 0.1249, val_acc: 0.9633\n",
      "Epoch [9], val_loss: 0.1298, val_acc: 0.9643\n",
      "Time:  68.72909025500121  s\n"
     ]
    }
   ],
   "source": [
    "# train the model\n",
    "history = [evaluate(model, val_loader)]\n",
    "start = timer()\n",
    "history += fit(10, 0.5, model, train_loader, val_loader)\n",
    "end = timer()\n",
    "print('Time: ',end-start, ' s')"
   ]
  },
  {
   "cell_type": "code",
   "execution_count": 8,
   "metadata": {},
   "outputs": [
    {
     "data": {
      "text/plain": [
       "Text(0, 0.5, 'accuracy')"
      ]
     },
     "execution_count": 8,
     "metadata": {},
     "output_type": "execute_result"
    },
    {
     "data": {
      "image/png": "[encoded data removed]",
      "text/plain": [
       "<Figure size 432x288 with 2 Axes>"
      ]
     },
     "metadata": {
      "needs_background": "light"
     },
     "output_type": "display_data"
    }
   ],
   "source": [
    "# plot loss and accuracy\n",
    "fig, ax = plt.subplots(nrows=1, ncols=2, constrained_layout=True)\n",
    "\n",
    "losses = [x['val_loss'] for x in history]\n",
    "metrics = [x['val_acc'] for x in history]\n",
    "\n",
    "ax[0].plot(losses, '-x', label='loss')\n",
    "ax[1].plot(metrics, '-x', label='accuracy')\n",
    "ax[0].set_xlabel('epoch')\n",
    "ax[0].set_ylabel('loss')\n",
    "ax[1].set_xlabel('epoch')\n",
    "ax[1].set_ylabel('accuracy')"
   ]
  },
  {
   "cell_type": "code",
   "execution_count": 9,
   "metadata": {},
   "outputs": [
    {
     "name": "stdout",
     "output_type": "stream",
     "text": [
      "Label: 7 , Predicted: 7\n"
     ]
    },
    {
     "data": {
      "image/png": "[encoded data removed]",
      "text/plain": [
       "<Figure size 432x288 with 1 Axes>"
      ]
     },
     "metadata": {
      "needs_background": "light"
     },
     "output_type": "display_data"
    }
   ],
   "source": [
    "def predict_image(img, model):\n",
    "    xb = to_device(img.unsqueeze(0), device)\n",
    "    yb = model(xb)\n",
    "    _, preds  = torch.max(yb, dim=1)\n",
    "    return preds[0].item()\n",
    "\n",
    "img, label = test_dataset[0]\n",
    "plt.imshow(img[0], cmap='gray')\n",
    "print('Label:', label, ', Predicted:', predict_image(img, model))    "
   ]
  },
  {
   "cell_type": "code",
   "execution_count": 10,
   "metadata": {},
   "outputs": [
    {
     "data": {
      "text/plain": [
       "{'val_loss': 0.11806978285312653, 'val_acc': 0.965039074420929}"
      ]
     },
     "execution_count": 10,
     "metadata": {},
     "output_type": "execute_result"
    }
   ],
   "source": [
    "test_loader = DeviceDataLoader(DataLoader(test_dataset, batch_size=256), device)\n",
    "result = evaluate(model, test_loader)\n",
    "result"
   ]
  },
  {
   "cell_type": "code",
   "execution_count": 11,
   "metadata": {},
   "outputs": [],
   "source": [
    "preds = []\n",
    "y_true = []\n",
    "for xb, y in test_dataset:\n",
    "    xb = to_device(xb.unsqueeze(0), device)\n",
    "    yb = model(xb)\n",
    "    _, pred  = torch.max(yb, dim=1)\n",
    "    preds.append(pred[0].item())\n",
    "    y_true.append(y)"
   ]
  },
  {
   "cell_type": "code",
   "execution_count": 12,
   "metadata": {},
   "outputs": [
    {
     "name": "stdout",
     "output_type": "stream",
     "text": [
      "              precision    recall  f1-score   support\n",
      "\n",
      "           0       0.97      0.99      0.98       980\n",
      "           1       0.97      0.99      0.98      1135\n",
      "           2       0.97      0.96      0.97      1032\n",
      "           3       0.97      0.96      0.96      1010\n",
      "           4       0.95      0.97      0.96       982\n",
      "           5       0.98      0.93      0.95       892\n",
      "           6       0.97      0.97      0.97       958\n",
      "           7       0.96      0.96      0.96      1028\n",
      "           8       0.95      0.96      0.95       974\n",
      "           9       0.96      0.94      0.95      1009\n",
      "\n",
      "    accuracy                           0.96     10000\n",
      "   macro avg       0.96      0.96      0.96     10000\n",
      "weighted avg       0.96      0.96      0.96     10000\n",
      "\n"
     ]
    }
   ],
   "source": [
    "from sklearn.metrics import classification_report\n",
    "\n",
    "print(classification_report(y_true, preds))"
   ]
  }
 ],
 "metadata": {
  "interpreter": {
   "hash": "f513c44cab0e7f43b93feb2c493bf956de6913ea868a31988c642fe6813eee3c"
  },
  "kernelspec": {
   "display_name": "Python 3.8.10 64-bit ('dataScienceEnv': venv)",
   "name": "python3"
  },
  "language_info": {
   "codemirror_mode": {
    "name": "ipython",
    "version": 3
   },
   "file_extension": ".py",
   "mimetype": "text/x-python",
   "name": "python",
   "nbconvert_exporter": "python",
   "pygments_lexer": "ipython3",
   "version": "3.8.10"
  }
 },
 "nbformat": 4,
 "nbformat_minor": 4
}
