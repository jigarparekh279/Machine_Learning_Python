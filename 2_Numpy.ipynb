{
 "cells": [
  {
   "cell_type": "markdown",
   "metadata": {},
   "source": [
    "# Numpy\n",
    "Collection of ***most useful*** numpy functions\n",
    "\n",
    "Credits:  \n",
    "- Alex Chabot-Leclerc, [Introduction to Numerical Computing with NumPy](https://www.youtube.com/watch?v=ZB7BZMhfPgk)\n",
    "- Juan Nunuz-Iglesias [Advanced NumPy](https://www.youtube.com/watch?v=cYugp9IN1-Q), [Github](https://github.com/jni/scipy-japan-2019/blob/master/Advanced%20NumPy%20Patterns%20Solved.ipynb)"
   ]
  },
  {
   "cell_type": "code",
   "execution_count": 1,
   "metadata": {},
   "outputs": [
    {
     "name": "stdout",
     "output_type": "stream",
     "text": [
      "numpy: 1.18.1\n"
     ]
    }
   ],
   "source": [
    "import numpy as np\n",
    "print(f\"numpy: {np.__version__}\")"
   ]
  },
  {
   "cell_type": "markdown",
   "metadata": {},
   "source": [
    "<img style=\"float:center;\" src=\"images/0.jpg\" width=\"450\"/> "
   ]
  },
  {
   "cell_type": "code",
   "execution_count": 2,
   "metadata": {},
   "outputs": [
    {
     "name": "stdout",
     "output_type": "stream",
     "text": [
      "[[100 200  50 400]\n",
      " [ 50   0   0 100]\n",
      " [350 100  50 200]]\n"
     ]
    }
   ],
   "source": [
    "# list of lists to a numpy array\n",
    "\n",
    "gene0 = [100, 200, 50, 400]\n",
    "gene1 = [50, 0, 0, 100]\n",
    "gene2 = [350, 100, 50, 200]\n",
    "expression_data = [gene0, gene1, gene2]\n",
    "\n",
    "a = np.array(expression_data)\n",
    "print(a)"
   ]
  },
  {
   "cell_type": "markdown",
   "metadata": {},
   "source": [
    "## Inside a numpy ndarray\n",
    "<img style=\"float:center;\" src=\"images/3.jpg\" width=\"450\"/>"
   ]
  },
  {
   "cell_type": "code",
   "execution_count": 3,
   "metadata": {},
   "outputs": [],
   "source": [
    "def print_info(a):\n",
    "    print('number of elements:', a.size)\n",
    "    print('number of dimensions:', a.ndim)\n",
    "    print('shape:', a.shape)\n",
    "    print('data type:', a.dtype)\n",
    "    print('strides:', a.strides)\n",
    "    print('flags:')\n",
    "    print(a.flags)"
   ]
  },
  {
   "cell_type": "code",
   "execution_count": 4,
   "metadata": {},
   "outputs": [
    {
     "name": "stdout",
     "output_type": "stream",
     "text": [
      "[[100 200  50 400]\n",
      " [ 50   0   0 100]\n",
      " [350 100  50 200]]\n",
      "number of elements: 12\n",
      "number of dimensions: 2\n",
      "shape: (3, 4)\n",
      "data type: int64\n",
      "strides: (32, 8)\n",
      "flags:\n",
      "  C_CONTIGUOUS : True\n",
      "  F_CONTIGUOUS : False\n",
      "  OWNDATA : True\n",
      "  WRITEABLE : True\n",
      "  ALIGNED : True\n",
      "  WRITEBACKIFCOPY : False\n",
      "  UPDATEIFCOPY : False\n",
      "\n",
      "<memory at 0x2b65edab73d0> points to the start of the array a in memory.\n"
     ]
    }
   ],
   "source": [
    "print(a)\n",
    "print_info(a)\n",
    "print(f'{a.data} points to the start of the array a in memory.')"
   ]
  },
  {
   "cell_type": "code",
   "execution_count": 5,
   "metadata": {},
   "outputs": [
    {
     "name": "stdout",
     "output_type": "stream",
     "text": [
      "number of elements: 96\n",
      "number of dimensions: 1\n",
      "shape: (96,)\n",
      "data type: uint8\n",
      "strides: (1,)\n",
      "flags:\n",
      "  C_CONTIGUOUS : True\n",
      "  F_CONTIGUOUS : True\n",
      "  OWNDATA : False\n",
      "  WRITEABLE : True\n",
      "  ALIGNED : True\n",
      "  WRITEBACKIFCOPY : False\n",
      "  UPDATEIFCOPY : False\n",
      "\n",
      "Notice that the stride is now 1-byte (8-bits)\n"
     ]
    }
   ],
   "source": [
    "# viewing the elements of 'a' as 8-bit integers \n",
    "abytes = a.ravel().view(dtype=np.uint8)\n",
    "print_info(abytes)\n",
    "print('Notice that the stride is now 1-byte (8-bits)')"
   ]
  },
  {
   "cell_type": "markdown",
   "metadata": {},
   "source": [
    "## Transpose\n",
    "<img style=\"float:center;\" src=\"images/5.jpg\" width=\"450\"/>\n"
   ]
  },
  {
   "cell_type": "code",
   "execution_count": 6,
   "metadata": {},
   "outputs": [
    {
     "name": "stdout",
     "output_type": "stream",
     "text": [
      "[[100  50 350]\n",
      " [200   0 100]\n",
      " [ 50   0  50]\n",
      " [400 100 200]]\n",
      "number of elements: 12\n",
      "number of dimensions: 2\n",
      "shape: (4, 3)\n",
      "data type: int64\n",
      "strides: (8, 32)\n",
      "flags:\n",
      "  C_CONTIGUOUS : False\n",
      "  F_CONTIGUOUS : True\n",
      "  OWNDATA : False\n",
      "  WRITEABLE : True\n",
      "  ALIGNED : True\n",
      "  WRITEBACKIFCOPY : False\n",
      "  UPDATEIFCOPY : False\n",
      "\n",
      "Notice that only the strides are changed, not the data\n"
     ]
    }
   ],
   "source": [
    "print(a.T)\n",
    "print_info(a.T)\n",
    "print('Notice that only the strides are changed, not the data')"
   ]
  },
  {
   "cell_type": "markdown",
   "metadata": {},
   "source": [
    "# Slicing"
   ]
  },
  {
   "cell_type": "code",
   "execution_count": 7,
   "metadata": {},
   "outputs": [
    {
     "name": "stdout",
     "output_type": "stream",
     "text": [
      "[[100  50 350]\n",
      " [ 50   0  50]]\n",
      "number of elements: 6\n",
      "number of dimensions: 2\n",
      "shape: (2, 3)\n",
      "data type: int64\n",
      "strides: (16, 32)\n",
      "flags:\n",
      "  C_CONTIGUOUS : False\n",
      "  F_CONTIGUOUS : False\n",
      "  OWNDATA : False\n",
      "  WRITEABLE : True\n",
      "  ALIGNED : True\n",
      "  WRITEBACKIFCOPY : False\n",
      "  UPDATEIFCOPY : False\n",
      "\n",
      "Noice that this array in neither C contiguous nor F contiguous as none of the elements are one after the other in the memory.\n"
     ]
    }
   ],
   "source": [
    "print(a.T[::2])\n",
    "print_info(a.T[::2])\n",
    "print('Noice that this array in neither C contiguous nor F \\\n",
    "contiguous as none of the elements are one after the other in the \\\n",
    "memory.')"
   ]
  },
  {
   "cell_type": "code",
   "execution_count": 8,
   "metadata": {},
   "outputs": [
    {
     "name": "stdout",
     "output_type": "stream",
     "text": [
      "[[0.26632763 0.01381832 0.63673275]\n",
      " [0.27243566 0.29930107 0.69920488]\n",
      " [0.60406033 0.34199335 0.86892342]\n",
      " [0.09742732 0.84572094 0.64129355]\n",
      " [0.56743945 0.31224435 0.03095586]\n",
      " [0.94232089 0.58234714 0.80364945]\n",
      " [0.18449136 0.6545651  0.68608734]\n",
      " [0.32748391 0.44703092 0.07427502]\n",
      " [0.77897649 0.53188728 0.18355508]\n",
      " [0.36101955 0.48170766 0.33270174]]\n"
     ]
    }
   ],
   "source": [
    "rand = np.random.random((10,3))\n",
    "print(rand)"
   ]
  },
  {
   "cell_type": "code",
   "execution_count": 9,
   "metadata": {},
   "outputs": [
    {
     "name": "stdout",
     "output_type": "stream",
     "text": [
      "[2 2 2 1 0 2 2 1 0 1]\n"
     ]
    }
   ],
   "source": [
    "print(np.argmin(np.abs(rand-0.75), axis=1))"
   ]
  },
  {
   "cell_type": "markdown",
   "metadata": {},
   "source": [
    "## Broadcasting\n",
    "<img style=\"float:center;\" src=\"images/1.jpg\" width=\"450\"/>"
   ]
  },
  {
   "cell_type": "code",
   "execution_count": 10,
   "metadata": {},
   "outputs": [
    {
     "data": {
      "text/plain": [
       "array([[105, 205,  55, 405],\n",
       "       [ 55,   5,   5, 105],\n",
       "       [355, 105,  55, 205]])"
      ]
     },
     "execution_count": 10,
     "metadata": {},
     "output_type": "execute_result"
    }
   ],
   "source": [
    "a + 5  # simplest \"broadcasting\": scalar - array operations"
   ]
  },
  {
   "cell_type": "code",
   "execution_count": 11,
   "metadata": {},
   "outputs": [
    {
     "data": {
      "text/plain": [
       "array([[101, 202,  53, 404],\n",
       "       [ 51,   2,   3, 104],\n",
       "       [351, 102,  53, 204]])"
      ]
     },
     "execution_count": 11,
     "metadata": {},
     "output_type": "execute_result"
    }
   ],
   "source": [
    "b = np.array([1, 2, 3, 4])\n",
    "a + b  # broadcasting: coerce arrays to same shape by \n",
    "       # repeating as needed"
   ]
  },
  {
   "cell_type": "code",
   "execution_count": 12,
   "metadata": {},
   "outputs": [
    {
     "data": {
      "text/plain": [
       "array([[101, 201,  51, 401],\n",
       "       [ 52,   2,   2, 102],\n",
       "       [353, 103,  53, 203]])"
      ]
     },
     "execution_count": 12,
     "metadata": {},
     "output_type": "execute_result"
    }
   ],
   "source": [
    "b = np.array([[1], [2], [3]])\n",
    "a + b  # broadcasting: shape compatibility"
   ]
  },
  {
   "cell_type": "code",
   "execution_count": 13,
   "metadata": {},
   "outputs": [
    {
     "data": {
      "text/plain": [
       "array([[2, 3, 4],\n",
       "       [3, 4, 5],\n",
       "       [4, 5, 6]])"
      ]
     },
     "execution_count": 13,
     "metadata": {},
     "output_type": "execute_result"
    }
   ],
   "source": [
    "b + b.T # broadcasting: shape compatibility"
   ]
  },
  {
   "cell_type": "markdown",
   "metadata": {},
   "source": [
    "## 3D Broadcasting"
   ]
  },
  {
   "cell_type": "code",
   "execution_count": 14,
   "metadata": {},
   "outputs": [
    {
     "name": "stdout",
     "output_type": "stream",
     "text": [
      "number of elements: 60\n",
      "number of dimensions: 3\n",
      "shape: (4, 3, 5)\n",
      "data type: float64\n",
      "strides: (120, 40, 8)\n",
      "flags:\n",
      "  C_CONTIGUOUS : True\n",
      "  F_CONTIGUOUS : False\n",
      "  OWNDATA : True\n",
      "  WRITEABLE : True\n",
      "  ALIGNED : True\n",
      "  WRITEBACKIFCOPY : False\n",
      "  UPDATEIFCOPY : False\n",
      "\n",
      "[[0.13274447 0.72874242 0.30480565 0.15988057 0.16645061]\n",
      " [0.37893243 0.00099228 0.77307582 0.61076059 0.60903193]\n",
      " [0.14486407 0.58673044 0.06970938 0.96338947 0.16062987]]\n",
      "[7 0 9 8]\n",
      "[[[7.13274447e+00 7.72874242e+00 7.30480565e+00 7.15988057e+00\n",
      "   7.16645061e+00]\n",
      "  [7.37893243e+00 7.00099228e+00 7.77307582e+00 7.61076059e+00\n",
      "   7.60903193e+00]\n",
      "  [7.14486407e+00 7.58673044e+00 7.06970938e+00 7.96338947e+00\n",
      "   7.16062987e+00]]\n",
      "\n",
      " [[1.32744474e-01 7.28742420e-01 3.04805647e-01 1.59880572e-01\n",
      "   1.66450609e-01]\n",
      "  [3.78932431e-01 9.92284812e-04 7.73075820e-01 6.10760591e-01\n",
      "   6.09031926e-01]\n",
      "  [1.44864073e-01 5.86730445e-01 6.97093796e-02 9.63389466e-01\n",
      "   1.60629867e-01]]\n",
      "\n",
      " [[9.13274447e+00 9.72874242e+00 9.30480565e+00 9.15988057e+00\n",
      "   9.16645061e+00]\n",
      "  [9.37893243e+00 9.00099228e+00 9.77307582e+00 9.61076059e+00\n",
      "   9.60903193e+00]\n",
      "  [9.14486407e+00 9.58673044e+00 9.06970938e+00 9.96338947e+00\n",
      "   9.16062987e+00]]\n",
      "\n",
      " [[8.13274447e+00 8.72874242e+00 8.30480565e+00 8.15988057e+00\n",
      "   8.16645061e+00]\n",
      "  [8.37893243e+00 8.00099228e+00 8.77307582e+00 8.61076059e+00\n",
      "   8.60903193e+00]\n",
      "  [8.14486407e+00 8.58673044e+00 8.06970938e+00 8.96338947e+00\n",
      "   8.16062987e+00]]]\n"
     ]
    }
   ],
   "source": [
    "# producing an array containing the sum of every possible \n",
    "# combination of an element in x with every element in y\n",
    "x = np.random.random(size=(3, 5))\n",
    "y = np.random.randint(10, size=4)\n",
    "z = x + y[:, np.newaxis, np.newaxis] # adding new dimensions to y\n",
    "#z = x[..., np.newaxis] + y          # adding new dimension to x\n",
    "#z = x[:.:, np.newaxis] + y          # adding new dimension to x\n",
    "#z = x[:,:, np.newaxis] + y[np.newaxis, np.newaxis, :] # adding new dimension to x, y\n",
    "print_info(z)\n",
    "print(x)\n",
    "print(y)\n",
    "print(z)"
   ]
  },
  {
   "cell_type": "code",
   "execution_count": 15,
   "metadata": {},
   "outputs": [
    {
     "name": "stdout",
     "output_type": "stream",
     "text": [
      "number of elements: 60\n",
      "number of dimensions: 3\n",
      "shape: (4, 3, 5)\n",
      "data type: float64\n",
      "strides: (0, 40, 8)\n",
      "flags:\n",
      "  C_CONTIGUOUS : False\n",
      "  F_CONTIGUOUS : False\n",
      "  OWNDATA : False\n",
      "  WRITEABLE : True  (with WARN_ON_WRITE=True)\n",
      "  ALIGNED : True\n",
      "  WRITEBACKIFCOPY : False\n",
      "  UPDATEIFCOPY : False\n",
      "\n",
      "number of elements: 60\n",
      "number of dimensions: 3\n",
      "shape: (4, 3, 5)\n",
      "data type: int64\n",
      "strides: (8, 0, 0)\n",
      "flags:\n",
      "  C_CONTIGUOUS : False\n",
      "  F_CONTIGUOUS : False\n",
      "  OWNDATA : False\n",
      "  WRITEABLE : True  (with WARN_ON_WRITE=True)\n",
      "  ALIGNED : True\n",
      "  WRITEBACKIFCOPY : False\n",
      "  UPDATEIFCOPY : False\n",
      "\n",
      "This is what numpy does in the backgound. The shape of xb, yb is different from x,y, respectively. However, their size is still the same. This makes broadcasting memory efficient. \n",
      "WARNING - if you make a copy of xb, yb then the full array size will be copied. See below - \n",
      "\n",
      "number of elements: 60\n",
      "number of dimensions: 3\n",
      "shape: (4, 3, 5)\n",
      "data type: float64\n",
      "strides: (120, 40, 8)\n",
      "flags:\n",
      "  C_CONTIGUOUS : True\n",
      "  F_CONTIGUOUS : False\n",
      "  OWNDATA : True\n",
      "  WRITEABLE : True\n",
      "  ALIGNED : True\n",
      "  WRITEBACKIFCOPY : False\n",
      "  UPDATEIFCOPY : False\n",
      "\n"
     ]
    }
   ],
   "source": [
    "# Use np.broadcast_arrays to get the same-shape arrays that numpy \n",
    "# adds together. Then use print_info on the output. Notice \n",
    "# anything weird? Check the strides of xb, yb\n",
    "xb, yb = np.broadcast_arrays(x, y[:, np.newaxis, np.newaxis])\n",
    "print_info(xb)\n",
    "print_info(yb)\n",
    "\n",
    "print('This is what numpy does in the backgound. \\\n",
    "The shape of xb, yb is different from x,y, respectively. \\\n",
    "However, their size is still the same. This makes broadcasting \\\n",
    "memory efficient. \\nWARNING - if you make a copy of xb, yb then \\\n",
    "the full array size will be copied. See below - \\n')\n",
    "\n",
    "xCopy = xb.copy()\n",
    "print_info(xCopy)"
   ]
  },
  {
   "cell_type": "markdown",
   "metadata": {},
   "source": [
    "## arange( )\n",
    "<img style=\"float:center;\" src=\"images/4.jpg\" width=\"450\"/>"
   ]
  },
  {
   "cell_type": "code",
   "execution_count": 16,
   "metadata": {},
   "outputs": [
    {
     "name": "stdout",
     "output_type": "stream",
     "text": [
      "[[ 0  1  2  3]\n",
      " [ 4  5  6  7]\n",
      " [ 8  9 10 11]\n",
      " [12 13 14 15]]\n"
     ]
    }
   ],
   "source": [
    "# Create array using arange (not arrange) and reshape\n",
    "\n",
    "a = np.arange(16).reshape(4,4)\n",
    "print(a)"
   ]
  },
  {
   "cell_type": "code",
   "execution_count": 17,
   "metadata": {},
   "outputs": [
    {
     "name": "stdout",
     "output_type": "stream",
     "text": [
      "[[ 5  6]\n",
      " [ 9 10]]\n",
      "b is a new array object (slice of a) but its NOT a new data\n"
     ]
    }
   ],
   "source": [
    "b = a[1:3, 1:3]\n",
    "print(b)\n",
    "print('b is a new array object (slice of a) but its NOT a new data')"
   ]
  },
  {
   "cell_type": "code",
   "execution_count": 18,
   "metadata": {},
   "outputs": [
    {
     "name": "stdout",
     "output_type": "stream",
     "text": [
      "[[1005 1006]\n",
      " [1009 1010]]\n",
      "[[   0    1    2    3]\n",
      " [   4 1005 1006    7]\n",
      " [   8 1009 1010   11]\n",
      " [  12   13   14   15]]\n",
      "Be careful with such mistakes\n"
     ]
    }
   ],
   "source": [
    "b += 1000  # this modifies a as well\n",
    "print(b)\n",
    "print(a)\n",
    "\n",
    "print('Be careful with such mistakes')"
   ]
  },
  {
   "cell_type": "markdown",
   "metadata": {},
   "source": [
    "## reshape( ), flatten( ) & ravel( )\n",
    "<img style=\"float:center;\" src=\"images/6.jpg\" width=\"450\"/>\n",
    "<img style=\"float:center;\" src=\"images/7.jpg\" width=\"450\"/>"
   ]
  },
  {
   "cell_type": "code",
   "execution_count": 19,
   "metadata": {},
   "outputs": [
    {
     "name": "stdout",
     "output_type": "stream",
     "text": [
      "[[1010 1011]\n",
      " [1014 1015]]\n",
      "[[ 0  1  2  3]\n",
      " [ 4  5  6  7]\n",
      " [ 8  9 10 11]\n",
      " [12 13 14 15]]\n"
     ]
    }
   ],
   "source": [
    "a = np.arange(16).reshape(4,4)\n",
    "b = a[2:4, 2:4] + 0 # trick (new data = slice of a + 0)\n",
    "b += 1000\n",
    "print(b)\n",
    "print(a)"
   ]
  },
  {
   "cell_type": "code",
   "execution_count": 20,
   "metadata": {},
   "outputs": [
    {
     "name": "stdout",
     "output_type": "stream",
     "text": [
      "[[1010 1011]\n",
      " [1014 1015]]\n",
      "[[ 0  1  2  3]\n",
      " [ 4  5  6  7]\n",
      " [ 8  9 10 11]\n",
      " [12 13 14 15]]\n"
     ]
    }
   ],
   "source": [
    "a = np.arange(16).reshape(4,4)\n",
    "b = np.array(a[2:4, 2:4]) # best and safest\n",
    "#b = a[2:4, 2:4].copy() # best and safest\n",
    "b += 1000\n",
    "print(b)\n",
    "print(a)"
   ]
  },
  {
   "cell_type": "markdown",
   "metadata": {},
   "source": [
    "# min( ), max( ), argmin( ), argmax( ), where( )"
   ]
  },
  {
   "cell_type": "code",
   "execution_count": 21,
   "metadata": {},
   "outputs": [
    {
     "name": "stdout",
     "output_type": "stream",
     "text": [
      "[[0.2016253  0.69662862 0.09335748 0.81823874 0.70828569]\n",
      " [0.17429149 0.12896547 0.28944421 0.51338637 0.72444312]\n",
      " [0.57285806 0.85611457 0.79282559 0.59348223 0.54997893]\n",
      " [0.00955718 0.92321539 0.95636426 0.31149597 0.75018181]\n",
      " [0.1387251  0.82997003 0.5112651  0.33889489 0.51348357]]\n"
     ]
    }
   ],
   "source": [
    "a = np.random.rand(5,5)\n",
    "print(a)"
   ]
  },
  {
   "cell_type": "code",
   "execution_count": 22,
   "metadata": {},
   "outputs": [
    {
     "name": "stdout",
     "output_type": "stream",
     "text": [
      "[0.09335748 0.12896547 0.54997893 0.00955718 0.1387251 ]\n",
      "[2 1 4 0 0]\n",
      "[0.81823874 0.72444312 0.85611457 0.95636426 0.82997003]\n",
      "[3 4 1 2 1]\n"
     ]
    }
   ],
   "source": [
    "# min / max (values) and argmin / argmax (indices)\n",
    "print(a.min(axis=1))\n",
    "print(a.argmin(axis=1))\n",
    "print(a.max(axis=1))\n",
    "print(a.argmax(axis=1))"
   ]
  },
  {
   "cell_type": "code",
   "execution_count": 23,
   "metadata": {},
   "outputs": [
    {
     "name": "stdout",
     "output_type": "stream",
     "text": [
      "[[False  True False  True  True]\n",
      " [False False False  True  True]\n",
      " [ True  True  True  True  True]\n",
      " [False  True  True False  True]\n",
      " [False  True  True False  True]]\n",
      "[[0 0 0 1 1 2 2 2 2 2 3 3 3 4 4 4]\n",
      " [1 3 4 3 4 0 1 2 3 4 1 2 4 1 2 4]]\n",
      "[[0 0 0 1 1 2 2 2 2 2 3 3 3 4 4 4]\n",
      " [1 3 4 3 4 0 1 2 3 4 1 2 4 1 2 4]]\n"
     ]
    }
   ],
   "source": [
    "# mask and location\n",
    "mask = a>0.5\n",
    "location = np.where(mask)\n",
    "print(mask)\n",
    "print(np.array(location)) # returns the coords where the mask is True\n",
    "\n",
    "# or simply do\n",
    "print(np.array(np.where(a>0.5)))"
   ]
  }
 ],
 "metadata": {
  "kernelspec": {
   "display_name": "Python 3",
   "language": "python",
   "name": "python3"
  },
  "language_info": {
   "codemirror_mode": {
    "name": "ipython",
    "version": 3
   },
   "file_extension": ".py",
   "mimetype": "text/x-python",
   "name": "python",
   "nbconvert_exporter": "python",
   "pygments_lexer": "ipython3",
   "version": "3.7.6"
  }
 },
 "nbformat": 4,
 "nbformat_minor": 2
}
