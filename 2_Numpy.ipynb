{
 "cells": [
  {
   "cell_type": "markdown",
   "metadata": {},
   "source": [
    "# Numpy\n",
    "Collection of ***most useful*** numpy functions\n",
    "\n",
    "Credits:  \n",
    "- Alex Chabot-Leclerc, [Introduction to Numerical Computing with NumPy](https://www.youtube.com/watch?v=ZB7BZMhfPgk)\n",
    "- Juan Nunuz-Iglesias [Advanced NumPy](https://www.youtube.com/watch?v=cYugp9IN1-Q), [Github](https://github.com/jni/scipy-japan-2019/blob/master/Advanced%20NumPy%20Patterns%20Solved.ipynb)"
   ]
  },
  {
   "cell_type": "code",
   "execution_count": 1,
   "metadata": {},
   "outputs": [
    {
     "name": "stdout",
     "output_type": "stream",
     "text": [
      "numpy: 1.19.4\n"
     ]
    }
   ],
   "source": [
    "import numpy as np\n",
    "print(f\"numpy: {np.__version__}\")"
   ]
  },
  {
   "cell_type": "markdown",
   "metadata": {},
   "source": [
    "<img style=\"float:center;\" src=\"images/0.jpg\" width=\"450\"/> "
   ]
  },
  {
   "cell_type": "code",
   "execution_count": 2,
   "metadata": {},
   "outputs": [
    {
     "name": "stdout",
     "output_type": "stream",
     "text": [
      "[[100 200  50 400]\n",
      " [ 50   0   0 100]\n",
      " [350 100  50 200]]\n"
     ]
    }
   ],
   "source": [
    "# list of lists to a numpy array\n",
    "\n",
    "gene0 = [100, 200, 50, 400]\n",
    "gene1 = [50, 0, 0, 100]\n",
    "gene2 = [350, 100, 50, 200]\n",
    "expression_data = [gene0, gene1, gene2]\n",
    "\n",
    "a = np.array(expression_data)\n",
    "print(a)"
   ]
  },
  {
   "cell_type": "markdown",
   "metadata": {},
   "source": [
    "## Inside a numpy ndarray\n",
    "<img style=\"float:center;\" src=\"images/3.jpg\" width=\"450\"/>"
   ]
  },
  {
   "cell_type": "code",
   "execution_count": 3,
   "metadata": {},
   "outputs": [],
   "source": [
    "def print_info(a):\n",
    "    print('number of elements:', a.size)\n",
    "    print('number of dimensions:', a.ndim)\n",
    "    print('shape:', a.shape)\n",
    "    print('data type:', a.dtype)\n",
    "    print('strides:', a.strides)\n",
    "    print('flags:')\n",
    "    print(a.flags)"
   ]
  },
  {
   "cell_type": "code",
   "execution_count": 4,
   "metadata": {},
   "outputs": [
    {
     "name": "stdout",
     "output_type": "stream",
     "text": [
      "[[100 200  50 400]\n",
      " [ 50   0   0 100]\n",
      " [350 100  50 200]]\n",
      "number of elements: 12\n",
      "number of dimensions: 2\n",
      "shape: (3, 4)\n",
      "data type: int64\n",
      "strides: (32, 8)\n",
      "flags:\n",
      "  C_CONTIGUOUS : True\n",
      "  F_CONTIGUOUS : False\n",
      "  OWNDATA : True\n",
      "  WRITEABLE : True\n",
      "  ALIGNED : True\n",
      "  WRITEBACKIFCOPY : False\n",
      "  UPDATEIFCOPY : False\n",
      "\n",
      "<memory at 0x7f1415667f30> points to the start of the array a in memory.\n"
     ]
    }
   ],
   "source": [
    "print(a)\n",
    "print_info(a)\n",
    "print(f'{a.data} points to the start of the array a in memory.')"
   ]
  },
  {
   "cell_type": "code",
   "execution_count": 5,
   "metadata": {},
   "outputs": [
    {
     "name": "stdout",
     "output_type": "stream",
     "text": [
      "number of elements: 96\n",
      "number of dimensions: 1\n",
      "shape: (96,)\n",
      "data type: uint8\n",
      "strides: (1,)\n",
      "flags:\n",
      "  C_CONTIGUOUS : True\n",
      "  F_CONTIGUOUS : True\n",
      "  OWNDATA : False\n",
      "  WRITEABLE : True\n",
      "  ALIGNED : True\n",
      "  WRITEBACKIFCOPY : False\n",
      "  UPDATEIFCOPY : False\n",
      "\n",
      "Notice that the stride is now 1-byte (8-bits)\n"
     ]
    }
   ],
   "source": [
    "# viewing the elements of 'a' as 8-bit integers \n",
    "abytes = a.ravel().view(dtype=np.uint8)\n",
    "print_info(abytes)\n",
    "print('Notice that the stride is now 1-byte (8-bits)')"
   ]
  },
  {
   "cell_type": "markdown",
   "metadata": {},
   "source": [
    "## Transpose\n",
    "<img style=\"float:center;\" src=\"images/5.jpg\" width=\"450\"/>\n"
   ]
  },
  {
   "cell_type": "code",
   "execution_count": 6,
   "metadata": {},
   "outputs": [
    {
     "name": "stdout",
     "output_type": "stream",
     "text": [
      "[[100  50 350]\n",
      " [200   0 100]\n",
      " [ 50   0  50]\n",
      " [400 100 200]]\n",
      "number of elements: 12\n",
      "number of dimensions: 2\n",
      "shape: (4, 3)\n",
      "data type: int64\n",
      "strides: (8, 32)\n",
      "flags:\n",
      "  C_CONTIGUOUS : False\n",
      "  F_CONTIGUOUS : True\n",
      "  OWNDATA : False\n",
      "  WRITEABLE : True\n",
      "  ALIGNED : True\n",
      "  WRITEBACKIFCOPY : False\n",
      "  UPDATEIFCOPY : False\n",
      "\n",
      "Notice that only the strides are changed, not the data\n"
     ]
    }
   ],
   "source": [
    "print(a.T)\n",
    "print_info(a.T)\n",
    "print('Notice that only the strides are changed, not the data')"
   ]
  },
  {
   "cell_type": "markdown",
   "metadata": {},
   "source": [
    "# Slicing"
   ]
  },
  {
   "cell_type": "code",
   "execution_count": 7,
   "metadata": {},
   "outputs": [
    {
     "name": "stdout",
     "output_type": "stream",
     "text": [
      "[[100  50 350]\n",
      " [ 50   0  50]]\n",
      "number of elements: 6\n",
      "number of dimensions: 2\n",
      "shape: (2, 3)\n",
      "data type: int64\n",
      "strides: (16, 32)\n",
      "flags:\n",
      "  C_CONTIGUOUS : False\n",
      "  F_CONTIGUOUS : False\n",
      "  OWNDATA : False\n",
      "  WRITEABLE : True\n",
      "  ALIGNED : True\n",
      "  WRITEBACKIFCOPY : False\n",
      "  UPDATEIFCOPY : False\n",
      "\n",
      "Noice that this array in neither C contiguous nor F contiguous as none of the elements are one after the other in the memory.\n"
     ]
    }
   ],
   "source": [
    "print(a.T[::2])\n",
    "print_info(a.T[::2])\n",
    "print('Noice that this array in neither C contiguous nor F \\\n",
    "contiguous as none of the elements are one after the other in the \\\n",
    "memory.')"
   ]
  },
  {
   "cell_type": "code",
   "execution_count": 8,
   "metadata": {},
   "outputs": [
    {
     "name": "stdout",
     "output_type": "stream",
     "text": [
      "[[0.882843   0.09848295 0.40051645]\n",
      " [0.24743364 0.06116268 0.42434857]\n",
      " [0.63231331 0.77365365 0.94606827]\n",
      " [0.59838049 0.04032509 0.47796537]\n",
      " [0.70488121 0.89455829 0.44926176]\n",
      " [0.05708898 0.42519441 0.65380518]\n",
      " [0.44326825 0.17200054 0.55931795]\n",
      " [0.06258617 0.78469937 0.45935938]\n",
      " [0.80573481 0.78530965 0.31194624]\n",
      " [0.78086415 0.72311852 0.46756143]]\n"
     ]
    }
   ],
   "source": [
    "rand = np.random.random((10,3))\n",
    "print(rand)"
   ]
  },
  {
   "cell_type": "code",
   "execution_count": 9,
   "metadata": {},
   "outputs": [
    {
     "name": "stdout",
     "output_type": "stream",
     "text": [
      "[0 2 1 0 0 2 2 1 1 1]\n"
     ]
    }
   ],
   "source": [
    "print(np.argmin(np.abs(rand-0.75), axis=1))"
   ]
  },
  {
   "cell_type": "markdown",
   "metadata": {},
   "source": [
    "## Broadcasting\n",
    "<img style=\"float:center;\" src=\"images/1.jpg\" width=\"450\"/>"
   ]
  },
  {
   "cell_type": "code",
   "execution_count": 10,
   "metadata": {},
   "outputs": [
    {
     "data": {
      "text/plain": [
       "array([[105, 205,  55, 405],\n",
       "       [ 55,   5,   5, 105],\n",
       "       [355, 105,  55, 205]])"
      ]
     },
     "execution_count": 10,
     "metadata": {},
     "output_type": "execute_result"
    }
   ],
   "source": [
    "a + 5  # simplest \"broadcasting\": scalar - array operations"
   ]
  },
  {
   "cell_type": "code",
   "execution_count": 11,
   "metadata": {},
   "outputs": [
    {
     "data": {
      "text/plain": [
       "array([[101, 202,  53, 404],\n",
       "       [ 51,   2,   3, 104],\n",
       "       [351, 102,  53, 204]])"
      ]
     },
     "execution_count": 11,
     "metadata": {},
     "output_type": "execute_result"
    }
   ],
   "source": [
    "b = np.array([1, 2, 3, 4])\n",
    "a + b  # broadcasting: coerce arrays to same shape by \n",
    "       # repeating as needed"
   ]
  },
  {
   "cell_type": "code",
   "execution_count": 12,
   "metadata": {},
   "outputs": [
    {
     "data": {
      "text/plain": [
       "array([[101, 201,  51, 401],\n",
       "       [ 52,   2,   2, 102],\n",
       "       [353, 103,  53, 203]])"
      ]
     },
     "execution_count": 12,
     "metadata": {},
     "output_type": "execute_result"
    }
   ],
   "source": [
    "b = np.array([[1], [2], [3]])\n",
    "a + b  # broadcasting: shape compatibility"
   ]
  },
  {
   "cell_type": "code",
   "execution_count": 13,
   "metadata": {},
   "outputs": [
    {
     "data": {
      "text/plain": [
       "array([[2, 3, 4],\n",
       "       [3, 4, 5],\n",
       "       [4, 5, 6]])"
      ]
     },
     "execution_count": 13,
     "metadata": {},
     "output_type": "execute_result"
    }
   ],
   "source": [
    "b + b.T # broadcasting: shape compatibility"
   ]
  },
  {
   "cell_type": "markdown",
   "metadata": {},
   "source": [
    "## 3D Broadcasting"
   ]
  },
  {
   "cell_type": "code",
   "execution_count": 14,
   "metadata": {},
   "outputs": [
    {
     "name": "stdout",
     "output_type": "stream",
     "text": [
      "number of elements: 60\n",
      "number of dimensions: 3\n",
      "shape: (4, 3, 5)\n",
      "data type: float64\n",
      "strides: (120, 40, 8)\n",
      "flags:\n",
      "  C_CONTIGUOUS : True\n",
      "  F_CONTIGUOUS : False\n",
      "  OWNDATA : True\n",
      "  WRITEABLE : True\n",
      "  ALIGNED : True\n",
      "  WRITEBACKIFCOPY : False\n",
      "  UPDATEIFCOPY : False\n",
      "\n",
      "[[0.3617088  0.10276689 0.91906322 0.09638772 0.37063978]\n",
      " [0.07021473 0.07910641 0.33154519 0.54005447 0.0661195 ]\n",
      " [0.91157382 0.88205116 0.46035239 0.73403075 0.21860604]]\n",
      "[7 4 9 1]\n",
      "[[[7.3617088  7.10276689 7.91906322 7.09638772 7.37063978]\n",
      "  [7.07021473 7.07910641 7.33154519 7.54005447 7.0661195 ]\n",
      "  [7.91157382 7.88205116 7.46035239 7.73403075 7.21860604]]\n",
      "\n",
      " [[4.3617088  4.10276689 4.91906322 4.09638772 4.37063978]\n",
      "  [4.07021473 4.07910641 4.33154519 4.54005447 4.0661195 ]\n",
      "  [4.91157382 4.88205116 4.46035239 4.73403075 4.21860604]]\n",
      "\n",
      " [[9.3617088  9.10276689 9.91906322 9.09638772 9.37063978]\n",
      "  [9.07021473 9.07910641 9.33154519 9.54005447 9.0661195 ]\n",
      "  [9.91157382 9.88205116 9.46035239 9.73403075 9.21860604]]\n",
      "\n",
      " [[1.3617088  1.10276689 1.91906322 1.09638772 1.37063978]\n",
      "  [1.07021473 1.07910641 1.33154519 1.54005447 1.0661195 ]\n",
      "  [1.91157382 1.88205116 1.46035239 1.73403075 1.21860604]]]\n"
     ]
    }
   ],
   "source": [
    "# producing an array containing the sum of every possible \n",
    "# combination of an element in x with every element in y\n",
    "x = np.random.random(size=(3, 5))\n",
    "y = np.random.randint(10, size=4)\n",
    "z = x + y[:, np.newaxis, np.newaxis] # adding new dimensions to y\n",
    "#z = x[..., np.newaxis] + y          # adding new dimension to x\n",
    "#z = x[:.:, np.newaxis] + y          # adding new dimension to x\n",
    "#z = x[:,:, np.newaxis] + y[np.newaxis, np.newaxis, :] # adding new dimension to x, y\n",
    "print_info(z)\n",
    "print(x)\n",
    "print(y)\n",
    "print(z)"
   ]
  },
  {
   "cell_type": "code",
   "execution_count": 15,
   "metadata": {},
   "outputs": [
    {
     "name": "stdout",
     "output_type": "stream",
     "text": [
      "number of elements: 60\n",
      "number of dimensions: 3\n",
      "shape: (4, 3, 5)\n",
      "data type: float64\n",
      "strides: (0, 40, 8)\n",
      "flags:\n",
      "  C_CONTIGUOUS : False\n",
      "  F_CONTIGUOUS : False\n",
      "  OWNDATA : False\n",
      "  WRITEABLE : True  (with WARN_ON_WRITE=True)\n",
      "  ALIGNED : True\n",
      "  WRITEBACKIFCOPY : False\n",
      "  UPDATEIFCOPY : False\n",
      "\n",
      "number of elements: 60\n",
      "number of dimensions: 3\n",
      "shape: (4, 3, 5)\n",
      "data type: int64\n",
      "strides: (8, 0, 0)\n",
      "flags:\n",
      "  C_CONTIGUOUS : False\n",
      "  F_CONTIGUOUS : False\n",
      "  OWNDATA : False\n",
      "  WRITEABLE : True  (with WARN_ON_WRITE=True)\n",
      "  ALIGNED : True\n",
      "  WRITEBACKIFCOPY : False\n",
      "  UPDATEIFCOPY : False\n",
      "\n",
      "This is what numpy does in the backgound. The shape of xb, yb is different from x,y, respectively. However, their size is still the same. This makes broadcasting memory efficient. \n",
      "WARNING - if you make a copy of xb, yb then the full array size will be copied. See below - \n",
      "\n",
      "number of elements: 60\n",
      "number of dimensions: 3\n",
      "shape: (4, 3, 5)\n",
      "data type: float64\n",
      "strides: (120, 40, 8)\n",
      "flags:\n",
      "  C_CONTIGUOUS : True\n",
      "  F_CONTIGUOUS : False\n",
      "  OWNDATA : True\n",
      "  WRITEABLE : True\n",
      "  ALIGNED : True\n",
      "  WRITEBACKIFCOPY : False\n",
      "  UPDATEIFCOPY : False\n",
      "\n"
     ]
    }
   ],
   "source": [
    "# Use np.broadcast_arrays to get the same-shape arrays that numpy \n",
    "# adds together. Then use print_info on the output. Notice \n",
    "# anything weird? Check the strides of xb, yb\n",
    "xb, yb = np.broadcast_arrays(x, y[:, np.newaxis, np.newaxis])\n",
    "print_info(xb)\n",
    "print_info(yb)\n",
    "\n",
    "print('This is what numpy does in the backgound. \\\n",
    "The shape of xb, yb is different from x,y, respectively. \\\n",
    "However, their size is still the same. This makes broadcasting \\\n",
    "memory efficient. \\nWARNING - if you make a copy of xb, yb then \\\n",
    "the full array size will be copied. See below - \\n')\n",
    "\n",
    "xCopy = xb.copy()\n",
    "print_info(xCopy)"
   ]
  },
  {
   "cell_type": "markdown",
   "metadata": {},
   "source": [
    "## arange( )\n",
    "<img style=\"float:center;\" src=\"images/4.jpg\" width=\"450\"/>"
   ]
  },
  {
   "cell_type": "code",
   "execution_count": 16,
   "metadata": {},
   "outputs": [
    {
     "name": "stdout",
     "output_type": "stream",
     "text": [
      "[[ 0  1  2  3]\n",
      " [ 4  5  6  7]\n",
      " [ 8  9 10 11]\n",
      " [12 13 14 15]]\n"
     ]
    }
   ],
   "source": [
    "# Create array using arange (not arrange) and reshape\n",
    "\n",
    "a = np.arange(16).reshape(4,4)\n",
    "print(a)"
   ]
  },
  {
   "cell_type": "code",
   "execution_count": 17,
   "metadata": {},
   "outputs": [
    {
     "name": "stdout",
     "output_type": "stream",
     "text": [
      "[[ 5  6]\n",
      " [ 9 10]]\n",
      "b is a new array object (slice of a) but its NOT a new data\n"
     ]
    }
   ],
   "source": [
    "b = a[1:3, 1:3]\n",
    "print(b)\n",
    "print('b is a new array object (slice of a) but its NOT a new data')"
   ]
  },
  {
   "cell_type": "code",
   "execution_count": 18,
   "metadata": {},
   "outputs": [
    {
     "name": "stdout",
     "output_type": "stream",
     "text": [
      "[[1005 1006]\n",
      " [1009 1010]]\n",
      "[[   0    1    2    3]\n",
      " [   4 1005 1006    7]\n",
      " [   8 1009 1010   11]\n",
      " [  12   13   14   15]]\n",
      "Be careful with such mistakes\n"
     ]
    }
   ],
   "source": [
    "b += 1000  # this modifies a as well\n",
    "print(b)\n",
    "print(a)\n",
    "\n",
    "print('Be careful with such mistakes')"
   ]
  },
  {
   "cell_type": "markdown",
   "metadata": {},
   "source": [
    "## reshape( ), flatten( ) & ravel( )\n",
    "<img style=\"float:center;\" src=\"images/6.jpg\" width=\"450\"/>\n",
    "<img style=\"float:center;\" src=\"images/7.jpg\" width=\"450\"/>"
   ]
  },
  {
   "cell_type": "code",
   "execution_count": 19,
   "metadata": {},
   "outputs": [
    {
     "name": "stdout",
     "output_type": "stream",
     "text": [
      "[[1010 1011]\n",
      " [1014 1015]]\n",
      "[[ 0  1  2  3]\n",
      " [ 4  5  6  7]\n",
      " [ 8  9 10 11]\n",
      " [12 13 14 15]]\n"
     ]
    }
   ],
   "source": [
    "a = np.arange(16).reshape(4,4)\n",
    "b = a[2:4, 2:4] + 0 # trick (new data = slice of a + 0)\n",
    "b += 1000\n",
    "print(b)\n",
    "print(a)"
   ]
  },
  {
   "cell_type": "code",
   "execution_count": 20,
   "metadata": {},
   "outputs": [
    {
     "name": "stdout",
     "output_type": "stream",
     "text": [
      "[[1010 1011]\n",
      " [1014 1015]]\n",
      "[[ 0  1  2  3]\n",
      " [ 4  5  6  7]\n",
      " [ 8  9 10 11]\n",
      " [12 13 14 15]]\n"
     ]
    }
   ],
   "source": [
    "a = np.arange(16).reshape(4,4)\n",
    "b = np.array(a[2:4, 2:4]) # best and safest\n",
    "#b = a[2:4, 2:4].copy() # best and safest\n",
    "b += 1000\n",
    "print(b)\n",
    "print(a)"
   ]
  },
  {
   "cell_type": "markdown",
   "metadata": {},
   "source": [
    "# min( ), max( ), argmin( ), argmax( ), where( )"
   ]
  },
  {
   "cell_type": "code",
   "execution_count": 21,
   "metadata": {},
   "outputs": [
    {
     "name": "stdout",
     "output_type": "stream",
     "text": [
      "[[0.62904088 0.64832424 0.25888202 0.36591531 0.03034993]\n",
      " [0.63888479 0.2105138  0.8183149  0.08598749 0.40614235]\n",
      " [0.19711333 0.23033457 0.61095945 0.74834207 0.42771275]\n",
      " [0.2104402  0.68964124 0.01960483 0.48614087 0.71547411]\n",
      " [0.40441977 0.03592338 0.80879568 0.5321812  0.14803992]]\n"
     ]
    }
   ],
   "source": [
    "a = np.random.rand(5,5)\n",
    "print(a)"
   ]
  },
  {
   "cell_type": "code",
   "execution_count": 22,
   "metadata": {},
   "outputs": [
    {
     "name": "stdout",
     "output_type": "stream",
     "text": [
      "[0.03034993 0.08598749 0.19711333 0.01960483 0.03592338]\n",
      "[4 3 0 2 1]\n",
      "[0.64832424 0.8183149  0.74834207 0.71547411 0.80879568]\n",
      "[1 2 3 4 2]\n"
     ]
    }
   ],
   "source": [
    "# min / max (values) and argmin / argmax (indices)\n",
    "print(a.min(axis=1))\n",
    "print(a.argmin(axis=1))\n",
    "print(a.max(axis=1))\n",
    "print(a.argmax(axis=1))"
   ]
  },
  {
   "cell_type": "code",
   "execution_count": 23,
   "metadata": {},
   "outputs": [
    {
     "name": "stdout",
     "output_type": "stream",
     "text": [
      "[[ True  True False False False]\n",
      " [ True False  True False False]\n",
      " [False False  True  True False]\n",
      " [False  True False False  True]\n",
      " [False False  True  True False]]\n",
      "[[0 0 1 1 2 2 3 3 4 4]\n",
      " [0 1 0 2 2 3 1 4 2 3]]\n",
      "[[0 0 1 1 2 2 3 3 4 4]\n",
      " [0 1 0 2 2 3 1 4 2 3]]\n"
     ]
    }
   ],
   "source": [
    "# mask and location\n",
    "mask = a>0.5\n",
    "location = np.where(mask)\n",
    "print(mask)\n",
    "print(np.array(location)) # returns the coords where the mask is True\n",
    "\n",
    "# or simply do\n",
    "print(np.array(np.where(a>0.5)))"
   ]
  }
 ],
 "metadata": {
  "kernelspec": {
   "display_name": "Python 3",
   "language": "python",
   "name": "python3"
  },
  "language_info": {
   "codemirror_mode": {
    "name": "ipython",
    "version": 3
   },
   "file_extension": ".py",
   "mimetype": "text/x-python",
   "name": "python",
   "nbconvert_exporter": "python",
   "pygments_lexer": "ipython3",
   "version": "3.7.5"
  }
 },
 "nbformat": 4,
 "nbformat_minor": 2
}
