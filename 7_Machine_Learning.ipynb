{
 "cells": [
  {
   "cell_type": "markdown",
   "id": "afa85dee",
   "metadata": {},
   "source": [
    "# Machine Learning\n",
    "\n",
    "\n",
    "Credits:\n",
    "\n",
    "- [2021 Python for Machine Learning & Data Science Masterclass by Jose Portilla Udemy](https://www.udemy.com/course/python-for-machine-learning-data-science-masterclass/)"
   ]
  },
  {
   "cell_type": "markdown",
   "id": "192cf1c9",
   "metadata": {},
   "source": [
    "**Supervised Learning**\n",
    "- Using historical and labeled data, the machine learning model predicts a value.\n",
    "    - Historical: Known results and data from the past.\n",
    "    - Labeled: The desired output is known\n",
    "- Two main label types\n",
    "    - Categorical Value to Predict -> **Classification** Task\n",
    "        * Predict an assigned category\n",
    "            - Cancerous vs. Benign Tumor\n",
    "            - Fulfillment vs. Credit Default\n",
    "            - Assigning Image Category (Handwriting Recognition)\n",
    "\n",
    "        * Continuous Value to Predict -> **Regression** Task\n",
    "            - Future prices\n",
    "            - Electricity loads\n",
    "            - Test scores\n",
    "\n",
    "**Unsupervised Learning**\n",
    "- Applied to unlabeled data, the machine learning model discovers possible patterns in the data. The ML model groups and interprets data without a label.\n",
    "- Example: Clustering customers into separate groups based off their behaviour features.\n",
    "- Major downside is because there was no historical “correct” label, it is much harder to evaluate performance of an unsupervised learning algorithm."
   ]
  },
  {
   "cell_type": "markdown",
   "id": "5f957921",
   "metadata": {},
   "source": [
    "- [Linear Regression](#1)\n",
    "- [](#)\n",
    "- [](#)\n",
    "- [](#)\n",
    "- [](#)\n",
    "- [](#)"
   ]
  },
  {
   "cell_type": "markdown",
   "id": "21767ac4",
   "metadata": {},
   "source": [
    "<a id='1'></a>\n",
    "## Linear Regression\n",
    "\n"
   ]
  },
  {
   "cell_type": "code",
   "execution_count": null,
   "id": "43cb65eb",
   "metadata": {},
   "outputs": [],
   "source": []
  },
  {
   "cell_type": "code",
   "execution_count": null,
   "id": "bfd0bbc0",
   "metadata": {},
   "outputs": [],
   "source": []
  },
  {
   "cell_type": "code",
   "execution_count": null,
   "id": "173e20f3",
   "metadata": {},
   "outputs": [],
   "source": []
  },
  {
   "cell_type": "code",
   "execution_count": null,
   "id": "7922d7c5",
   "metadata": {},
   "outputs": [],
   "source": []
  }
 ],
 "metadata": {
  "kernelspec": {
   "display_name": "Python 3",
   "language": "python",
   "name": "python3"
  },
  "language_info": {
   "codemirror_mode": {
    "name": "ipython",
    "version": 3
   },
   "file_extension": ".py",
   "mimetype": "text/x-python",
   "name": "python",
   "nbconvert_exporter": "python",
   "pygments_lexer": "ipython3",
   "version": "3.7.10"
  }
 },
 "nbformat": 4,
 "nbformat_minor": 5
}
