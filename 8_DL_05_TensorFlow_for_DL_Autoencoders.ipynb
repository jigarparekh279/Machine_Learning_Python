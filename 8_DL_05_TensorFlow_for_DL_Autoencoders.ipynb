{
 "cells": [
  {
   "cell_type": "markdown",
   "metadata": {},
   "source": [
    "# TensorFlow for Deep Learning - Autoencoders\n",
    "\n",
    "Credits - [Hands-On Machine Learning with Scikit-Learn, Keras, and TensorFlow](https://www.oreilly.com/library/view/hands-on-machine-learning/9781492032632/)"
   ]
  },
  {
   "cell_type": "markdown",
   "metadata": {},
   "source": [
    "- [Learnable Upsampling](https://youtu.be/KjztLwPksj8) **#### IMP ####**\n",
    "- [Transpose Convolutions](https://youtu.be/hnnLAC1Q0zg) **#### IMP ####**\n",
    "- [Convolutional Autoencoder](https://youtu.be/QCA8QeZeDW8)\n",
    "- [Convolutional Solution -- Transpose Convolutions](https://youtu.be/2_Yw9LLomCo)\n",
    "- [Convolutional Solution -- Upsampling & Denoising](https://youtu.be/XX63da4EPN0)\n"
   ]
  },
  {
   "cell_type": "markdown",
   "metadata": {},
   "source": []
  }
 ],
 "metadata": {
  "interpreter": {
   "hash": "6b6002fd49c9a87ffc699d46bd67b12c4f618952be9812cb24b2c11f9ec391a8"
  },
  "kernelspec": {
   "display_name": "Python 3.9.5 64-bit",
   "name": "python3"
  },
  "language_info": {
   "codemirror_mode": {
    "name": "ipython",
    "version": 3
   },
   "file_extension": ".py",
   "mimetype": "text/x-python",
   "name": "python",
   "nbconvert_exporter": "python",
   "pygments_lexer": "ipython3",
   "version": "3.9.5"
  }
 },
 "nbformat": 4,
 "nbformat_minor": 4
}
