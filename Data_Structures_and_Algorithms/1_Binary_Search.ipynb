{
 "cells": [
  {
   "cell_type": "markdown",
   "metadata": {},
   "source": [
    "# DSA - Binary Search\n",
    "\n",
    "Credits: [freeCodeCamp Data Structures and Algorithms in Python](https://www.youtube.com/watch?v=pkYVOmU3MgA)"
   ]
  },
  {
   "cell_type": "markdown",
   "metadata": {},
   "source": [
    "## Problem \n",
    "\n",
    "**QUESTION 1:** Alice has some cards with numbers written on them. She arranges the cards in decreasing order, and lays them out face down in a sequence on a table. She challenges Bob to pick out the card containing a given number by turning over as few cards as possible. Write a function to help Bob locate the card.\n",
    "\n",
    "<img src=\"https://i.imgur.com/mazym6s.png\" width=\"480\">"
   ]
  },
  {
   "cell_type": "markdown",
   "metadata": {},
   "source": [
    "## Solution"
   ]
  },
  {
   "cell_type": "markdown",
   "metadata": {},
   "source": [
    "### 1. Problem (P) statement, the input (I/) & the output (/O) formats, and signature of function."
   ]
  },
  {
   "cell_type": "markdown",
   "metadata": {},
   "source": [
    "**P**\n",
    "> Find the position of a given card (number) with as few turnings/attempts (access) of the set of cards. \n",
    "\n",
    "**I/**\n",
    "1. `cards`: list of cards sorted in decreasing order. E.g. `[5,4,3,2,1]`\n",
    "2. `query`: card number whose position needs to be determined. E.g `3` \n",
    "\n",
    "**/O**\n",
    "1. `position`: the position of `query` in the list `cards`. E.g `2` in above case (counting from `0`)"
   ]
  },
  {
   "cell_type": "code",
   "execution_count": 1,
   "metadata": {},
   "outputs": [],
   "source": [
    "def get_card_position(cards, query):\n",
    "    pass"
   ]
  },
  {
   "cell_type": "markdown",
   "metadata": {},
   "source": [
    "### 2. Example inputs & outputs with all edge cases."
   ]
  },
  {
   "cell_type": "code",
   "execution_count": 2,
   "metadata": {},
   "outputs": [],
   "source": [
    "tests = []\n",
    "\n",
    "# somewhere in middle\n",
    "tests.append({\n",
    "    'input': {'cards': [13, 11, 10, 7, 4, 3, 1, 0], 'query': 7}, 'output': 3\n",
    "})\n",
    "\n",
    "# query is the first element\n",
    "tests.append({\n",
    "    'input': {'cards': [4, 2, 1, -1], 'query': 4}, 'output': 0\n",
    "})\n",
    "\n",
    "# query is the last element\n",
    "tests.append({\n",
    "    'input': {'cards': [3, -1, -9, -127], 'query': -127}, 'output': 3\n",
    "})\n",
    "\n",
    "# cards contains just one element, query\n",
    "tests.append({\n",
    "    'input': {'cards': [6], 'query': 6}, 'output': 0\n",
    "})\n",
    "\n",
    "# cards does not contain query \n",
    "tests.append({\n",
    "    'input': {'cards': [9, 7, 5, 2, -9], 'query': 4}, 'output': -1\n",
    "})\n",
    "\n",
    "# cards is empty\n",
    "tests.append({\n",
    "    'input': {'cards': [],'query': 7}, 'output': -1\n",
    "})\n",
    "\n",
    "# numbers can repeat in cards\n",
    "tests.append({\n",
    "    'input': {'cards': [8, 8, 6, 6, 6, 6, 6, 3, 2, 2, 2, 0, 0, 0], 'query': 3}, 'output': 7\n",
    "})\n",
    "\n",
    "# query occurs multiple times\n",
    "tests.append({\n",
    "    'input': {'cards': [8, 8, 6, 6, 6, 6, 6, 6, 3, 2, 2, 2, 0, 0, 0], 'query': 6}, 'output': 2\n",
    "})"
   ]
  },
  {
   "cell_type": "code",
   "execution_count": 3,
   "metadata": {},
   "outputs": [],
   "source": [
    "# testing\n",
    "def test_func(tests, search_func):\n",
    "    for i in range(len(tests)):\n",
    "        correct = search_func(**tests[i]['input']) == tests[i]['output']\n",
    "        if not correct:\n",
    "            print('Failed test:', i+1)\n",
    "            print(tests[i])\n",
    "            print('Search func output:', search_func(**tests[i]['input']))\n",
    "        # else:\n",
    "        #     print('Passes test:', i+1)"
   ]
  },
  {
   "cell_type": "markdown",
   "metadata": {},
   "source": [
    "### 3. Come up with a correct solution for the problem. State it in plain English."
   ]
  },
  {
   "cell_type": "markdown",
   "metadata": {},
   "source": [
    "1. Iterate over the list of cards.\n",
    "3. Check whether the number at index `position` in `card` equals `query`.\n",
    "4. If it does, `position` is the answer and can be returned from the function\n",
    "5. If not, increment the value of `position` by 1, and repeat steps 2 to 5 till we reach the last position.\n",
    "6. If the number was not found, return `-1`.\n",
    "\n",
    "> **Linear Search Algorithm**: searching through a list in a linear fashion i.e. element after element."
   ]
  },
  {
   "cell_type": "markdown",
   "metadata": {},
   "source": [
    "###  4. Implement the solution and test it using example inputs. Fix bugs, if any."
   ]
  },
  {
   "cell_type": "code",
   "execution_count": 4,
   "metadata": {},
   "outputs": [],
   "source": [
    "def linear_search(cards, query):\n",
    "    for position in range(len(cards)):\n",
    "        if cards[position] == query:\n",
    "            return position\n",
    "    return -1\n",
    "\n",
    "test_func(tests, linear_search)"
   ]
  },
  {
   "cell_type": "markdown",
   "metadata": {},
   "source": [
    "### 5. Analyze the algorithm's complexity and identify inefficiencies, if any."
   ]
  },
  {
   "cell_type": "markdown",
   "metadata": {},
   "source": [
    "Linear serach complexity: Time $O(N)$, Space $O(1)$"
   ]
  },
  {
   "cell_type": "markdown",
   "metadata": {},
   "source": [
    "### 6. Apply the right technique to overcome the inefficiency. Repeat steps 3 to 6."
   ]
  },
  {
   "cell_type": "markdown",
   "metadata": {},
   "source": [
    "#### **Step 3.**"
   ]
  },
  {
   "cell_type": "markdown",
   "metadata": {},
   "source": [
    "Make use of the cards being sorted -> **Binary search**\n",
    "\n",
    "Here's how binary search can be applied to our problem:\n",
    "\n",
    "1. Find the middle element of the list.\n",
    "2. If it matches queried number, return the middle position as the answer.\n",
    "3. If it is less than the queried number, then search the first half of the list\n",
    "3. If it is greater than the queried number, then search the second half of the list\n",
    "4. If no more elements remain, return -1."
   ]
  },
  {
   "cell_type": "markdown",
   "metadata": {},
   "source": [
    "#### **Step 4.**"
   ]
  },
  {
   "cell_type": "code",
   "execution_count": 5,
   "metadata": {},
   "outputs": [],
   "source": [
    "# helper function for case with repeated entries\n",
    "def test_location(cards, query, mid):\n",
    "    mid_num = cards[mid]\n",
    "    if mid_num == query:\n",
    "        if mid-1 >=0 and cards[mid-1] == query:\n",
    "            return 'left'\n",
    "        else:\n",
    "            return 'found'\n",
    "    elif mid_num < query:\n",
    "        return 'left'\n",
    "    else:\n",
    "        return 'right'\n",
    "\n",
    "def binary_search(cards, query):\n",
    "    low, high = 0, len(cards)-1\n",
    "\n",
    "    while low <= high:\n",
    "        mid = (low+high) // 2\n",
    "        move = test_location(cards, query, mid)\n",
    "\n",
    "        if move == 'found':\n",
    "            return mid\n",
    "        elif move == 'left':\n",
    "            high = mid-1\n",
    "        elif move == 'right':\n",
    "            low = mid+1\n",
    "\n",
    "    return -1 \n",
    "\n",
    "test_func(tests, binary_search)"
   ]
  },
  {
   "cell_type": "markdown",
   "metadata": {},
   "source": [
    "#### **Step 5.**"
   ]
  },
  {
   "cell_type": "markdown",
   "metadata": {},
   "source": [
    "Count the number of iterations in the algorithm. If we start out with an array of N elements, then each time the size of the array reduces to half for the next iteration, until we are left with just 1 element.\n",
    "\n",
    "Initial length - `N`\n",
    "\n",
    "Iteration 1 - `N/2`\n",
    "\n",
    "Iteration 2 - `N/4` i.e. `N/2^2`\n",
    "\n",
    "Iteration 3 - `N/8` i.e. `N/2^3`\n",
    "\n",
    "...\n",
    "\n",
    "Iteration k - `N/2^k`\n",
    "\n",
    "\n",
    "Since the final length of the array is 1, we can find the \n",
    "\n",
    "`N/2^k = 1`\n",
    "\n",
    "Rearranging the terms, we get\n",
    "\n",
    "`N = 2^k`\n",
    "\n",
    "Taking the logarithm\n",
    "\n",
    "`k = log N`\n",
    "\n",
    "Where `log` refers to log to the base 2. Therefore, our algorithm has the time complexity **O(log N)**. This fact is often stated as: binary search _runs_ in logarithmic time. You can verify that the space complexity of binary search is **O(1)**.\n",
    "\n",
    "Binary serach complexity: Time $O(log_2 N + 1)$ or simply $O(log_2 N)$, Space $O(1)$"
   ]
  },
  {
   "cell_type": "markdown",
   "metadata": {},
   "source": [
    "#### Linear vs Binary search"
   ]
  },
  {
   "cell_type": "code",
   "execution_count": 6,
   "metadata": {},
   "outputs": [],
   "source": [
    "max_num = 100000000\n",
    "query = 2\n",
    "large_test = [{\n",
    "    'input': {'cards': list(range(max_num, 0, -1)), 'query': query}, \n",
    "    'output': max_num - query\n",
    "}]"
   ]
  },
  {
   "cell_type": "code",
   "execution_count": 7,
   "metadata": {},
   "outputs": [
    {
     "name": "stdout",
     "output_type": "stream",
     "text": [
      "CPU times: user 8.95 s, sys: 11.5 ms, total: 8.96 s\n",
      "Wall time: 8.98 s\n"
     ]
    }
   ],
   "source": [
    "%%time\n",
    "test_func(large_test, linear_search)"
   ]
  },
  {
   "cell_type": "code",
   "execution_count": 8,
   "metadata": {},
   "outputs": [
    {
     "name": "stdout",
     "output_type": "stream",
     "text": [
      "CPU times: user 40 µs, sys: 8 µs, total: 48 µs\n",
      "Wall time: 53.6 µs\n"
     ]
    }
   ],
   "source": [
    "%%time\n",
    "test_func(large_test, binary_search)"
   ]
  },
  {
   "cell_type": "markdown",
   "metadata": {},
   "source": [
    "As the size of the input grows larger, the difference only gets bigger. For a list 10 times, the size, linear search would run for 10 times longer, whereas binary search would only require 3 additional operations! (can you verify this?) That's the real difference between the complexities **O(N)** and **O(log N)**.\n",
    "\n",
    "Another way to look at it is that binary search runs  `c * N / log N` times faster than linear search, for some fixed constant `c`. Since `log N` grows very slowly compared to `N`, the difference gets larger with the size of the input. Here's a graph showing how the comparing common functions for running time of algorithms:\n",
    "\n",
    "<img src=\"https://res.cloudinary.com/practicaldev/image/fetch/s--NR3M1nw8--/c_limit%2Cf_auto%2Cfl_progressive%2Cq_auto%2Cw_880/https://thepracticaldev.s3.amazonaws.com/i/z4bbf8o1ly77wmkjdgge.png\" width=\"480\">\n",
    "\n",
    "Do you see now why we ignore constants and lower order terms while expressing the complexity using the Big O notation?"
   ]
  },
  {
   "cell_type": "markdown",
   "metadata": {},
   "source": [
    "### Generic Binary Search"
   ]
  },
  {
   "cell_type": "markdown",
   "metadata": {},
   "source": [
    "Here is the general strategy behind binary search, which is applicable to a variety of problems:\n",
    "\n",
    "- Come up with a condition to determine whether the answer lies before, after or at a given position\n",
    "- Retrieve the midpoint and the middle element of the list.\n",
    "- If it is the answer, return the middle position as the answer.\n",
    "- If answer lies before it, repeat the search with the first half of the list.\n",
    "- If the answer lies after it, repeat the search with the second half of the list."
   ]
  },
  {
   "cell_type": "code",
   "execution_count": 9,
   "metadata": {},
   "outputs": [],
   "source": [
    "def generic_binary_search(low, high, condition):\n",
    "    while low <= high:\n",
    "        mid = (low+high) // 2\n",
    "        move = condition(mid)\n",
    "\n",
    "        if move == 'found':\n",
    "            return mid\n",
    "        elif move == 'left':\n",
    "            high = mid-1\n",
    "        elif move == 'right':\n",
    "            low = mid+1\n",
    "\n",
    "    return -1 \n",
    "\n",
    "# since the arguments of generic_binary_search are no more \n",
    "# cards and query, we need a new func with theses args\n",
    "def locate_card(cards, query):\n",
    "    \n",
    "    def condition(mid):\n",
    "        mid_num = cards[mid]\n",
    "        if mid_num == query:\n",
    "            if mid-1 >=0 and cards[mid-1] == query:\n",
    "                return 'left'\n",
    "            else:\n",
    "                return 'found'\n",
    "        elif mid_num < query:\n",
    "            return 'left'\n",
    "        else:\n",
    "            return 'right'\n",
    "\n",
    "    return generic_binary_search(0, len(cards)-1, condition)\n",
    "\n",
    "test_func(tests, locate_card)"
   ]
  },
  {
   "cell_type": "markdown",
   "metadata": {},
   "source": [
    "- Note that binary_search accepts a function condition as an argument. Python allows passing functions as arguments to other functions, unlike C++ and Java.\n",
    "- Note here that we have defined a function within a function, another handy feature in Python. And the inner function can access the variables within the outer function."
   ]
  },
  {
   "cell_type": "markdown",
   "metadata": {},
   "source": [
    "The `generic_binary_search` function can now be used to solve other problems too. It is a tested piece of logic.\n",
    "\n",
    "> **Question**: Given an array of integers nums sorted in ascending order, find the starting and ending position of a given number. \n",
    "\n",
    "This differs from the problem in only two significant ways:\n",
    "\n",
    "1. The numbers are sorted in increasing order.\n",
    "2. We are looking for both the start index and the end index.\n",
    "\n",
    "Here's the full code for solving the question, obtained by making minor modifications to our previous function:"
   ]
  },
  {
   "cell_type": "code",
   "execution_count": 12,
   "metadata": {},
   "outputs": [],
   "source": [
    "def locate_first_pos(nums, target):\n",
    "    def condition(mid):\n",
    "        mid_num = nums[mid]\n",
    "        if mid_num == target:\n",
    "            if mid-1 >=0 and nums[mid-1] == target:\n",
    "                return 'left'\n",
    "            else:\n",
    "                return 'found'\n",
    "        elif mid_num > target:\n",
    "            return 'left'\n",
    "        else:\n",
    "            return 'right'\n",
    "\n",
    "    return generic_binary_search(0, len(nums)-1, condition)\n",
    "\n",
    "def locate_last_pos(nums, target):\n",
    "    def condition(mid):\n",
    "        mid_num = nums[mid]\n",
    "        if mid_num == target:\n",
    "            if mid+1 < len(nums)-1 and nums[mid+1] == target:\n",
    "                return 'right'\n",
    "            else:\n",
    "                return 'found'\n",
    "        elif mid_num > target:\n",
    "            return 'left'\n",
    "        else:\n",
    "            return 'right'\n",
    "\n",
    "    return generic_binary_search(0, len(nums)-1, condition)"
   ]
  },
  {
   "cell_type": "code",
   "execution_count": 14,
   "metadata": {},
   "outputs": [
    {
     "name": "stdout",
     "output_type": "stream",
     "text": [
      "CPU times: user 37 µs, sys: 6 µs, total: 43 µs\n",
      "Wall time: 46.3 µs\n"
     ]
    },
    {
     "data": {
      "text/plain": [
       "(3, 7)"
      ]
     },
     "execution_count": 14,
     "metadata": {},
     "output_type": "execute_result"
    }
   ],
   "source": [
    "%%time\n",
    "nums, target = [5,7,7,8,8,8,8,8,10], 8\n",
    "locate_first_pos(nums, target), locate_last_pos(nums, target)"
   ]
  },
  {
   "cell_type": "markdown",
   "metadata": {},
   "source": [
    "## Assignment"
   ]
  },
  {
   "cell_type": "code",
   "execution_count": null,
   "metadata": {},
   "outputs": [],
   "source": []
  }
 ],
 "metadata": {
  "interpreter": {
   "hash": "f513c44cab0e7f43b93feb2c493bf956de6913ea868a31988c642fe6813eee3c"
  },
  "kernelspec": {
   "display_name": "Python 3.8.10 64-bit ('dataScienceEnv': venv)",
   "name": "python3"
  },
  "language_info": {
   "codemirror_mode": {
    "name": "ipython",
    "version": 3
   },
   "file_extension": ".py",
   "mimetype": "text/x-python",
   "name": "python",
   "nbconvert_exporter": "python",
   "pygments_lexer": "ipython3",
   "version": "3.8.10"
  },
  "orig_nbformat": 4
 },
 "nbformat": 4,
 "nbformat_minor": 2
}
