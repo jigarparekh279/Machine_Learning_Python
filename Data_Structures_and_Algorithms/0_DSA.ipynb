{
 "cells": [
  {
   "cell_type": "markdown",
   "metadata": {},
   "source": [
    "# Data Structures and Algorithms\n",
    "\n",
    "Credits: [freeCodeCamp Data Structures and Algorithms in Python](https://www.youtube.com/watch?v=pkYVOmU3MgA)"
   ]
  },
  {
   "cell_type": "markdown",
   "metadata": {},
   "source": [
    "## Why Learn Data Structures and Algorithms?"
   ]
  },
  {
   "cell_type": "markdown",
   "metadata": {},
   "source": [
    "Whether you're pursuing a career in software development or data science, it's almost certain that you'll be asked to solve programming problems like *reversing a linked list* or *balancing a binary tree* in a technical interview or coding assessment.\n",
    "\n",
    "It's well known, however, that you will almost never face these problems in your job as a software developer. So it's reasonable to wonder why such problems are asked in interviews and coding assessments. Solving programming problems demonstrates the following traits:\n",
    "\n",
    "1. You can **think about a problem systematically** and solve it systematically step-by-step.\n",
    "2. You can **envision different inputs, outputs, and edge cases** for programs you write.\n",
    "3. You can **communicate your ideas clearly** to co-workers and incorporate their suggestions.\n",
    "4. Most importantly, you can **convert your thoughts and ideas into working code** that's also readable.\n",
    "\n",
    "It's not your knowledge of specific data structures or algorithms that's tested in an interview, but your approach towards the problem. You may fail to solve the problem and still clear the interview or vice versa. In this course, you will learn the skills to both solve problems and clear interviews successfully."
   ]
  },
  {
   "cell_type": "markdown",
   "metadata": {},
   "source": [
    "## Problem Statement"
   ]
  },
  {
   "cell_type": "markdown",
   "metadata": {},
   "source": [
    "> ??? (past the problem statement here)\n",
    "\n",
    "Source: ??? (link to the source)"
   ]
  },
  {
   "cell_type": "markdown",
   "metadata": {},
   "source": [
    "## The Method\n"
   ]
  },
  {
   "cell_type": "markdown",
   "metadata": {},
   "source": [
    "Here's the systematic strategy we'll apply for solving problems:\n",
    "\n",
    "1. State the problem clearly. Identify the input & output formats.\n",
    "2. Come up with some example inputs & outputs. Try to cover all edge cases.\n",
    "3. Come up with a correct solution for the problem. State it in plain English.\n",
    "4. Implement the solution and test it using example inputs. Fix bugs, if any.\n",
    "5. Analyze the algorithm's complexity and identify inefficiencies, if any.\n",
    "6. Apply the right technique to overcome the inefficiency. Repeat steps 3 to 6.\n"
   ]
  },
  {
   "cell_type": "markdown",
   "metadata": {},
   "source": [
    "## Solution"
   ]
  },
  {
   "cell_type": "markdown",
   "metadata": {},
   "source": [
    "### 1. State the problem (P) clearly. Identify the input (I/) & output (/O) formats."
   ]
  },
  {
   "cell_type": "markdown",
   "metadata": {},
   "source": [
    "**P**\n",
    "> express the problem clearly in our own words, and in absract terms\n",
    "\n",
    "**I/**\n",
    "1. **???**\n",
    "2. **???**\n",
    "\n",
    "**/O**\n",
    "1. **???**\n",
    "\n",
    "Based on the above, we can now create a signature of our function:\n",
    "\n",
    "```python\n",
    "def signature_func(arg_1, arg_2):\n",
    "    pass\n",
    "```"
   ]
  },
  {
   "cell_type": "markdown",
   "metadata": {},
   "source": [
    "### 2. Come up with some example inputs & outputs. Try to cover all edge cases."
   ]
  },
  {
   "cell_type": "markdown",
   "metadata": {},
   "source": [
    "Before we start implementing our function, it would be useful to come up with some example inputs and outputs which we can use later to test out problem. We'll refer to them as *test cases* (a good no. would be 5 test cases).\n",
    "\n",
    "Express our test cases as dictionaries, to test them easily. Each dictionary will contain 2 keys: `input` (a dictionary itself containing one key for each argument to the function and `output` (the expected result from the function).\n",
    "\n",
    "We will assume that our function will return `-1` (something more useful) in case the problem does not state what to do in certain situations.\n",
    "\n",
    "```python\n",
    "tests = []\n",
    "\n",
    "# some simple case\n",
    "tests.append({\n",
    "    'input': {\n",
    "        'cards': [13, 11, 10, 7, 4, 3, 1, 0],\n",
    "        'query': 7\n",
    "    },\n",
    "    'output': 3\n",
    "})\n",
    "\n",
    "# some other cases ...\n",
    "```\n",
    "\n",
    "Also define a test function which takes the test cases and the signature function as arguments and checks the soln for all the test cases.\n",
    "\n",
    "```python\n",
    "# testing\n",
    "def test_func(tests, signature_func):\n",
    "    for i in range(len(tests)):\n",
    "        correct = signature_func(**tests[i]['input']) == tests[i]['output']\n",
    "        if ~correct:\n",
    "            print(tests[i])\n",
    "```"
   ]
  },
  {
   "cell_type": "markdown",
   "metadata": {},
   "source": [
    "### 3. Come up with a correct solution for the problem. State it in plain English."
   ]
  },
  {
   "cell_type": "markdown",
   "metadata": {},
   "source": [
    "Our first goal should always be to come up with a _correct_ solution to the problem, which may not necessarily be the most _efficient_ solution. Come with a correct solution and explain it in simple words below:\n",
    "\n",
    "1. **???**\n",
    "2. **???**\n",
    "3. **???**\n",
    "4. **???**\n",
    "5. **???**\n",
    "\n",
    "> **Strt with something like - Linear Search Algorithm**: searching through a list in a linear fashion i.e. element after element.\n",
    "\n",
    "\n",
    "**Tip:** Always try to express (speak or write) the algorithm in your own words before you start coding. It can be as brief or detailed as you require it to be. Writing is a great tool for thinking clearly. It's likely that you will find some parts of the solution difficult to express, which suggests that you are probably unable to think about it clearly. The more clearly you are able to express your thoughts, the easier it will be for you to turn into code."
   ]
  },
  {
   "cell_type": "markdown",
   "metadata": {},
   "source": [
    "###  4. Implement the solution and test it using example inputs. Fix bugs, if any."
   ]
  },
  {
   "cell_type": "markdown",
   "metadata": {},
   "source": [
    "### 5. Analyze the algorithm's complexity and identify inefficiencies, if any."
   ]
  },
  {
   "cell_type": "markdown",
   "metadata": {},
   "source": [
    "The field of study concerned with finding the amount of time, space or other resources required to complete the execution of computer programs is called _the analysis of algorithms_. And the process of figuring out the best algorithm to solve a given problem is called _algorithm design and optimization_.\n",
    "\n",
    "> **Complexity** of an algorithm is a measure of the amount of time and/or space required by an algorithm for an input of a given size e.g. `N`. Unless otherwise stated, the term _complexity_ always refers to the worst-case complexity (i.e. the highest possible time/space taken by the program/algorithm to process an input).\n",
    "\n",
    "In the case of linear search:\n",
    "\n",
    "1. The _time complexity_ of the algorithm is `cN` for some fixed constant `c` that depends on the number of operations we perform in each iteration and the time taken to execute a statement. Time complexity is sometimes also called the _running time_ of the algorithm.\n",
    "\n",
    "2. The _space complexity_ is some constant `c'` (independent of `N`), since we just need a single variable `position` to iterate through the array, and it occupies a constant space in the computer's memory (RAM).\n",
    "\n",
    "\n",
    "> **Big O Notation**: Worst-case complexity is often expressed using the Big O notation. In the Big O, we drop fixed constants and lower powers of variables to capture the trend of relationship between the size of the input and the complexity of the algorithm i.e. if the complexity of the algorithm is $cN^3 + dN^2 + eN + f$, in the Big O notation it is expressed as **$O(N^3)$**\n",
    "\n",
    "Thus, the time complexity of linear search is **O(N)** and its space complexity is **O(1)**.\n",
    "\n",
    "\n"
   ]
  },
  {
   "cell_type": "markdown",
   "metadata": {},
   "source": [
    "### 6. Apply the right technique to overcome the inefficiency. Repeat steps 3 to 6."
   ]
  }
 ],
 "metadata": {
  "interpreter": {
   "hash": "f513c44cab0e7f43b93feb2c493bf956de6913ea868a31988c642fe6813eee3c"
  },
  "kernelspec": {
   "display_name": "Python 3.8.10 64-bit ('dataScienceEnv': venv)",
   "name": "python3"
  },
  "language_info": {
   "codemirror_mode": {
    "name": "ipython",
    "version": 3
   },
   "file_extension": ".py",
   "mimetype": "text/x-python",
   "name": "python",
   "nbconvert_exporter": "python",
   "pygments_lexer": "ipython3",
   "version": "3.8.10"
  },
  "orig_nbformat": 4
 },
 "nbformat": 4,
 "nbformat_minor": 2
}
