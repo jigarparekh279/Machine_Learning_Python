{
 "cells": [
  {
   "cell_type": "markdown",
   "metadata": {},
   "source": [
    "## Combining two perceptrons into a third, more complicated one\n",
    "\n",
    "[<img src=\"images/CombPercp.png\" width=\"500\"/>](https://www.youtube.com/watch?v=Boy3zHVrWB4)\n",
    "[<img src=\"images/CombPercp1.png\" width=\"500\"/>](https://youtu.be/FWN3Sw5fFoM)"
   ]
  },
  {
   "cell_type": "markdown",
   "metadata": {},
   "source": [
    "## Multiple layers\n",
    "\n",
    "[<img src=\"images/CombPercp2.png\" width=\"500\"/>](https://youtu.be/pg99FkXYK0M)"
   ]
  },
  {
   "cell_type": "markdown",
   "metadata": {},
   "source": [
    "## Multi-Class Classification\n",
    "\n",
    "[<img src=\"images/CombPercp3.png\" width=\"500\"/>](https://youtu.be/uNTtvxwfox0)"
   ]
  },
  {
   "cell_type": "markdown",
   "metadata": {},
   "source": [
    "## Feedforward\n",
    "\n",
    "Feedforward is the process neural networks use to turn the input into an output.\n",
    "\n",
    "[<img src=\"images/CombPercp4.png\" width=\"500\"/>](https://youtu.be/hVCuvMGOfyY)"
   ]
  },
  {
   "cell_type": "markdown",
   "metadata": {},
   "source": [
    "## Error function\n",
    "\n",
    "[<img src=\"images/CombPercp5.png\" width=\"500\"/>](https://youtu.be/SC1wEW7TtKs)"
   ]
  },
  {
   "cell_type": "markdown",
   "metadata": {},
   "source": [
    "## Backpropagation\n",
    "\n",
    "Now, we're ready to get our hands into training a neural network. For this, we'll use the method known as backpropagation. In a nutshell, backpropagation will consist of:\n",
    "\n",
    "- Doing a feedforward operation.\n",
    "- Comparing the output of the model with the desired output.\n",
    "- Calculating the error.\n",
    "- Running the feedforward operation backwards (backpropagation) to spread the error to each of the weights.\n",
    "- Use this to update the weights, and get a better model.\n",
    "- Continue this until we have a model that is good\n",
    "\n",
    "[<img src=\"images/CombPercp6.png\" width=\"500\"/>](https://youtu.be/1SmY3TZTyUk)\n",
    "\n",
    "<img src=\"images/BP1.png\" width=\"500\"/>\n",
    "<img src=\"images/BP2.png\" width=\"500\"/>\n",
    "<img src=\"images/BP3.png\" width=\"500\"/>"
   ]
  }
 ],
 "metadata": {
  "interpreter": {
   "hash": "f513c44cab0e7f43b93feb2c493bf956de6913ea868a31988c642fe6813eee3c"
  },
  "kernelspec": {
   "display_name": "Python 3.8.10 64-bit ('dataScienceEnv': venv)",
   "name": "python3"
  },
  "language_info": {
   "codemirror_mode": {
    "name": "ipython",
    "version": 3
   },
   "file_extension": ".py",
   "mimetype": "text/x-python",
   "name": "python",
   "nbconvert_exporter": "python",
   "pygments_lexer": "ipython3",
   "version": "3.8.10"
  },
  "orig_nbformat": 4
 },
 "nbformat": 4,
 "nbformat_minor": 2
}
