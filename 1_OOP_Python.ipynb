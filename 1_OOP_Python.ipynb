{
 "cells": [
  {
   "cell_type": "markdown",
   "metadata": {},
   "source": [
    "Credits: \n",
    "- Python Object Oriented Programming (OOP) - For Beginners [freeCodeCamp](https://www.youtube.com/watch?v=JeznW_7DlB0&list=RDQME_vdrx6fihk&index=8)\n",
    "- @[myself](https://www.linkedin.com/in/parekh279/)"
   ]
  },
  {
   "cell_type": "markdown",
   "metadata": {},
   "source": [
    "# Object\n",
    "Objects are instances of (respective) classes."
   ]
  },
  {
   "cell_type": "code",
   "execution_count": 9,
   "metadata": {},
   "outputs": [
    {
     "name": "stdout",
     "output_type": "stream",
     "text": [
      "<class 'str'>\n",
      "<class 'int'>\n",
      "<class 'function'>\n"
     ]
    }
   ],
   "source": [
    "def hello():\n",
    "    print('Hello')\n",
    "\n",
    "x = 1 \n",
    "\n",
    "print(type('Hello')) # 'Hello' is an object of type (class) string\n",
    "print(type(x))       # x is an object of type (class) int\n",
    "print(type(hello))   # hello is an object of type (class) function"
   ]
  },
  {
   "cell_type": "code",
   "execution_count": 10,
   "metadata": {},
   "outputs": [
    {
     "name": "stdout",
     "output_type": "stream",
     "text": [
      "HELLO\n"
     ]
    }
   ],
   "source": [
    "string = 'hello'\n",
    "print(string.upper()) # upper is a method of class string "
   ]
  },
  {
   "cell_type": "markdown",
   "metadata": {},
   "source": [
    "# Creating custom class"
   ]
  },
  {
   "cell_type": "code",
   "execution_count": 85,
   "metadata": {},
   "outputs": [
    {
     "name": "stdout",
     "output_type": "stream",
     "text": [
      "<class '__main__.Dog'>\n",
      "Bruno\n",
      "10\n",
      "Bruno\n",
      "10\n",
      "None\n",
      "11\n",
      "Whoff\n"
     ]
    }
   ],
   "source": [
    "class Dog:\n",
    "    \n",
    "    ### Customary methods ###\n",
    "    \n",
    "    # instantiates the object right when it is created (and naming\n",
    "    # the dog here), 'self' is a reference to the object itself\n",
    "    # used to define attributes and method specific to this object\n",
    "    def __init__(self, name, age): \n",
    "        self.name = name # creating an attribute 'name' \n",
    "                         # of the class Dog\n",
    "        self.age = age   # creating an attribute 'age' \n",
    "                         # of the class Dog\n",
    "    \n",
    "    ### Optional mehtods ###\n",
    "    \n",
    "    def bark(self):    # method (function defined inside a class)\n",
    "        print(\"Whoff\")\n",
    "        \n",
    "    def getName(self): # self tells which dog we are accessing\n",
    "        return self.name\n",
    "    def getAge(self):  # self tells which dog we are accessing\n",
    "        return self.age\n",
    "    \n",
    "    def setAge(self, age):\n",
    "        self.age = age\n",
    "\n",
    "        \n",
    "        \n",
    "d = Dog('Bruno', 10)\n",
    "\n",
    "print(type(d)) # __<moduleName>__.<className> tells that 'd' is an\n",
    "               # object of class <class> defined in module \n",
    "               # <moduleName> (which by default is the\n",
    "               # __main__ module)\n",
    "\n",
    "print(d.name)  # calling attribute 'name' of the Dog object d \n",
    "print(d.age)   # calling attribute 'age' of the Dog object d \n",
    "print(d.getName()) # calling method 'getName' on the Dog object d\n",
    "print(d.getAge())  # calling method 'getAge' on the Dog object d\n",
    "\n",
    "print(d.setAge(11)) # calling method 'setAge' on the Dog object d\n",
    "print(d.getAge())   # calling method 'getAge' on the Dog object d\n",
    "\n",
    "d.bark()       # calling the method 'bark' on the Dog object d\n"
   ]
  },
  {
   "cell_type": "markdown",
   "metadata": {},
   "source": [
    "# Interaction b/w classes"
   ]
  },
  {
   "cell_type": "code",
   "execution_count": 57,
   "metadata": {},
   "outputs": [
    {
     "name": "stdout",
     "output_type": "stream",
     "text": [
      "Tim\n",
      "85.0\n"
     ]
    },
    {
     "data": {
      "text/plain": [
       "False"
      ]
     },
     "execution_count": 57,
     "metadata": {},
     "output_type": "execute_result"
    }
   ],
   "source": [
    "# Interaction b/w classes Course and Student\n",
    "\n",
    "class Student:\n",
    "    def __init__(self, name, age, grade):\n",
    "        self.age   = age\n",
    "        self.name  = name\n",
    "        self.grade = grade # 0-100\n",
    "        \n",
    "    def getGrade(self):\n",
    "        return self.grade\n",
    "    \n",
    "class Course:\n",
    "    def __init__(self, name, maxStudents):\n",
    "        self.name = name\n",
    "        self.maxStudents = maxStudents\n",
    "        self.students = []\n",
    "        \n",
    "    def addStudent(self, student):\n",
    "        if len(self.students) < self.maxStudents:\n",
    "            self.students.append(student)\n",
    "            return True\n",
    "        return False\n",
    "    \n",
    "    def getAverageGrade(self):\n",
    "        value = 0\n",
    "        for student in self.students:\n",
    "            value += student.getGrade()\n",
    "        return value/len(self.students)\n",
    "    \n",
    "s1 = Student('Tim', 19, 95)\n",
    "s2 = Student('Mad', 19, 75)\n",
    "s3 = Student('Max', 19, 65)\n",
    "\n",
    "course = Course('Science', 2)\n",
    "course.addStudent(s1)\n",
    "course.addStudent(s2)\n",
    "\n",
    "print(course.students[0].name)\n",
    "print(course.getAverageGrade())\n",
    "\n",
    "course.addStudent(s3)"
   ]
  },
  {
   "cell_type": "markdown",
   "metadata": {},
   "source": [
    "# Inheritance\n",
    "Child class inherits the Parent class. And just like a child does, it may modify or add a few attributes or methods of its own."
   ]
  },
  {
   "cell_type": "code",
   "execution_count": 92,
   "metadata": {},
   "outputs": [
    {
     "name": "stdout",
     "output_type": "stream",
     "text": [
      "I am Petty and 2 years old\n",
      "Phew ...\n",
      "I am Kitty, Black color and 5 years old\n",
      "Meow ...\n",
      "I am Bruno and 8 years old\n",
      "Whoff ...\n"
     ]
    }
   ],
   "source": [
    "class Pet:\n",
    "    def __init__(self, name, age):\n",
    "        self.name = name\n",
    "        self.age  = age\n",
    "    def show(self):\n",
    "        print(f'I am {self.name} and {self.age} years old')\n",
    "    def speak(self):\n",
    "        print('Phew ...')\n",
    "\n",
    "        \n",
    "class Cat(Pet):\n",
    "    def __init__(self, name, age, color):\n",
    "        super().__init__(name, age) # super is a refernce to the\n",
    "                                    # inherited class (Pet here)\n",
    "        self.color = color\n",
    "    def show(self):\n",
    "        print(f\"I am {self.name}, {self.color} color and {self.age} years old\")\n",
    "    def speak(self): # overwrides the speak method in Pet class\n",
    "        print('Meow ...')\n",
    "        \n",
    "        \n",
    "class Dog(Pet):\n",
    "    def speak(self): # overwrides the speak method in Pet class\n",
    "        print('Whoff ...')\n",
    "\n",
    "        \n",
    "pet = Pet('Petty', 2)\n",
    "cat = Cat('Kitty', 5, 'Black')\n",
    "dog = Dog('Bruno', 8)\n",
    "\n",
    "pet.show(); pet.speak()\n",
    "cat.show(); cat.speak();\n",
    "dog.show(); dog.speak()"
   ]
  },
  {
   "cell_type": "markdown",
   "metadata": {},
   "source": [
    "# Class Attributes and Methods\n",
    "Class attributes (and methods) are specific to the class and not to an object (instance) of that class. Useful for definig constants, which is always the same for any instance of this class."
   ]
  },
  {
   "cell_type": "code",
   "execution_count": 120,
   "metadata": {},
   "outputs": [
    {
     "name": "stdout",
     "output_type": "stream",
     "text": [
      "1\n",
      "2\n",
      "2\n"
     ]
    }
   ],
   "source": [
    "class Person:\n",
    "    numPeople = 0 # a class attribute (doesn't have access to an\n",
    "                  # instance of this class), same for all objects\n",
    "    \n",
    "    def __init__(self, name):\n",
    "        self.name = name\n",
    "        Person.numPeople += 1 # track num of instances of Person\n",
    "        \n",
    "    @classmethod        # needed this decorator for a class method\n",
    "    def numOfPeople(cls):   # cls refers to this class (not self)\n",
    "        return cls.numPeople\n",
    "\n",
    "    \n",
    "p1 = Person('Mad')\n",
    "print(Person.numPeople)\n",
    "p2 = Person('Max')\n",
    "print(Person.numPeople)      # accessing class attribute \n",
    "print(Person.numOfPeople())  # using class method"
   ]
  },
  {
   "cell_type": "markdown",
   "metadata": {},
   "source": [
    "# Static Method\n",
    "Define some methods that aren't specific to an instance. These methods do something but don't change anything. More of an organizational thing."
   ]
  },
  {
   "cell_type": "code",
   "execution_count": 122,
   "metadata": {},
   "outputs": [
    {
     "name": "stdout",
     "output_type": "stream",
     "text": [
      "10\n",
      "run\n"
     ]
    }
   ],
   "source": [
    "class Math:\n",
    "    \n",
    "    @staticmethod\n",
    "    def add5(x):\n",
    "        return x+5\n",
    "    \n",
    "    @staticmethod\n",
    "    def pr():\n",
    "        print('run')\n",
    "        \n",
    "print(Math.add5(5))\n",
    "Math.pr()"
   ]
  }
 ],
 "metadata": {
  "kernelspec": {
   "display_name": "Python 3",
   "language": "python",
   "name": "python3"
  },
  "language_info": {
   "codemirror_mode": {
    "name": "ipython",
    "version": 3
   },
   "file_extension": ".py",
   "mimetype": "text/x-python",
   "name": "python",
   "nbconvert_exporter": "python",
   "pygments_lexer": "ipython3",
   "version": "3.7.5"
  }
 },
 "nbformat": 4,
 "nbformat_minor": 2
}
