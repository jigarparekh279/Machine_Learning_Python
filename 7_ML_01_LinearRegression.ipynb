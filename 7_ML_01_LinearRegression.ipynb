{
 "cells": [
  {
   "cell_type": "markdown",
   "id": "ccd320e1",
   "metadata": {},
   "source": [
    "# ML_LinearRegression\n",
    "\n",
    "Credits:\n",
    "\n",
    "- [2021 Python for Machine Learning & Data Science Masterclass by Jose Portilla Udemy](https://www.udemy.com/course/python-for-machine-learning-data-science-masterclass/)"
   ]
  },
  {
   "cell_type": "markdown",
   "id": "73a0463b",
   "metadata": {},
   "source": [
    "**Supervised Learning**\n",
    "- Using historical and labeled data, the machine learning model predicts a value.\n",
    "    - Historical: Known results and data from the past.\n",
    "    - Labeled: The desired output is known\n",
    "- Two main label types\n",
    "    - Categorical Value to Predict -> **Classification** Task\n",
    "        - Cancerous vs. Benign Tumor\n",
    "        - Fulfillment vs. Credit Default\n",
    "        - Assigning Image Category (Handwriting Recognition)\n",
    "\n",
    "    - Continuous Value to Predict -> **Regression** Task\n",
    "        - Future prices\n",
    "        - Electricity loads\n",
    "        - Test scores\n",
    "\n",
    "**Unsupervised Learning**\n",
    "- Applied to unlabeled data, the machine learning model discovers possible patterns in the data. The ML model groups and interprets data without a label.\n",
    "- Example: Clustering customers into separate groups based off their behaviour features.\n",
    "- Major downside is because there was no historical “correct” label, it is much harder to evaluate performance of an unsupervised learning algorithm."
   ]
  },
  {
   "cell_type": "markdown",
   "id": "6599a4e7",
   "metadata": {},
   "source": [
    "<a id='toc'></a>\n",
    "\n",
    "- [Linear Regression](#1)\n",
    "    - OLS, Simple Linear Regression, Linear Regression\n",
    "    - Evaluation Metrics (MAE, MSE, RMSE, Residuls)\n",
    "    - Linear Regression with Python\n",
    "        - Simple Linear Regression, Polynomial Linear Regression\n",
    "- [Scikit-Learn](#2)\n",
    "    - General ML framewrok for supervised learning\n",
    "    - Linear Regression with Scikit-Learn\n",
    "        - Multiple Linear Regression (LR for multiple features)\n",
    "            - Model Deployement (dump, load)\n",
    "- [Polynomial Linear Regeression](#3)\n",
    "    - Non-linear feature-label relationships\n",
    "    - Interaction terms between features\n",
    "    - Comparison with Linear Regression\n",
    "- [Bias-Variance Trade Off](#4)\n",
    "    - Overfitting, Underfitting\n",
    "- [Feature Scaling](#5)\n",
    "    - Standardization, Normalization\n",
    "- [Regularization](#6)\n",
    "    - L1 (LASSO Regressoin), L2 (Ridge Regerssion), Elastic Net \n",
    "- [Cross Validaiton](#7)\n",
    "    - RidgeCV, LassoCV, ElasticNetCV\n",
    "    - cross_val_score(), cross_validate(), GridSearchCV()"
   ]
  },
  {
   "cell_type": "markdown",
   "id": "ff714bc0",
   "metadata": {},
   "source": [
    "<a id='1'></a>\n",
    "## Linear Regression\n",
    "\n",
    "**Ordinary Least Squares** (OLS) works by minimizing the sum of the squares of the differences between the observed dependent variable (values of the variable being observed) in the given dataset and those predicted by the linear function. \n",
    "\n",
    "Linear Regression OLS Theory: We can see for y=mx+b there is only room for one possible feature x. OLS will allow us to directly solve for the slope m and intercept b. However, we’ll need tools like gradient descent to scale this to multiple features.\n",
    "\n",
    "**Simple Linear Regression** (only one feature)\n",
    "<img src=\"images/LR01.png\" style=\"float:center;\" alt=\"drawing\" width=\"600\"/>\n",
    "\n",
    "**Multiple Linear Regression** (multiple features)\n",
    "<img src=\"images/LR02.png\" style=\"float:center;\" alt=\"drawing\" width=\"600\"/>\n",
    "\n",
    "Unfortunately, it is not scalable to try to get an analytical solution to minimize this cost function. Taking the cost function derivative and then solving for zero to get the set of Beta coefficients will be too difficult to solve directly through an analytical solution. Instead we can describe this cost function through vectorized matrix notation and use gradient descent to have a computer figure out the set of Beta coefficient values that minimize the cost/loss function. Use a gradient to express the derivative of the cost function with respect to each β. We use Gradient Descent method to compute the optimal values of β."
   ]
  },
  {
   "cell_type": "markdown",
   "id": "41971283",
   "metadata": {},
   "source": [
    "**Evaluation Metrics**\n",
    "The three most common evaluation metrics for regression problems:\n",
    "\n",
    "**Mean Absolute Error** (MAE) is the mean of the absolute value of the errors:\n",
    "\n",
    "$$\\frac 1n\\sum_{i=1}^n|y_i-\\hat{y}_i|$$\n",
    "\n",
    "**Mean Squared Error** (MSE) is the mean of the squared errors:\n",
    "\n",
    "$$\\frac 1n\\sum_{i=1}^n(y_i-\\hat{y}_i)^2$$\n",
    "\n",
    "**Root Mean Squared Error** (RMSE) is the square root of the mean of the squared errors:\n",
    "\n",
    "$$\\sqrt{\\frac 1n\\sum_{i=1}^n(y_i-\\hat{y}_i)^2}$$\n",
    "\n",
    "Comparing these metrics:\n",
    "\n",
    "- **MAE** is the easiest to understand, because it's the average error.\n",
    "- **MSE** is more popular than MAE, because MSE \"punishes\" larger errors, which tends to be useful in the real world.\n",
    "- **RMSE** is even more popular than MSE, because RMSE is interpretable in the \"y\" units.\n",
    "\n",
    "All of these are **loss functions**, because we want to minimize them.\n",
    "\n",
    "**Residuals**\n",
    "- Often for Linear Regression it is a good idea to separately evaluate residuals (y-ŷ) and not just calculate performance metrics (e.g. RMSE).\n",
    "- The residual errors should be random and close to a normal distribution.\n",
    "- Residual plot shows residual error vs. true y value. There should be no clear line or curve.\n",
    "\n",
    "<img src=\"images/Res1.png\" style=\"float:center;\" alt=\"drawing\" width=\"600\"/>\n",
    "\n",
    "- What about non valid datasets? Residual plot showing a clear pattern, indicating Linear Regression no valid!\n",
    "\n",
    "<img src=\"images/Res3.png\" style=\"float:center;\" alt=\"drawing\" width=\"750\"/>"
   ]
  },
  {
   "cell_type": "markdown",
   "id": "76f78ce5",
   "metadata": {},
   "source": [
    "### Linear Regression with Python"
   ]
  },
  {
   "cell_type": "code",
   "execution_count": 1,
   "id": "e3a61785",
   "metadata": {},
   "outputs": [],
   "source": [
    "import numpy as np\n",
    "import pandas as pd\n",
    "import matplotlib.pyplot as plt\n",
    "import seaborn as sns"
   ]
  },
  {
   "cell_type": "code",
   "execution_count": 2,
   "id": "7cb484ba",
   "metadata": {},
   "outputs": [
    {
     "data": {
      "text/html": [
       "<div>\n",
       "<style scoped>\n",
       "    .dataframe tbody tr th:only-of-type {\n",
       "        vertical-align: middle;\n",
       "    }\n",
       "\n",
       "    .dataframe tbody tr th {\n",
       "        vertical-align: top;\n",
       "    }\n",
       "\n",
       "    .dataframe thead th {\n",
       "        text-align: right;\n",
       "    }\n",
       "</style>\n",
       "<table border=\"1\" class=\"dataframe\">\n",
       "  <thead>\n",
       "    <tr style=\"text-align: right;\">\n",
       "      <th></th>\n",
       "      <th>TV</th>\n",
       "      <th>radio</th>\n",
       "      <th>newspaper</th>\n",
       "      <th>sales</th>\n",
       "    </tr>\n",
       "  </thead>\n",
       "  <tbody>\n",
       "    <tr>\n",
       "      <th>31</th>\n",
       "      <td>112.9</td>\n",
       "      <td>17.4</td>\n",
       "      <td>38.6</td>\n",
       "      <td>11.9</td>\n",
       "    </tr>\n",
       "    <tr>\n",
       "      <th>3</th>\n",
       "      <td>151.5</td>\n",
       "      <td>41.3</td>\n",
       "      <td>58.5</td>\n",
       "      <td>18.5</td>\n",
       "    </tr>\n",
       "    <tr>\n",
       "      <th>191</th>\n",
       "      <td>75.5</td>\n",
       "      <td>10.8</td>\n",
       "      <td>6.0</td>\n",
       "      <td>9.9</td>\n",
       "    </tr>\n",
       "  </tbody>\n",
       "</table>\n",
       "</div>"
      ],
      "text/plain": [
       "        TV  radio  newspaper  sales\n",
       "31   112.9   17.4       38.6   11.9\n",
       "3    151.5   41.3       58.5   18.5\n",
       "191   75.5   10.8        6.0    9.9"
      ]
     },
     "execution_count": 2,
     "metadata": {},
     "output_type": "execute_result"
    }
   ],
   "source": [
    "df = pd.read_csv('data/Advertising.csv')\n",
    "df.sample(3)"
   ]
  },
  {
   "cell_type": "code",
   "execution_count": 3,
   "id": "c9a4f5a5",
   "metadata": {},
   "outputs": [
    {
     "data": {
      "text/html": [
       "<div>\n",
       "<style scoped>\n",
       "    .dataframe tbody tr th:only-of-type {\n",
       "        vertical-align: middle;\n",
       "    }\n",
       "\n",
       "    .dataframe tbody tr th {\n",
       "        vertical-align: top;\n",
       "    }\n",
       "\n",
       "    .dataframe thead th {\n",
       "        text-align: right;\n",
       "    }\n",
       "</style>\n",
       "<table border=\"1\" class=\"dataframe\">\n",
       "  <thead>\n",
       "    <tr style=\"text-align: right;\">\n",
       "      <th></th>\n",
       "      <th>TV</th>\n",
       "      <th>radio</th>\n",
       "      <th>newspaper</th>\n",
       "      <th>sales</th>\n",
       "      <th>total_spend</th>\n",
       "    </tr>\n",
       "  </thead>\n",
       "  <tbody>\n",
       "    <tr>\n",
       "      <th>5</th>\n",
       "      <td>8.7</td>\n",
       "      <td>48.9</td>\n",
       "      <td>75.0</td>\n",
       "      <td>7.2</td>\n",
       "      <td>132.6</td>\n",
       "    </tr>\n",
       "    <tr>\n",
       "      <th>83</th>\n",
       "      <td>68.4</td>\n",
       "      <td>44.5</td>\n",
       "      <td>35.6</td>\n",
       "      <td>13.6</td>\n",
       "      <td>148.5</td>\n",
       "    </tr>\n",
       "    <tr>\n",
       "      <th>54</th>\n",
       "      <td>262.7</td>\n",
       "      <td>28.8</td>\n",
       "      <td>15.9</td>\n",
       "      <td>20.2</td>\n",
       "      <td>307.4</td>\n",
       "    </tr>\n",
       "  </tbody>\n",
       "</table>\n",
       "</div>"
      ],
      "text/plain": [
       "       TV  radio  newspaper  sales  total_spend\n",
       "5     8.7   48.9       75.0    7.2        132.6\n",
       "83   68.4   44.5       35.6   13.6        148.5\n",
       "54  262.7   28.8       15.9   20.2        307.4"
      ]
     },
     "execution_count": 3,
     "metadata": {},
     "output_type": "execute_result"
    }
   ],
   "source": [
    "# add an engineered feature\n",
    "df['total_spend'] = df['TV']+df['radio']+df['newspaper']\n",
    "df.sample(3)"
   ]
  },
  {
   "cell_type": "markdown",
   "id": "6eda33f5",
   "metadata": {},
   "source": [
    "#### Simple Linear Regression for a single feature"
   ]
  },
  {
   "cell_type": "code",
   "execution_count": 4,
   "id": "85d14702",
   "metadata": {},
   "outputs": [
    {
     "data": {
      "image/png": "[encoded data removed]",
      "text/plain": [
       "<Figure size 1500x600 with 1 Axes>"
      ]
     },
     "metadata": {
      "needs_background": "light"
     },
     "output_type": "display_data"
    }
   ],
   "source": [
    "# look at the feature and output\n",
    "plt.figure(figsize=(10,4), dpi=150)\n",
    "sns.regplot(x='total_spend', y='sales', data=df); # regression plot"
   ]
  },
  {
   "cell_type": "code",
   "execution_count": 5,
   "id": "0cc55192",
   "metadata": {},
   "outputs": [
    {
     "name": "stdout",
     "output_type": "stream",
     "text": [
      "[0.04868788 4.24302822]\n"
     ]
    },
    {
     "data": {
      "image/png": "[encoded data removed]",
      "text/plain": [
       "<Figure size 1500x600 with 1 Axes>"
      ]
     },
     "metadata": {
      "needs_background": "light"
     },
     "output_type": "display_data"
    }
   ],
   "source": [
    "# the above plot can be replicated with some calculations\n",
    "X = df['total_spend']\n",
    "y = df['sales']\n",
    "\n",
    "# polyfit in numpy\n",
    "print(np.polyfit(X,y,deg=1)) # deg=1 implies simple linear regression\n",
    "\n",
    "# predict sales for a range of spend\n",
    "potential_spend = np.linspace(0,500,100)\n",
    "predicted_sales = 0.04868788*potential_spend + 4.24302822\n",
    "\n",
    "plt.figure(figsize=(10,4), dpi=150)\n",
    "plt.plot(potential_spend, predicted_sales, c='r');\n",
    "sns.scatterplot(x='total_spend', y='sales', data=df);"
   ]
  },
  {
   "cell_type": "markdown",
   "id": "5c1f5094",
   "metadata": {},
   "source": [
    "#### Polynomial Linear Regression (for a single feature)"
   ]
  },
  {
   "cell_type": "code",
   "execution_count": 6,
   "id": "675e4e13",
   "metadata": {},
   "outputs": [
    {
     "name": "stdout",
     "output_type": "stream",
     "text": [
      "[ 3.07615033e-07 -1.89392449e-04  8.20886302e-02  2.70495053e+00]\n"
     ]
    },
    {
     "data": {
      "image/png": "[encoded data removed]",
      "text/plain": [
       "<Figure size 2000x800 with 1 Axes>"
      ]
     },
     "metadata": {
      "needs_background": "light"
     },
     "output_type": "display_data"
    }
   ],
   "source": [
    "# increasing the polynomial degree\n",
    "X = df['total_spend']\n",
    "y = df['sales']\n",
    "\n",
    "# polyfit in numpy\n",
    "print(np.polyfit(X,y,deg=3)) # deg>1 implies simple poly regression\n",
    "\n",
    "# predict sales for a range of spend\n",
    "potential_spend = np.linspace(0,500,100)\n",
    "predicted_sales = 3.07615033e-07*potential_spend**3 + \\\n",
    "                  -1.89392449e-04*potential_spend**2 + \\\n",
    "                  8.20886302e-02*potential_spend + 2.70495053e+00\n",
    "\n",
    "plt.figure(figsize=(10,4), dpi=200)\n",
    "plt.plot(potential_spend, predicted_sales, c='r');\n",
    "sns.scatterplot(x='total_spend', y='sales', data=df);"
   ]
  },
  {
   "cell_type": "markdown",
   "id": "2193abde",
   "metadata": {},
   "source": [
    "[top](#toc)\n",
    "\n",
    "<a id='2'></a>\n",
    "## Scikit-Learn\n",
    "\n",
    "- Scikit-learn is a library containing many machine learning algorithms. It utilizes a generalized “estimator API” framework to calling the models. This means the way algorithms are imported, fitted, and used is uniform across all algorithms.\n",
    "- Scikit-learn also comes with many convenience tools, including train test split functions, cross validation tools, and a variety of reporting metric functions.\n",
    "- Philosophy of Scikit-Learn\n",
    "    - Scikit-Learn’s approach to model building focuses on applying models and performance metrics.\n",
    "    - This is a more pragmatic industry style approach rather than an academic approach of describing the model and its parameters.\n",
    "    \n",
    "### General ML framewrok for supervised learning\n",
    "```\n",
    "from sklearn.model_selection import train_test_split\n",
    "X_train, X_test, y_train, y_test = train_test_split(X, y)\n",
    "\n",
    "from sklearn.model_family import ModelAlgo\n",
    "mymodel = ModelAlgo(param1,param2)\n",
    "mymodel.fit(X_train,y_train)\n",
    "predictions = mymodel.predict(X_test)\n",
    "\n",
    "from sklearn.metrics import error_metric\n",
    "performance = error_metric(y_test,predictions)\n",
    "\n",
    "```\n",
    "\n",
    "This framework will be similar for any supervised machine learning algorithm."
   ]
  },
  {
   "cell_type": "markdown",
   "id": "15df2d05",
   "metadata": {},
   "source": [
    "### Linear Regression with Scikit-Learn"
   ]
  },
  {
   "cell_type": "code",
   "execution_count": 7,
   "id": "325eccb0",
   "metadata": {},
   "outputs": [
    {
     "data": {
      "text/html": [
       "<div>\n",
       "<style scoped>\n",
       "    .dataframe tbody tr th:only-of-type {\n",
       "        vertical-align: middle;\n",
       "    }\n",
       "\n",
       "    .dataframe tbody tr th {\n",
       "        vertical-align: top;\n",
       "    }\n",
       "\n",
       "    .dataframe thead th {\n",
       "        text-align: right;\n",
       "    }\n",
       "</style>\n",
       "<table border=\"1\" class=\"dataframe\">\n",
       "  <thead>\n",
       "    <tr style=\"text-align: right;\">\n",
       "      <th></th>\n",
       "      <th>TV</th>\n",
       "      <th>radio</th>\n",
       "      <th>newspaper</th>\n",
       "      <th>sales</th>\n",
       "    </tr>\n",
       "  </thead>\n",
       "  <tbody>\n",
       "    <tr>\n",
       "      <th>160</th>\n",
       "      <td>172.5</td>\n",
       "      <td>18.1</td>\n",
       "      <td>30.7</td>\n",
       "      <td>14.4</td>\n",
       "    </tr>\n",
       "    <tr>\n",
       "      <th>181</th>\n",
       "      <td>218.5</td>\n",
       "      <td>5.4</td>\n",
       "      <td>27.4</td>\n",
       "      <td>12.2</td>\n",
       "    </tr>\n",
       "    <tr>\n",
       "      <th>0</th>\n",
       "      <td>230.1</td>\n",
       "      <td>37.8</td>\n",
       "      <td>69.2</td>\n",
       "      <td>22.1</td>\n",
       "    </tr>\n",
       "  </tbody>\n",
       "</table>\n",
       "</div>"
      ],
      "text/plain": [
       "        TV  radio  newspaper  sales\n",
       "160  172.5   18.1       30.7   14.4\n",
       "181  218.5    5.4       27.4   12.2\n",
       "0    230.1   37.8       69.2   22.1"
      ]
     },
     "execution_count": 7,
     "metadata": {},
     "output_type": "execute_result"
    }
   ],
   "source": [
    "df = pd.read_csv('data/Advertising.csv')\n",
    "df.sample(3)"
   ]
  },
  {
   "cell_type": "code",
   "execution_count": 8,
   "id": "8dd85d07",
   "metadata": {},
   "outputs": [
    {
     "data": {
      "image/png": "[encoded data removed]",
      "text/plain": [
       "<Figure size 1152x432 with 3 Axes>"
      ]
     },
     "metadata": {
      "needs_background": "light"
     },
     "output_type": "display_data"
    }
   ],
   "source": [
    "# look at the feature(s) and output\n",
    "fig, ax = plt.subplots(nrows=1, ncols=3, figsize=(16,6))\n",
    "\n",
    "ax[0].plot(df['TV'],df['sales'],'o')\n",
    "ax[0].set_ylabel('Sales')\n",
    "ax[0].set_xlabel('TV Spend')\n",
    "\n",
    "ax[1].plot(df['radio'],df['sales'],'o')\n",
    "ax[1].set_ylabel('Sales')\n",
    "ax[1].set_xlabel('Radio Spend')\n",
    "\n",
    "ax[2].plot(df['newspaper'],df['sales'],'o')\n",
    "ax[2].set_ylabel('Sales')\n",
    "ax[2].set_xlabel('Newspaper Spend')\n",
    "\n",
    "plt.tight_layout()"
   ]
  },
  {
   "cell_type": "code",
   "execution_count": 9,
   "id": "d719a423",
   "metadata": {},
   "outputs": [],
   "source": [
    "# data\n",
    "X = df.drop('sales', axis=1)\n",
    "y = df['sales']"
   ]
  },
  {
   "cell_type": "code",
   "execution_count": 10,
   "id": "dc0bfe8d",
   "metadata": {},
   "outputs": [],
   "source": [
    "# train_test_split\n",
    "from sklearn.model_selection import train_test_split\n",
    "\n",
    "X_train, X_test, y_train, y_test = train_test_split(X,y,\n",
    "                                test_size=0.3, random_state=42)"
   ]
  },
  {
   "cell_type": "markdown",
   "id": "6e0472c8",
   "metadata": {},
   "source": [
    "#### Multiple Linear Regression (LR for multiple features)"
   ]
  },
  {
   "cell_type": "code",
   "execution_count": 11,
   "id": "6754a3f7",
   "metadata": {},
   "outputs": [],
   "source": [
    "# create a model\n",
    "from sklearn.linear_model import LinearRegression\n",
    "\n",
    "model = LinearRegression()\n",
    "model.fit(X_train, y_train)\n",
    "test_predictions = model.predict(X_test)"
   ]
  },
  {
   "cell_type": "code",
   "execution_count": 12,
   "id": "5c55c749",
   "metadata": {},
   "outputs": [
    {
     "data": {
      "text/plain": [
       "(1.5116692224549084, 1.9485372043446383)"
      ]
     },
     "execution_count": 12,
     "metadata": {},
     "output_type": "execute_result"
    }
   ],
   "source": [
    "# evaluation metrics\n",
    "from sklearn.metrics import mean_absolute_error, mean_squared_error\n",
    "\n",
    "mae = mean_absolute_error(y_test, test_predictions)\n",
    "mse = mean_squared_error(y_test, test_predictions)\n",
    "rmse = np.sqrt(mse)\n",
    "mae, rmse"
   ]
  },
  {
   "cell_type": "code",
   "execution_count": 13,
   "id": "d17e9517",
   "metadata": {},
   "outputs": [
    {
     "data": {
      "text/plain": [
       "14.0225"
      ]
     },
     "execution_count": 13,
     "metadata": {},
     "output_type": "execute_result"
    }
   ],
   "source": [
    "# comparing with mean of output\n",
    "df['sales'].mean()"
   ]
  },
  {
   "cell_type": "markdown",
   "id": "a22d2f1a",
   "metadata": {},
   "source": [
    "mse and rmse are in 10% error range wrt output (sales) values"
   ]
  },
  {
   "cell_type": "code",
   "execution_count": 14,
   "id": "2613e977",
   "metadata": {},
   "outputs": [
    {
     "data": {
      "text/plain": [
       "Text(0, 0.5, 'residual')"
      ]
     },
     "execution_count": 14,
     "metadata": {},
     "output_type": "execute_result"
    },
    {
     "data": {
      "image/png": "[encoded data removed]",
      "text/plain": [
       "<Figure size 432x288 with 1 Axes>"
      ]
     },
     "metadata": {
      "needs_background": "light"
     },
     "output_type": "display_data"
    }
   ],
   "source": [
    "# evaluating residuals (y-y^)\n",
    "test_residuals = y_test - test_predictions\n",
    "\n",
    "# residual plot\n",
    "sns.scatterplot(x=y_test, y=test_residuals);\n",
    "plt.axhline(y=0, c='r', ls='--')\n",
    "plt.ylabel('residual')"
   ]
  },
  {
   "cell_type": "code",
   "execution_count": 15,
   "id": "80288808",
   "metadata": {},
   "outputs": [
    {
     "data": {
      "text/plain": [
       "Text(0.5, 6.79999999999999, 'residual')"
      ]
     },
     "execution_count": 15,
     "metadata": {},
     "output_type": "execute_result"
    },
    {
     "data": {
      "image/png": "[encoded data removed]",
      "text/plain": [
       "<Figure size 360x360 with 1 Axes>"
      ]
     },
     "metadata": {
      "needs_background": "light"
     },
     "output_type": "display_data"
    }
   ],
   "source": [
    "# residual distribution plot\n",
    "sns.displot(x=test_residuals, bins=20, kde=True);\n",
    "plt.xlabel('residual')"
   ]
  },
  {
   "cell_type": "markdown",
   "id": "a56ae741",
   "metadata": {},
   "source": [
    "The residual has no pattern and is distributed close to 0. Great!"
   ]
  },
  {
   "cell_type": "markdown",
   "id": "8656065a",
   "metadata": {},
   "source": [
    "Interpreting the coefficients"
   ]
  },
  {
   "cell_type": "code",
   "execution_count": 16,
   "id": "77a1a306",
   "metadata": {},
   "outputs": [
    {
     "data": {
      "text/plain": [
       "array([ 0.04576465,  0.18853002, -0.00103749])"
      ]
     },
     "execution_count": 16,
     "metadata": {},
     "output_type": "execute_result"
    }
   ],
   "source": [
    "# what we can understand fromt the model coeffs?\n",
    "final_model = model  #LinearRegression()\n",
    "final_model.fit(X,y) # fit the final model assuming it to be the best\n",
    "final_model.coef_    # Coeff. for TV, radio and newpaper spend"
   ]
  },
  {
   "cell_type": "markdown",
   "id": "0623b34e",
   "metadata": {},
   "source": [
    "* Holding all other features fixed, a 1 unit (A thousand dollars) increase in TV Spend is associated with an increase in sales of  0.045 \"sales units\", in this case 1000s of units. \n",
    "* This basically means that for every \\$1000 dollars spend on TV Ads, we could expect 45 more units sold.\n",
    "\n",
    "\n",
    "* Holding all other features fixed, a 1 unit (A thousand dollars) increase in Radio Spend is associated with an increase in sales of  0.188 \"sales units\", in this case 1000s of units. \n",
    "* This basically means that for every $1000 dollars spend on Radio Ads, we could expect 188 more units sold.\n",
    "\n",
    "\n",
    "* Holding all other features fixed, a 1 unit (A thousand dollars) increase in Newspaper Spend is associated with a **decrease** in sales of  0.001 \"sales units\", in this case 1000s of units . \n",
    "* This basically means that for every $1000 dollars spend on Newspaper Ads, we could actually expect to sell 1 less unit. Being so close to 0, this heavily implies that newspaper spend has no real effect on sales.\n",
    "\n",
    "Note! In this case all our units were the same for each feature (1 unit = $1000 of ad spend). But in other datasets, units may not be the same, such as a housing dataset could try to predict a sale price with both a feature for number of bedrooms and a feature of total area like square footage. In this case it would make more sense to *normalize* the data, in order to clearly compare features and results."
   ]
  },
  {
   "cell_type": "code",
   "execution_count": 17,
   "id": "fe0f6ff7",
   "metadata": {},
   "outputs": [
    {
     "data": {
      "image/png": "[encoded data removed]",
      "text/plain": [
       "<Figure size 1152x432 with 3 Axes>"
      ]
     },
     "metadata": {
      "needs_background": "light"
     },
     "output_type": "display_data"
    }
   ],
   "source": [
    "# compare the feature(s) and output both true and predicted\n",
    "y_hat = final_model.predict(X)\n",
    "\n",
    "fig, ax = plt.subplots(nrows=1, ncols=3, figsize=(16,6))\n",
    "\n",
    "ax[0].plot(df['TV'],df['sales'],'o')\n",
    "ax[0].plot(df['TV'],y_hat,'o',c='r')\n",
    "ax[0].set_ylabel('Sales')\n",
    "ax[0].set_xlabel('TV Spend')\n",
    "\n",
    "ax[1].plot(df['radio'],df['sales'],'o')\n",
    "ax[1].plot(df['radio'],y_hat,'o',c='r')\n",
    "ax[1].set_ylabel('Sales')\n",
    "ax[1].set_xlabel('Radio Spend')\n",
    "\n",
    "ax[2].plot(df['newspaper'],df['sales'],'o')\n",
    "ax[2].plot(df['newspaper'],y_hat,'o',c='r')\n",
    "ax[2].set_ylabel('Sales')\n",
    "ax[2].set_xlabel('Newspaper Spend')\n",
    "\n",
    "plt.tight_layout()"
   ]
  },
  {
   "cell_type": "markdown",
   "id": "da0c38ae",
   "metadata": {},
   "source": [
    "#### Model Deployement (dump. load)\n",
    "\n",
    "* Retraining Model on Full Data: If we're satisfied with the performance on the test data, before deploying our model to the real world, we should retrain on all our data. (If we were not satisfied, we could update parameters or choose another model).\n",
    "\n",
    "* Save model - Load Model - Apply to New Data"
   ]
  },
  {
   "cell_type": "code",
   "execution_count": 18,
   "id": "6142cfb5",
   "metadata": {},
   "outputs": [
    {
     "data": {
      "text/plain": [
       "array([ 0.04576465,  0.18853002, -0.00103749])"
      ]
     },
     "execution_count": 18,
     "metadata": {},
     "output_type": "execute_result"
    }
   ],
   "source": [
    "# dumping (saving) and loading a model\n",
    "from joblib import dump,load\n",
    "\n",
    "dump(final_model, 'models/final_sales_model.joblib')\n",
    "loaded_model = load('models/final_sales_model.joblib')\n",
    "loaded_model.coef_"
   ]
  },
  {
   "cell_type": "code",
   "execution_count": 19,
   "id": "ddf62ad2",
   "metadata": {},
   "outputs": [
    {
     "data": {
      "text/plain": [
       "array([13.893032])"
      ]
     },
     "execution_count": 19,
     "metadata": {},
     "output_type": "execute_result"
    }
   ],
   "source": [
    "# perdict for some campaign\n",
    "campaign = [[149,22,12]] # must have the same shape as X which is 2D\n",
    "loaded_model.predict(campaign)"
   ]
  },
  {
   "cell_type": "markdown",
   "id": "a025249c",
   "metadata": {},
   "source": [
    "[top](#toc)\n",
    "\n",
    "<a id='3'></a>\n",
    "## Polynomial Regeression\n",
    "\n",
    "- How can we now improve on a Linear Regression model? One approach is to consider higher order relationships on the features.\n",
    "\n",
    "- There are two issues polynomial regression will address for us:\n",
    "\n",
    "    - **Non-linear feature-label relationships**: where the relationship could be more linear. Even more so for higher orders!\n",
    "    <img src=\"images/PR1.png\" style=\"float:center;\" alt=\"drawing\" width=\"800\"/>\n",
    "    \n",
    "    Keep in mind this is an exaggerated example, and not every feature will have relationships at a higher order. The main point here is to show it could be reasonable to solve for a single linear Beta coefficient for polynomial of an original feature.\n",
    "\n",
    "    - **Interaction terms between features**: What if features are only significant when in sync with one another? Synergy!\n",
    "    \n",
    "    For example: Perhaps newspaper advertising spend by itself is not effective, but greatly increases effectiveness if added to a TV advertising campaign.\n",
    "    \n",
    "    Simplest way is to create a new feature that multiplies two existing features together to create an interaction term. We can keep the original features, and add on this interaction term. Fortunately Scikit-Learn does this for us easily through a preprocessing call. \n",
    "    \n",
    "    **PolynomialFeatures** which automatically creates both higher order feature polynomials and the interaction terms between all feature combinations. The features created include:\n",
    "        - The bias (the value of 1.0)\n",
    "        - Values raised to a power for each degree (e.g. x^1, x^2, x^3, …)\n",
    "        - Interactions between all pairs of features (e.g. x1 * x2, x1 * x3, …)\n",
    "\n"
   ]
  },
  {
   "cell_type": "code",
   "execution_count": 20,
   "id": "3d7cea5b",
   "metadata": {},
   "outputs": [
    {
     "data": {
      "text/html": [
       "<div>\n",
       "<style scoped>\n",
       "    .dataframe tbody tr th:only-of-type {\n",
       "        vertical-align: middle;\n",
       "    }\n",
       "\n",
       "    .dataframe tbody tr th {\n",
       "        vertical-align: top;\n",
       "    }\n",
       "\n",
       "    .dataframe thead th {\n",
       "        text-align: right;\n",
       "    }\n",
       "</style>\n",
       "<table border=\"1\" class=\"dataframe\">\n",
       "  <thead>\n",
       "    <tr style=\"text-align: right;\">\n",
       "      <th></th>\n",
       "      <th>TV</th>\n",
       "      <th>radio</th>\n",
       "      <th>newspaper</th>\n",
       "      <th>sales</th>\n",
       "    </tr>\n",
       "  </thead>\n",
       "  <tbody>\n",
       "    <tr>\n",
       "      <th>151</th>\n",
       "      <td>121.0</td>\n",
       "      <td>8.4</td>\n",
       "      <td>48.7</td>\n",
       "      <td>11.6</td>\n",
       "    </tr>\n",
       "    <tr>\n",
       "      <th>109</th>\n",
       "      <td>255.4</td>\n",
       "      <td>26.9</td>\n",
       "      <td>5.5</td>\n",
       "      <td>19.8</td>\n",
       "    </tr>\n",
       "    <tr>\n",
       "      <th>49</th>\n",
       "      <td>66.9</td>\n",
       "      <td>11.7</td>\n",
       "      <td>36.8</td>\n",
       "      <td>9.7</td>\n",
       "    </tr>\n",
       "    <tr>\n",
       "      <th>68</th>\n",
       "      <td>237.4</td>\n",
       "      <td>27.5</td>\n",
       "      <td>11.0</td>\n",
       "      <td>18.9</td>\n",
       "    </tr>\n",
       "    <tr>\n",
       "      <th>118</th>\n",
       "      <td>125.7</td>\n",
       "      <td>36.9</td>\n",
       "      <td>79.2</td>\n",
       "      <td>15.9</td>\n",
       "    </tr>\n",
       "  </tbody>\n",
       "</table>\n",
       "</div>"
      ],
      "text/plain": [
       "        TV  radio  newspaper  sales\n",
       "151  121.0    8.4       48.7   11.6\n",
       "109  255.4   26.9        5.5   19.8\n",
       "49    66.9   11.7       36.8    9.7\n",
       "68   237.4   27.5       11.0   18.9\n",
       "118  125.7   36.9       79.2   15.9"
      ]
     },
     "execution_count": 20,
     "metadata": {},
     "output_type": "execute_result"
    }
   ],
   "source": [
    "df.sample(5)"
   ]
  },
  {
   "cell_type": "code",
   "execution_count": 21,
   "id": "0e5c3d67",
   "metadata": {},
   "outputs": [],
   "source": [
    "X = df.drop('sales', axis=1)\n",
    "y = df['sales']"
   ]
  },
  {
   "cell_type": "code",
   "execution_count": 22,
   "id": "449bd741",
   "metadata": {},
   "outputs": [
    {
     "data": {
      "text/plain": [
       "(200, 9)"
      ]
     },
     "execution_count": 22,
     "metadata": {},
     "output_type": "execute_result"
    }
   ],
   "source": [
    "# creating features\n",
    "from sklearn.preprocessing import PolynomialFeatures\n",
    "\n",
    "polynomial_convertor = PolynomialFeatures(degree=2, include_bias=False)\n",
    "#polynomial_convertor.fit(X)\n",
    "#poly_features = polynomial_convertor.transform(X)\n",
    "poly_features = polynomial_convertor.fit_transform(X)\n",
    "poly_features.shape # columns now have 6 more features"
   ]
  },
  {
   "cell_type": "code",
   "execution_count": 23,
   "id": "e74d93e3",
   "metadata": {},
   "outputs": [
    {
     "data": {
      "text/plain": [
       "(0.5905974833808008, 0.7233218473857531)"
      ]
     },
     "execution_count": 23,
     "metadata": {},
     "output_type": "execute_result"
    }
   ],
   "source": [
    "## Follow all the steps as in Linear Regression\n",
    "\n",
    "# train-test split on poly_features\n",
    "from sklearn.model_selection import train_test_split\n",
    "\n",
    "X_train, X_test, y_train, y_test = \\\n",
    "train_test_split(poly_features,y,test_size=0.3, random_state=42)\n",
    "\n",
    "# create a linear regression model on poly_features\n",
    "from sklearn.linear_model import LinearRegression\n",
    "\n",
    "model = LinearRegression()\n",
    "model.fit(X_train, y_train)\n",
    "test_predictions = model.predict(X_test)\n",
    "\n",
    "# evaluation metrics\n",
    "from sklearn.metrics import mean_absolute_error, mean_squared_error\n",
    "\n",
    "mae = mean_absolute_error(y_test, test_predictions)\n",
    "mse = mean_squared_error(y_test, test_predictions)\n",
    "rmse = np.sqrt(mse)\n",
    "mae, rmse"
   ]
  },
  {
   "cell_type": "markdown",
   "id": "a3742713",
   "metadata": {},
   "source": [
    "Comparison with Simple Linear Regression\n",
    "\n",
    "**Results on the Test Set (Note: Use the same Random Split to fairly compare!)**\n",
    "\n",
    "* Simple Linear Regression:\n",
    "    * MAE: 1.511\n",
    "    * RMSE: 1.948\n",
    "\n",
    "* Polynomial 2-degree:\n",
    "    * MAE: 0.590\n",
    "    * RMSE: 0.723"
   ]
  },
  {
   "cell_type": "markdown",
   "id": "c8a80238",
   "metadata": {},
   "source": [
    "[top](#toc)\n",
    "\n",
    "<a id='4'></a>\n",
    "## Bias-Variance Trade Off\n",
    "\n",
    "In general, increasing model complexity in search for better performance leads to a Bias-Variance trade-off. We want to have a model that can generalize well to new unseen data, but can also account for variance and patterns in the known data. Extreme bias or extreme variance both lead to bad models. We can visualize this effect by considering a model that underfits (high bias) or a model that overfits (high variance).\n",
    "\n",
    "**Overfitting**\n",
    "- Model is fitting too much to noise and variance in the training data. This often results in low error on training sets but high error on test/validation sets.\n",
    "\n",
    "**Underfitting** \n",
    "- Model has high bias and is generalizing too much. Model does not capture the underlying trend of the data and does not fit the data well enough. Low variance but high bias. Underfitting is often a result of an excessively simple model. Underfitting can lead to poor performance in both training and testing data sets.\n",
    "\n",
    "Overfitting versus Underfitting: overfitting can be harder to detect, since good performance on training data could lead to a model that appears to be performing well. When thinking about overfitting and underfitting we want to keep in mind the relationship of model performance on the training set versus the test/validation set.\n",
    "\n",
    "<img src=\"images/BiasVsVar1.png\" style=\"float:center;\" alt=\"drawing\" width=\"1100\"/>\n"
   ]
  },
  {
   "cell_type": "code",
   "execution_count": 24,
   "id": "38313879",
   "metadata": {},
   "outputs": [],
   "source": [
    "from sklearn.preprocessing import PolynomialFeatures\n",
    "from sklearn.model_selection import train_test_split\n",
    "from sklearn.linear_model import LinearRegression\n",
    "from sklearn.metrics import mean_absolute_error, mean_squared_error"
   ]
  },
  {
   "cell_type": "code",
   "execution_count": 25,
   "id": "80c05f4d",
   "metadata": {},
   "outputs": [],
   "source": [
    "# repeat all the steps for Poly. Reg. within a loop of degrees\n",
    "train_rsme_err = []\n",
    "test_rsme_err = []\n",
    "\n",
    "for d in range(1,10):\n",
    "    poly_convertor = PolynomialFeatures(degree=d,include_bias=False)\n",
    "    poly_features = poly_convertor.fit_transform(X)\n",
    "    \n",
    "    X_train, X_test, y_train, y_test = \\\n",
    "    train_test_split(poly_features,y,test_size=0.3,random_state=42)\n",
    "    \n",
    "    model = LinearRegression()\n",
    "    model.fit(X_train, y_train)\n",
    "    train_predictions = model.predict(X_train)\n",
    "    test_predictions = model.predict(X_test)\n",
    "    \n",
    "    train_rsme_err.append(np.sqrt(mean_squared_error(y_train, train_predictions)))\n",
    "    test_rsme_err.append(np.sqrt(mean_squared_error(y_test, test_predictions)))\n"
   ]
  },
  {
   "cell_type": "code",
   "execution_count": 26,
   "id": "2a205f67",
   "metadata": {},
   "outputs": [
    {
     "data": {
      "image/png": "[encoded data removed]",
      "text/plain": [
       "<Figure size 432x288 with 1 Axes>"
      ]
     },
     "metadata": {
      "needs_background": "light"
     },
     "output_type": "display_data"
    }
   ],
   "source": [
    "plt.plot(range(1,10),train_rsme_err,c='b',label='train_rmse');\n",
    "plt.plot(range(1,10),test_rsme_err,c='r',label='test_rmse');\n",
    "plt.xlabel('degree')\n",
    "plt.ylabel('rmse')\n",
    "plt.ylim(0,2.5)\n",
    "plt.xlim(1,10)\n",
    "plt.legend();"
   ]
  },
  {
   "cell_type": "markdown",
   "id": "9b411f9a",
   "metadata": {},
   "source": [
    "Thus we see overfitting for higher degree polynomial (>=3). "
   ]
  },
  {
   "cell_type": "code",
   "execution_count": 27,
   "id": "4f4cbcfd",
   "metadata": {},
   "outputs": [
    {
     "data": {
      "text/plain": [
       "['models/final_poly_convertor.joblib']"
      ]
     },
     "execution_count": 27,
     "metadata": {},
     "output_type": "execute_result"
    }
   ],
   "source": [
    "# Using poly deg of 3 we make out final poly convertor and\n",
    "# poly model and save it!\n",
    "from joblib import dump, load\n",
    "\n",
    "final_poly_convertor = PolynomialFeatures(degree=3,include_bias=False)\n",
    "full_converted_X = final_poly_convertor.fit_transform(X)\n",
    "final_poly_model = LinearRegression()\n",
    "final_poly_model.fit(full_converted_X,y)\n",
    "dump(final_poly_model, \"models/final_poly_model.joblib\")\n",
    "dump(final_poly_convertor, \"models/final_poly_convertor.joblib\")"
   ]
  },
  {
   "cell_type": "code",
   "execution_count": 28,
   "id": "4900d9c5",
   "metadata": {},
   "outputs": [
    {
     "data": {
      "text/plain": [
       "array([14.41214467])"
      ]
     },
     "execution_count": 28,
     "metadata": {},
     "output_type": "execute_result"
    }
   ],
   "source": [
    "# load the convertor and model\n",
    "loaded_convertor = load(\"models/final_poly_convertor.joblib\")\n",
    "loaded_model = load(\"models/final_poly_model.joblib\")\n",
    "\n",
    "# new campaign\n",
    "campaign = [[142,22,12]]\n",
    "transformed_campaign = loaded_convertor.fit_transform(campaign)\n",
    "loaded_model.predict(transformed_campaign)"
   ]
  },
  {
   "cell_type": "markdown",
   "id": "148f6dda",
   "metadata": {},
   "source": [
    "[top](#toc)\n",
    "\n",
    "<a id='5'></a>\n",
    "## Feature Scaling\n",
    "\n",
    "- Feature scaling improves the convergence of steepest descent algorithms, which do not possess the property of scale invariance. If features are on different scales, certain weights may update faster than others since the feature values $x_j$ play a role in the weight updates.\n",
    "- Some machine learning models that rely on distance metrics (e.g. KNN) require scaling to perform well.\n",
    "- There are some ML Algos where scaling won’t have an effect (e.g. decision tress based methods, random forest).\n",
    "- Scaling the features so that their respective ranges are uniform is important in comparing measurements that have different units. Allows us directly compare model coefficients to each other.\n",
    "- Feature scaling caveats:\n",
    "    - Must always scale new unseen data before feeding to model.\n",
    "    - Effects direct interpretability of feature coefficients -- easier to compare coefficients to one another, harder to relate back to original unscaled feature.\n",
    "\n",
    "- Two main ways to scale features:\n",
    "    - **Standardization**: Rescales data to have a mean (μ) of 0 and standard deviation (σ) of 1. Also referred to as *Z-score normalization*.\n",
    "    <img src=\"images/FS1.png\" style=\"float:center;\" alt=\"drawing\" width=\"200\"/>   \n",
    "    \n",
    "    - **Normalization**: Rescales all data values to be between 0-1.\n",
    "    <img src=\"images/FS2.png\" style=\"float:center;\" alt=\"drawing\" width=\"250\"/> \n",
    "\n",
    "\n",
    "- There are many more methods of scaling features and Scikit-Learn provides easy to use classes that “fit” and “transform” feature data for scaling.\n",
    "    - A .fit() method call simply calculates the necessary statistics (Xmin,Xmax,mean, standard deviation).\n",
    "    - A .transform() call actually scales data and returns the new scaled version of data.\n",
    "\n",
    "- Very important consideration for fit and transform:\n",
    "    - We *only fit to training data*.\n",
    "    - Calculating statistical information should only come from training data.\n",
    "    - Don’t want to assume prior knowledge of the test set!\n",
    "    - Using the full data set would cause data leakage: calculating statistics from full data leads to some information of the test set leaking into the training process upon transform() conversion.\n",
    "\n",
    "- Feature scaling process:\n",
    "    - Perform train test split\n",
    "    - Fit to training feature data\n",
    "    - Transform training feature data\n",
    "    - Transform test feature data\n",
    "\n",
    "- Do we need to scale the label?\n",
    "    - In general it is not necessary nor advised.\n",
    "    - Normalising the output distribution is altering the definition of the target.\n",
    "    - Predicting a distribution that doesn't mirror your real-world target.\n",
    "    - Can negatively impact stochastic gradient descent [link](stats.stackexchange.com/questions/111467)"
   ]
  },
  {
   "cell_type": "code",
   "execution_count": 29,
   "id": "088506ee",
   "metadata": {},
   "outputs": [],
   "source": [
    "from sklearn.preprocessing import PolynomialFeatures\n",
    "from sklearn.model_selection import train_test_split\n",
    "from sklearn.metrics import mean_absolute_error, mean_squared_error"
   ]
  },
  {
   "cell_type": "code",
   "execution_count": 30,
   "id": "50e103fc",
   "metadata": {},
   "outputs": [
    {
     "data": {
      "text/plain": [
       "array([[ 1.53003874, -0.8862929 , -1.16598019, ..., -0.72447935,\n",
       "        -0.64260728, -0.56741817],\n",
       "       [ 0.34103865, -0.17314426, -0.40960132, ..., -0.49005815,\n",
       "        -0.48542724, -0.48607391],\n",
       "       [-0.5202089 , -0.42000341,  0.39526337, ..., -0.43826891,\n",
       "        -0.23081191, -0.11902137],\n",
       "       ...,\n",
       "       [ 0.73338476,  0.68400555,  1.38437419, ...,  0.98466871,\n",
       "         1.23420682,  1.03910131],\n",
       "       [ 0.11017646, -0.92743609, -0.62293895, ..., -0.69731572,\n",
       "        -0.59958111, -0.52677186],\n",
       "       [ 1.48099548, -0.9205789 , -0.43869282, ..., -0.68627658,\n",
       "        -0.57490039, -0.49271293]])"
      ]
     },
     "execution_count": 30,
     "metadata": {},
     "output_type": "execute_result"
    }
   ],
   "source": [
    "# import StandardScaler for feature scaling\n",
    "from sklearn.preprocessing import StandardScaler\n",
    "\n",
    "df = pd.read_csv('data/Advertising.csv')\n",
    "X = df.drop('sales',axis=1)\n",
    "y = df['sales']\n",
    "\n",
    "polynomial_convertor = PolynomialFeatures(degree=3,include_bias=False)\n",
    "poly_features = polynomial_convertor.fit_transform(X)\n",
    "\n",
    "X_train, X_test, y_train, y_test = \\\n",
    "train_test_split(poly_features,y,test_size=0.3, random_state=42)\n",
    "\n",
    "# perform feature scaling (fit only on taining data!)\n",
    "scalar = StandardScaler()\n",
    "scalar.fit(X_train)\n",
    "X_train = scalar.transform(X_train)\n",
    "X_test  = scalar.transform(X_test)\n",
    "\n",
    "X_train # the values are all standardized"
   ]
  },
  {
   "cell_type": "markdown",
   "id": "d3b39c72",
   "metadata": {},
   "source": [
    "[top](#toc)\n",
    "\n",
    "<a id='6'></a>\n",
    "## Regularization\n",
    "\n",
    "Regularization seeks to solve a few common model issues by:\n",
    "- Minimizing model complexity\n",
    "- Penalizing the loss function\n",
    "- Reducing model overfitting (add more bias to reduce model variance)\n",
    "- Requires a search for optimal penalty hyperparameter\n",
    "\n",
    "Three main types of Regularization:\n",
    "\n",
    "- L1 Regularization (LASSO Regression): Least Absolute Shrinkage and Selection Operator (LASSO) adds a penalty equal to the absolute value of the magnitude of coefficients. \n",
    "    - Limits the size of the coefficients. \n",
    "    - Can yield sparse models as some coefficients can become zero when the tuning parameter λ is sufficiently large (indirectly eliminating the unwanted features and improving the interpretability of the model). \n",
    "    <img src=\"images/Regu11.png\" style=\"float:center;\" alt=\"drawing\" width=\"450\"/>\n",
    "    \n",
    "- L2 Regularization (Ridge Regression): adds a penalty equal to the square of the magnitude of coefficients.\n",
    "    - All coefficients are shrunk by the same factor.\n",
    "    - Does not necessarily eliminate coefficients.\n",
    "    <img src=\"images/Regu22.png\" style=\"float:center;\" alt=\"drawing\" width=\"450\"/>\n",
    "\n",
    "\n",
    "- Combining L1 and L2 (Elastic Net): Elastic net combines L1 and L2 with the addition of an alpha parameter deciding the ratio between them.\n",
    "    <img src=\"images/Regu33.png\" style=\"float:center;\" alt=\"drawing\" width=\"400\"/>    \n",
    "\n",
    "These regularization methods do have a cost:\n",
    "Introduce an additional hyperparameters ($\\lambda, \\alpha$) that needs to be tuned -- a multiplier to the penalty to decide the “strength” of the penalty. Use cross-validation to explore multiple lambda options and then choose the best one!\n",
    "\n",
    "NOTE - Sklearn refers to lambda as alpha within the class call!\n",
    "\n",
    "### Deep dive into the three kinds of Regularizations:\n",
    "\n",
    "<img src=\"images/Regu55.png\" style=\"float:center;\" alt=\"drawing\" width=\"800\"/> \n",
    "\n",
    "<img src=\"images/Regu66.png\" style=\"float:center;\" alt=\"drawing\" width=\"500\"/> \n",
    "\n",
    "Lasso:\n",
    "A convex object that lies tangent to the boundary, is likely to encounter a corner of a hypercube, for which some components of β are zero. This is why Lasso is more likely to lead to coefficients as zero.\n",
    "\n",
    "Ridge: In the case of an n-sphere, the points on the boundary for which some of the components of β are zero are not distinguished from the others and the convex object is no more likely to contact a point at which some components of β are zero than one for which none of them are."
   ]
  },
  {
   "cell_type": "code",
   "execution_count": 31,
   "id": "b3ccda41",
   "metadata": {},
   "outputs": [
    {
     "data": {
      "text/plain": [
       "(0.6296591346758601, 0.8916327541710896)"
      ]
     },
     "execution_count": 31,
     "metadata": {},
     "output_type": "execute_result"
    }
   ],
   "source": [
    "# import Rigde instead of LinearRegression for L2 regularization\n",
    "from sklearn.linear_model import Ridge\n",
    "\n",
    "# perform linear regression with L2 regularization (Ridge)\n",
    "ridge_model = Ridge(alpha=10)\n",
    "ridge_model.fit(X_train, y_train)\n",
    "test_predictions = ridge_model.predict(X_test)\n",
    "\n",
    "mae = mean_absolute_error(y_test, test_predictions)\n",
    "mse = mean_squared_error(y_test, test_predictions)\n",
    "rmse = np.sqrt(mse)\n",
    "mae, rmse"
   ]
  },
  {
   "attachments": {},
   "cell_type": "markdown",
   "id": "a61ab102",
   "metadata": {},
   "source": [
    "[top](#toc)\n",
    "\n",
    "<a id='7'></a>\n",
    "## Cross Validation\n",
    "\n",
    "- We understand the intuition behind performing a train test split, we want to fairly evaluate our model’s performance on unseen data.\n",
    "- Unfortunately this means we are not able to tune hyperparameters to the entire dataset. \n",
    "- Is there a way we can achieve the following:\n",
    "    - Train on all the data\n",
    "    - Evaluate on all the data\n",
    "\n",
    "    <img src=\"images/CV1.png\" style=\"float:right;\" alt=\"drawing\" width=\"450\"/> \n",
    "\n",
    "- While it sounds impossible, we can achieve this with cross validation!\n",
    "- We were able to train on all data and evaluate on all data!\n",
    "- We get a better sense of true performance across multiple potential splits. What is the cost of this? We have to repeat computations K number of times!\n",
    "- This is known as K-fold cross-validation. Common choice for K is 10 so each test set is 10% of your total data. Largest K possible would be K equal to the number of number of rows. This is known as *leave one out* cross validation. Computationally expensive!\n",
    "\n",
    "- If we tune hyperparameters to test data performance, are we ever fairly getting performance metrics? How can we understand how the model behaves for data that is has not seen and not been influenced by for hyperparameter tuning? For this we can use a \"hold-out\" test set. \n",
    "\n",
    "    *Right : CV using Train|Validate|Test split. Left : CV using Train|Validate|Test split with k-fold method.*\n",
    "\n",
    "    <img src=\"images/CV.png\" style=\"float:center;\" width=\"800\"/> \n",
    "\n",
    "\n",
    "- Recall the entire reason to not adjust after the final test data set is to get the fairest evaluation of the model. The model was not fitted to the final test data and the model hyperparameters were not adjusted based off final test data. This is truly never before seen data!\n",
    "\n",
    "\n",
    "**Cross Validation Metrics**\n",
    "\n",
    "For cross validation metrics, sklearn uses a “scorer object”.\n",
    "All scorer objects follow the convention that higher return values are better than lower return values. For example, obviously higher accuracy is better. But higher RMSE is actually worse! So Scikit-Learn fixes this by using a negative RMSE as its scorer metric. This allows for uniformity across all scorer metrics, even across different tasks types. The same idea of uniformity across model classes applies to referring to the penalty strength parameter as alpha.\n",
    "```\n",
    "# choose a scorer from the SCORERS dict\n",
    "from sklearn.metrics import SCORERS\n",
    "SCORERS.keys()\n",
    "```\n",
    "will give the list of all the available scoring metrics for regression, classification etc. Then we can choose one of the keys and use it for the ```scoring``` argument of ```RidgeCV``` model."
   ]
  },
  {
   "cell_type": "markdown",
   "id": "e3dad1b1",
   "metadata": {},
   "source": [
    "### RidgeCV"
   ]
  },
  {
   "cell_type": "code",
   "execution_count": 32,
   "id": "3e5fd832",
   "metadata": {},
   "outputs": [
    {
     "data": {
      "text/plain": [
       "0.1"
      ]
     },
     "execution_count": 32,
     "metadata": {},
     "output_type": "execute_result"
    }
   ],
   "source": [
    "# Cross Validation along with Ridge regularization\n",
    "from sklearn.linear_model import RidgeCV\n",
    "\n",
    "# alphas : range of lambda values\n",
    "# cv : is the k-fold parameter (default None is 'leave-one-out')\n",
    "ridge_cv_model = RidgeCV(alphas=(0.1,1.0,10),cv=None,\n",
    "                        scoring='neg_root_mean_squared_error')\n",
    "\n",
    "# since we are only fitting on (X_train,y_train), this means that\n",
    "# the (X_test,y_test) is our hold-out TEST set, also\n",
    "# (X_train,y_train) = TRAIN + VALIDATION\n",
    "ridge_cv_model.fit(X_train,y_train)\n",
    "\n",
    "# best alpha (lambda)\n",
    "ridge_cv_model.alpha_"
   ]
  },
  {
   "cell_type": "code",
   "execution_count": 33,
   "id": "4fa99c41",
   "metadata": {},
   "outputs": [
    {
     "data": {
      "text/plain": [
       "(0.46671241132084407, 0.5945136671856113)"
      ]
     },
     "execution_count": 33,
     "metadata": {},
     "output_type": "execute_result"
    }
   ],
   "source": [
    "test_predictions = ridge_cv_model.predict(X_test)\n",
    "MAE = mean_absolute_error(y_test, test_predictions)\n",
    "RMSE = np.sqrt(mean_squared_error(y_test, test_predictions))\n",
    "MAE, RMSE"
   ]
  },
  {
   "cell_type": "markdown",
   "id": "4827b2c3",
   "metadata": {},
   "source": [
    "- Ridge with alpha=10\n",
    "    - MAE = 0.63\n",
    "    - RMSE = 0.89\n",
    "    \n",
    "- RidgeCV we get best alpha=0.1\n",
    "    - MAE = 0.46\n",
    "    - RMSE = 0.59"
   ]
  },
  {
   "cell_type": "code",
   "execution_count": 34,
   "id": "317345b4",
   "metadata": {},
   "outputs": [
    {
     "data": {
      "text/plain": [
       "array([ 5.90523815,  0.46316396,  0.68028713, -6.17743395,  3.73671928,\n",
       "       -1.40708382,  0.00624704,  0.11128917, -0.2617823 ,  2.17135744,\n",
       "       -0.51480159,  0.70587211,  0.60311504, -0.53271216,  0.5716495 ,\n",
       "       -0.34685826,  0.36744388, -0.03938079, -0.12192939])"
      ]
     },
     "execution_count": 34,
     "metadata": {},
     "output_type": "execute_result"
    }
   ],
   "source": [
    "ridge_cv_model.coef_"
   ]
  },
  {
   "cell_type": "markdown",
   "id": "5f8dfb35",
   "metadata": {},
   "source": [
    "Note that the model coeffs are not close to zero anymore. This will not be the case with L1 regularization (LASSO Regression)."
   ]
  },
  {
   "cell_type": "markdown",
   "id": "17a54349",
   "metadata": {},
   "source": [
    "### LassoCV"
   ]
  },
  {
   "cell_type": "code",
   "execution_count": 35,
   "id": "c9c1bd5c",
   "metadata": {},
   "outputs": [
    {
     "data": {
      "text/plain": [
       "0.0049245318064748715"
      ]
     },
     "execution_count": 35,
     "metadata": {},
     "output_type": "execute_result"
    }
   ],
   "source": [
    "# Cross Validation along with LASSO regularization\n",
    "from sklearn.linear_model import LassoCV\n",
    "\n",
    "# eps : alpha_min/alpha_max\n",
    "# n_alpahs : no. of alphas we want to check\n",
    "# cv : is the k-fold parameter (default None is 5-fold CV)\n",
    "# max_iter : need to increase it if convergence warning shows up\n",
    "lasso_cv_model = LassoCV(eps=1e-3,n_alphas=100,cv=None,\n",
    "                         max_iter=10000)\n",
    "\n",
    "# since we are only fitting on (X_train,y_train), this means that\n",
    "# the (X_test,y_test) is our hold-out TEST set, also\n",
    "# (X_train,y_train) = TRAIN + VALIDATION\n",
    "lasso_cv_model.fit(X_train,y_train)\n",
    "\n",
    "# best alpha (lambda)\n",
    "lasso_cv_model.alpha_"
   ]
  },
  {
   "cell_type": "code",
   "execution_count": 36,
   "id": "39700f14",
   "metadata": {},
   "outputs": [
    {
     "data": {
      "text/plain": [
       "(0.5123045552899828, 0.6308043049172882)"
      ]
     },
     "execution_count": 36,
     "metadata": {},
     "output_type": "execute_result"
    }
   ],
   "source": [
    "test_predictions = lasso_cv_model.predict(X_test)\n",
    "MAE = mean_absolute_error(y_test, test_predictions)\n",
    "RMSE = np.sqrt(mean_squared_error(y_test, test_predictions))\n",
    "MAE, RMSE"
   ]
  },
  {
   "cell_type": "markdown",
   "id": "c17f3cd6",
   "metadata": {},
   "source": [
    "- Ridge with alpha=10\n",
    "    - MAE = 0.63\n",
    "    - RMSE = 0.89\n",
    "    \n",
    "- RidgeCV we get best alpha=0.1\n",
    "    - MAE = 0.46\n",
    "    - RMSE = 0.59\n",
    "    \n",
    "- LassoCV we get best alpha=0.0049\n",
    "    - MAE = 0.51\n",
    "    - RMSE = 0.63"
   ]
  },
  {
   "cell_type": "code",
   "execution_count": 37,
   "id": "5fe7c87b",
   "metadata": {},
   "outputs": [
    {
     "data": {
      "text/plain": [
       "array([ 5.15048089,  0.4274257 ,  0.29684446, -4.53337994,  3.38937185,\n",
       "       -0.4288993 ,  0.        ,  0.        ,  0.        ,  1.17891049,\n",
       "       -0.        ,  0.        ,  0.16706037, -0.        ,  0.        ,\n",
       "        0.        ,  0.11083672,  0.        ,  0.06155549])"
      ]
     },
     "execution_count": 37,
     "metadata": {},
     "output_type": "execute_result"
    }
   ],
   "source": [
    "lasso_cv_model.coef_"
   ]
  },
  {
   "cell_type": "markdown",
   "id": "607d6960",
   "metadata": {},
   "source": [
    "Note that most of the model coeffs are close to zero. Hence, it is easier to interpret which features are important. It is still more in-line with Ridge regression in terms of MAE and RMSE. And it can be considered slightly better than Ridge as we were able to drop almost half of the features and still get the same performance."
   ]
  },
  {
   "cell_type": "markdown",
   "id": "f60085be",
   "metadata": {},
   "source": [
    "### ElasticNetCV"
   ]
  },
  {
   "cell_type": "code",
   "execution_count": 38,
   "id": "4aaced0f",
   "metadata": {},
   "outputs": [
    {
     "name": "stdout",
     "output_type": "stream",
     "text": [
      "1.0\n"
     ]
    },
    {
     "data": {
      "text/plain": [
       "0.0049245318064748715"
      ]
     },
     "execution_count": 38,
     "metadata": {},
     "output_type": "execute_result"
    }
   ],
   "source": [
    "# Cross Validation along with LASSO regularization\n",
    "from sklearn.linear_model import ElasticNetCV\n",
    "\n",
    "# l1_ratio : alpha in the formula\n",
    "# eps : alpha_min/alpha_max (alpha here is the lambda)\n",
    "# n_alpahs : no. of alphas we want to check\n",
    "# cv : is the k-fold parameter (default None is 5-fold CV)\n",
    "# max_iter : need to increase it if convergence warning shows up\n",
    "elastic_cv_model = ElasticNetCV(l1_ratio=[.1,.5,.7,.9,.95,.99,1],\n",
    "                              eps=1e-3,n_alphas=100,cv=5,\n",
    "                              max_iter=10000)\n",
    "\n",
    "# since we are only fitting on (X_train,y_train), this means that\n",
    "# the (X_test,y_test) is our hold-out TEST set, also\n",
    "# (X_train,y_train) = TRAIN + VALIDATION\n",
    "elastic_cv_model.fit(X_train,y_train)\n",
    "\n",
    "# best alpha (lambda)\n",
    "print(elastic_cv_model.l1_ratio_) # 1 => Lasso is better\n",
    "\n",
    "# best alpha (lambda)\n",
    "elastic_cv_model.alpha_"
   ]
  },
  {
   "cell_type": "code",
   "execution_count": 39,
   "id": "59456ddc",
   "metadata": {},
   "outputs": [
    {
     "data": {
      "text/plain": [
       "(0.5123045552899828, 0.6308043049172882)"
      ]
     },
     "execution_count": 39,
     "metadata": {},
     "output_type": "execute_result"
    }
   ],
   "source": [
    "test_predictions = elastic_cv_model.predict(X_test)\n",
    "MAE = mean_absolute_error(y_test, test_predictions)\n",
    "RMSE = np.sqrt(mean_squared_error(y_test, test_predictions))\n",
    "MAE, RMSE"
   ]
  },
  {
   "cell_type": "markdown",
   "id": "9fee8a42",
   "metadata": {},
   "source": [
    "- Ridge with alpha=10\n",
    "    - MAE = 0.63\n",
    "    - RMSE = 0.89\n",
    "    \n",
    "- RidgeCV we get best alpha=0.1\n",
    "    - MAE = 0.46\n",
    "    - RMSE = 0.59\n",
    "    \n",
    "- LassoCV we get best alpha=0.0049\n",
    "    - MAE = 0.51\n",
    "    - RMSE = 0.63\n",
    "    \n",
    "- ElasticNetCV we get best alpha=0.0049\n",
    "    - MAE = 0.51\n",
    "    - RMSE = 0.63\n",
    "    \n",
    "Thus, ElasticNetCV tells us that LASSO is better."
   ]
  },
  {
   "cell_type": "markdown",
   "id": "fe7db426",
   "metadata": {},
   "source": [
    "### CV using Train|Validate|Test split\n",
    "\n",
    "Note that not every ML model in sklearn has the CV version. We need make our own full Cross Validaiton stratergy which we can then use with any ML model.\n",
    "\n",
    "The Test set is often also called a \"hold-out\" set, since you should not adjust parameters based on the final test set, but instead use it *only* for reporting final expected performance.\n",
    "\n",
    "0. Clean and adjust data as necessary for X and y\n",
    "1. Split Data in Train/Validation/Test for both X and y\n",
    "2. Fit/Train Scaler on Training X Data\n",
    "3. Scale X Eval Data\n",
    "4. Create Model\n",
    "5. Fit/Train Model on X Train Data\n",
    "6. Evaluate Model on X Evaluation Data (by creating predictions and comparing to Y_eval)\n",
    "7. Adjust Parameters as Necessary and repeat steps 5 and 6\n",
    "8. Get final metrics on Test set (not allowed to go back and adjust after this!)"
   ]
  },
  {
   "cell_type": "code",
   "execution_count": 40,
   "id": "8e5f9679",
   "metadata": {},
   "outputs": [
    {
     "name": "stdout",
     "output_type": "stream",
     "text": [
      "8.154258498499356\n",
      "4.177190260272782\n",
      "3.4231747557022625\n"
     ]
    }
   ],
   "source": [
    "from sklearn.model_selection import train_test_split\n",
    "from sklearn.preprocessing import StandardScaler\n",
    "from sklearn.linear_model import Ridge\n",
    "from sklearn.metrics import mean_squared_error\n",
    "\n",
    "# Split #1\n",
    "X_train, X_other, y_train, y_other = \\\n",
    "train_test_split(X,y,test_size=0.3,random_state=42)\n",
    "# Split #2\n",
    "X_eval, X_test, y_eval, y_test = \\\n",
    "train_test_split(X_other,y_other,test_size=0.5)\n",
    "\n",
    "# Scale\n",
    "scalar = StandardScaler()\n",
    "scalar.fit(X_train)\n",
    "X_train = scalar.transform(X_train)\n",
    "X_eval  = scalar.transform(X_eval)\n",
    "X_test  = scalar.transform(X_test)\n",
    "\n",
    "# Model #1 w/o CV\n",
    "model_1 = Ridge(alpha=100)\n",
    "model_1.fit(X_train, y_train)\n",
    "eval_predictions_1 = model_1.predict(X_eval)\n",
    "mse_1 = mean_squared_error(y_eval, eval_predictions_1)\n",
    "print(mse_1)\n",
    "\n",
    "# Model #2 w/o CV (based on mse of Model #1)\n",
    "model_2 = Ridge(alpha=1)\n",
    "model_2.fit(X_train, y_train)\n",
    "eval_predictions_2 = model_2.predict(X_eval)\n",
    "mse_2 = mean_squared_error(y_eval, eval_predictions_2)\n",
    "print(mse_2)\n",
    "\n",
    "# Final performance (assuming Model #2 is the best)\n",
    "test_predictions = model_2.predict(X_test)\n",
    "mse_final = mean_squared_error(y_test, test_predictions)\n",
    "print(mse_final)\n"
   ]
  },
  {
   "cell_type": "markdown",
   "id": "e2ea0e67",
   "metadata": {},
   "source": [
    "- Much better! We could repeat this until satisfied with performance metrics. (We previously showed RidgeCV can do this for us, but the purpose of here is to generalize the CV process for any model)."
   ]
  },
  {
   "cell_type": "markdown",
   "id": "cae6a7f5",
   "metadata": {},
   "source": [
    "### CV using Train|Validate|Test split with k-fold method\n",
    "\n",
    "- The **cross_val_score()** function uses a model and training set (along with a K and chosen metric) to perform all of this for us automatically!\n",
    "- This allows for K-Fold cross validation to be performed on any model."
   ]
  },
  {
   "cell_type": "code",
   "execution_count": 41,
   "id": "00af4745",
   "metadata": {},
   "outputs": [
    {
     "name": "stdout",
     "output_type": "stream",
     "text": [
      "7.7712748271872725\n",
      "2.772968978937122\n",
      "3.800182507987522\n"
     ]
    }
   ],
   "source": [
    "from sklearn.model_selection import train_test_split\n",
    "from sklearn.preprocessing import StandardScaler\n",
    "from sklearn.linear_model import Ridge\n",
    "from sklearn.metrics import mean_squared_error\n",
    "from sklearn.model_selection import cross_val_score # NEW!\n",
    "\n",
    "# Split\n",
    "X_train, X_test, y_train, y_test = \\\n",
    "train_test_split(X,y,test_size=0.3,random_state=42)\n",
    "\n",
    "# Scale\n",
    "scalar = StandardScaler()\n",
    "scalar.fit(X_train)\n",
    "X_train = scalar.transform(X_train)\n",
    "X_test  = scalar.transform(X_test)\n",
    "\n",
    "# Model #1 w/ k-fold CV\n",
    "model_1 = Ridge(alpha=100)\n",
    "scores_1 = cross_val_score(model_1,X_train,y_train,\n",
    "                         scoring='neg_mean_squared_error',cv=5)\n",
    "print(abs(scores_1.mean()))\n",
    "\n",
    "# Model #2 w/ k-fold CV (based on mse of Model #1)\n",
    "model_2 = Ridge(alpha=1)\n",
    "scores_2 = cross_val_score(model_2,X_train,y_train,\n",
    "                         scoring='neg_mean_squared_error',cv=5)\n",
    "print(abs(scores_2.mean()))\n",
    "\n",
    "# Fit on the final model (assuming Model #2 is the best)\n",
    "model_2.fit(X_train,y_train)\n",
    "\n",
    "# Final performance\n",
    "test_predictions = model_2.predict(X_test)\n",
    "mse_final = mean_squared_error(y_test, test_predictions)\n",
    "print(mse_final)"
   ]
  },
  {
   "cell_type": "markdown",
   "id": "4ba571ff",
   "metadata": {},
   "source": [
    "### CV using Train|Validate|Test split with k-fold method\n",
    "\n",
    "- The **cross_validate()** function allows us to view multiple performance metrics from cross validation on a model and explore how much time fitting and testing took.\n",
    "- The cross_validate function differs from cross_val_score in two ways:\n",
    "    - It allows specifying multiple metrics for evaluation.\n",
    "    - It returns a dict containing fit-times, score-times (and optionally training scores as well as fitted estimators) in addition to the test score."
   ]
  },
  {
   "cell_type": "code",
   "execution_count": 42,
   "id": "6cf30fd9",
   "metadata": {},
   "outputs": [
    {
     "name": "stdout",
     "output_type": "stream",
     "text": [
      "fit_time                        0.000906\n",
      "score_time                      0.000744\n",
      "test_neg_mean_absolute_error    2.033951\n",
      "test_neg_mean_squared_error     7.093781\n",
      "dtype: float64 \n",
      "\n",
      "fit_time                        0.000871\n",
      "score_time                      0.000716\n",
      "test_neg_mean_absolute_error    1.220442\n",
      "test_neg_mean_squared_error     2.763198\n",
      "dtype: float64 \n",
      "\n",
      "3.800182507987522\n"
     ]
    }
   ],
   "source": [
    "from sklearn.model_selection import train_test_split\n",
    "from sklearn.preprocessing import StandardScaler\n",
    "from sklearn.linear_model import Ridge\n",
    "from sklearn.metrics import mean_squared_error\n",
    "from sklearn.model_selection import cross_validate # NEW!\n",
    "\n",
    "# Split\n",
    "X_train, X_test, y_train, y_test = \\\n",
    "train_test_split(X,y,test_size=0.3,random_state=42)\n",
    "\n",
    "# Scale\n",
    "scalar = StandardScaler()\n",
    "scalar.fit(X_train)\n",
    "X_train = scalar.transform(X_train)\n",
    "X_test  = scalar.transform(X_test)\n",
    "\n",
    "# Model #1 w/ k-fold CV\n",
    "model_1 = Ridge(alpha=100)\n",
    "scores_1 = cross_validate(model_1,X_train,y_train,cv=10,\n",
    "                          scoring=['neg_mean_absolute_error',\n",
    "                                   'neg_mean_squared_error'])\n",
    "scores_1 = pd.DataFrame(scores_1)\n",
    "#print(scores_1, '\\n')\n",
    "print(abs(scores_1.mean()),'\\n')\n",
    "\n",
    "# Model #2 w/ CV (based on mse of Model #1)\n",
    "model_2 = Ridge(alpha=1)\n",
    "scores_2 = cross_validate(model_2,X_train,y_train,cv=10,\n",
    "                          scoring=['neg_mean_absolute_error',\n",
    "                                   'neg_mean_squared_error'])\n",
    "scores_2 = pd.DataFrame(scores_2)\n",
    "#print(scores_2, '\\n')\n",
    "print(abs(scores_2.mean()),'\\n')\n",
    "\n",
    "# Fit on the final model (assuming Model #2 is the best)\n",
    "model_2.fit(X_train,y_train)\n",
    "\n",
    "# Final performance\n",
    "test_predictions = model_2.predict(X_test)\n",
    "mse_final = mean_squared_error(y_test, test_predictions)\n",
    "print(mse_final)"
   ]
  },
  {
   "cell_type": "code",
   "execution_count": 43,
   "id": "0663d7f5",
   "metadata": {},
   "outputs": [
    {
     "data": {
      "text/html": [
       "<div>\n",
       "<style scoped>\n",
       "    .dataframe tbody tr th:only-of-type {\n",
       "        vertical-align: middle;\n",
       "    }\n",
       "\n",
       "    .dataframe tbody tr th {\n",
       "        vertical-align: top;\n",
       "    }\n",
       "\n",
       "    .dataframe thead th {\n",
       "        text-align: right;\n",
       "    }\n",
       "</style>\n",
       "<table border=\"1\" class=\"dataframe\">\n",
       "  <thead>\n",
       "    <tr style=\"text-align: right;\">\n",
       "      <th></th>\n",
       "      <th>fit_time</th>\n",
       "      <th>score_time</th>\n",
       "      <th>test_neg_mean_absolute_error</th>\n",
       "      <th>test_neg_mean_squared_error</th>\n",
       "    </tr>\n",
       "  </thead>\n",
       "  <tbody>\n",
       "    <tr>\n",
       "      <th>0</th>\n",
       "      <td>0.000995</td>\n",
       "      <td>0.000765</td>\n",
       "      <td>-1.331710</td>\n",
       "      <td>-2.911867</td>\n",
       "    </tr>\n",
       "    <tr>\n",
       "      <th>1</th>\n",
       "      <td>0.000961</td>\n",
       "      <td>0.000749</td>\n",
       "      <td>-1.269023</td>\n",
       "      <td>-2.784154</td>\n",
       "    </tr>\n",
       "    <tr>\n",
       "      <th>2</th>\n",
       "      <td>0.000963</td>\n",
       "      <td>0.000759</td>\n",
       "      <td>-0.876497</td>\n",
       "      <td>-1.098295</td>\n",
       "    </tr>\n",
       "    <tr>\n",
       "      <th>3</th>\n",
       "      <td>0.000891</td>\n",
       "      <td>0.000723</td>\n",
       "      <td>-1.113152</td>\n",
       "      <td>-1.812891</td>\n",
       "    </tr>\n",
       "    <tr>\n",
       "      <th>4</th>\n",
       "      <td>0.000848</td>\n",
       "      <td>0.000693</td>\n",
       "      <td>-1.257662</td>\n",
       "      <td>-2.308968</td>\n",
       "    </tr>\n",
       "    <tr>\n",
       "      <th>5</th>\n",
       "      <td>0.000808</td>\n",
       "      <td>0.000700</td>\n",
       "      <td>-1.067477</td>\n",
       "      <td>-2.051892</td>\n",
       "    </tr>\n",
       "    <tr>\n",
       "      <th>6</th>\n",
       "      <td>0.000806</td>\n",
       "      <td>0.000690</td>\n",
       "      <td>-1.304290</td>\n",
       "      <td>-2.431973</td>\n",
       "    </tr>\n",
       "    <tr>\n",
       "      <th>7</th>\n",
       "      <td>0.000804</td>\n",
       "      <td>0.000685</td>\n",
       "      <td>-1.376223</td>\n",
       "      <td>-2.229323</td>\n",
       "    </tr>\n",
       "    <tr>\n",
       "      <th>8</th>\n",
       "      <td>0.000797</td>\n",
       "      <td>0.000697</td>\n",
       "      <td>-1.760545</td>\n",
       "      <td>-8.569988</td>\n",
       "    </tr>\n",
       "    <tr>\n",
       "      <th>9</th>\n",
       "      <td>0.000842</td>\n",
       "      <td>0.000703</td>\n",
       "      <td>-0.847836</td>\n",
       "      <td>-1.432624</td>\n",
       "    </tr>\n",
       "  </tbody>\n",
       "</table>\n",
       "</div>"
      ],
      "text/plain": [
       "   fit_time  score_time  test_neg_mean_absolute_error  \\\n",
       "0  0.000995    0.000765                     -1.331710   \n",
       "1  0.000961    0.000749                     -1.269023   \n",
       "2  0.000963    0.000759                     -0.876497   \n",
       "3  0.000891    0.000723                     -1.113152   \n",
       "4  0.000848    0.000693                     -1.257662   \n",
       "5  0.000808    0.000700                     -1.067477   \n",
       "6  0.000806    0.000690                     -1.304290   \n",
       "7  0.000804    0.000685                     -1.376223   \n",
       "8  0.000797    0.000697                     -1.760545   \n",
       "9  0.000842    0.000703                     -0.847836   \n",
       "\n",
       "   test_neg_mean_squared_error  \n",
       "0                    -2.911867  \n",
       "1                    -2.784154  \n",
       "2                    -1.098295  \n",
       "3                    -1.812891  \n",
       "4                    -2.308968  \n",
       "5                    -2.051892  \n",
       "6                    -2.431973  \n",
       "7                    -2.229323  \n",
       "8                    -8.569988  \n",
       "9                    -1.432624  "
      ]
     },
     "execution_count": 43,
     "metadata": {},
     "output_type": "execute_result"
    }
   ],
   "source": [
    "scores_2"
   ]
  },
  {
   "cell_type": "markdown",
   "id": "97f3c1e7",
   "metadata": {},
   "source": [
    "### Grid Search\n",
    "\n",
    "**Parameter Checking + CRoss-Validaiton**\n",
    "\n",
    "- Often more complex models have multiple adjustable hyperparameters. A grid search is a way of training and validating a model on every possible combination of multiple hyperparameter options. \n",
    "- Scikit-Learn includes a **GridSearchCV** class capable of testing a dictionary of multiple hyperparameter options through cross-validation. This allows for both cross-validation and a grid search to be performed in a generalized way for any model."
   ]
  },
  {
   "cell_type": "code",
   "execution_count": 44,
   "id": "e1bf0732",
   "metadata": {},
   "outputs": [
    {
     "name": "stdout",
     "output_type": "stream",
     "text": [
      "ElasticNet(alpha=0.1, l1_ratio=1)\n",
      "3.69633774054782\n"
     ]
    }
   ],
   "source": [
    "from sklearn.model_selection import train_test_split\n",
    "from sklearn.preprocessing import StandardScaler\n",
    "from sklearn.linear_model import ElasticNet\n",
    "from sklearn.metrics import mean_squared_error\n",
    "from sklearn.model_selection import GridSearchCV # NEW!\n",
    "\n",
    "# Split\n",
    "X_train, X_test, y_train, y_test = \\\n",
    "train_test_split(X,y,test_size=0.3,random_state=42)\n",
    "\n",
    "# Scale\n",
    "scalar = StandardScaler()\n",
    "scalar.fit(X_train)\n",
    "X_train = scalar.transform(X_train)\n",
    "X_test  = scalar.transform(X_test)\n",
    "\n",
    "# Model\n",
    "base_elastic_net = ElasticNet()\n",
    "\n",
    "# Grid for the base_elastic_net's parameters\n",
    "parameter_grid = {'alpha':[.1,1,5,10,50,100], \n",
    "                  'l1_ratio':[.1,.5,.7,.95,.99,1]}\n",
    "\n",
    "# Grid model with model + parameter_grid as imputs\n",
    "grid_model = GridSearchCV(estimator=base_elastic_net,\n",
    "                          param_grid=parameter_grid,cv=10,\n",
    "                          scoring='neg_mean_squared_error',\n",
    "                          verbose=0)\n",
    "grid_model.fit(X_train,y_train)\n",
    "\n",
    "# Best model parameters\n",
    "print(grid_model.best_estimator_)\n",
    "\n",
    "# Final performance\n",
    "# predict() grabs the best estimator (model)\n",
    "test_predictions = grid_model.predict(X_test)\n",
    "mse_final = mean_squared_error(y_test, test_predictions)\n",
    "print(mse_final)"
   ]
  },
  {
   "cell_type": "code",
   "execution_count": 45,
   "id": "a2c4c6f0",
   "metadata": {},
   "outputs": [
    {
     "data": {
      "text/html": [
       "<style>#notebook { padding-top:0px !important; } .container { width:100% !important; } .end_space { min-height:0px !important; } </style>"
      ],
      "text/plain": [
       "<IPython.core.display.HTML object>"
      ]
     },
     "metadata": {},
     "output_type": "display_data"
    }
   ],
   "source": [
    "from IPython.core.display import display, HTML\n",
    "display(HTML('<style>'\n",
    "        '#notebook { padding-top:0px !important; } ' \n",
    "        '.container { width:100% !important; } '\n",
    "        '.end_space { min-height:0px !important; } '\n",
    "    '</style>'\n",
    "))"
   ]
  }
 ],
 "metadata": {
  "kernelspec": {
   "display_name": "Python 3",
   "language": "python",
   "name": "python3"
  },
  "language_info": {
   "codemirror_mode": {
    "name": "ipython",
    "version": 3
   },
   "file_extension": ".py",
   "mimetype": "text/x-python",
   "name": "python",
   "nbconvert_exporter": "python",
   "pygments_lexer": "ipython3",
   "version": "3.7.10"
  }
 },
 "nbformat": 4,
 "nbformat_minor": 5
}
