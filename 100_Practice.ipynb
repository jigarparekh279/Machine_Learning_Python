{
 "cells": [
  {
   "cell_type": "markdown",
   "id": "2870188d",
   "metadata": {},
   "source": [
    "* [Link](https://github.com/jigarparekh279/Python/blob/master/100_Practice.ipynb)"
   ]
  },
  {
   "cell_type": "markdown",
   "id": "995bce89",
   "metadata": {},
   "source": [
    "* [Link](https://github.com/jigarparekh279/Python/blob/master/100_Practice.ipynb)"
   ]
  },
  {
   "cell_type": "markdown",
   "id": "c81facf5",
   "metadata": {},
   "source": [
    "* [Link](https://github.com/jigarparekh279/Python/blob/master/100_Practice.ipynb/#1)"
   ]
  },
  {
   "cell_type": "markdown",
   "id": "b240efbb",
   "metadata": {},
   "source": [
    "<a id='1'></a>\n",
    "AAA"
   ]
  },
  {
   "cell_type": "code",
   "execution_count": null,
   "id": "8ca05cd8",
   "metadata": {},
   "outputs": [],
   "source": []
  },
  {
   "cell_type": "code",
   "execution_count": null,
   "id": "466b542d",
   "metadata": {},
   "outputs": [],
   "source": []
  }
 ],
 "metadata": {
  "kernelspec": {
   "display_name": "Python 3",
   "language": "python",
   "name": "python3"
  },
  "language_info": {
   "codemirror_mode": {
    "name": "ipython",
    "version": 3
   },
   "file_extension": ".py",
   "mimetype": "text/x-python",
   "name": "python",
   "nbconvert_exporter": "python",
   "pygments_lexer": "ipython3",
   "version": "3.7.10"
  }
 },
 "nbformat": 4,
 "nbformat_minor": 5
}
