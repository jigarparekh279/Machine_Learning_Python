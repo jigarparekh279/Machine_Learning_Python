{
 "cells": [
  {
   "cell_type": "code",
   "execution_count": 1,
   "id": "4433abd2",
   "metadata": {},
   "outputs": [
    {
     "name": "stdout",
     "output_type": "stream",
     "text": [
      "Reset css and font defaults in:\r\n",
      "/home/jigar/.jupyter/custom &\r\n",
      "/home/jigar/.local/share/jupyter/nbextensions\r\n"
     ]
    }
   ],
   "source": [
    "!jt -r"
   ]
  },
  {
   "cell_type": "code",
   "execution_count": 2,
   "id": "4ef342b2",
   "metadata": {},
   "outputs": [
    {
     "name": "stdout",
     "output_type": "stream",
     "text": [
      "Available Themes: \r\n",
      "   chesterish\r\n",
      "   grade3\r\n",
      "   gruvboxd\r\n",
      "   gruvboxl\r\n",
      "   monokai\r\n",
      "   oceans16\r\n",
      "   onedork\r\n",
      "   solarizedd\r\n",
      "   solarizedl\r\n"
     ]
    }
   ],
   "source": [
    "!jt -l"
   ]
  },
  {
   "cell_type": "code",
   "execution_count": null,
   "id": "91bdf7a6",
   "metadata": {},
   "outputs": [],
   "source": [
    "!jt -t <theme>"
   ]
  },
  {
   "cell_type": "code",
   "execution_count": null,
   "id": "fc5978a1",
   "metadata": {},
   "outputs": [],
   "source": []
  }
 ],
 "metadata": {
  "kernelspec": {
   "display_name": "Python 3",
   "language": "python",
   "name": "python3"
  },
  "language_info": {
   "codemirror_mode": {
    "name": "ipython",
    "version": 3
   },
   "file_extension": ".py",
   "mimetype": "text/x-python",
   "name": "python",
   "nbconvert_exporter": "python",
   "pygments_lexer": "ipython3",
   "version": "3.7.10"
  }
 },
 "nbformat": 4,
 "nbformat_minor": 5
}
