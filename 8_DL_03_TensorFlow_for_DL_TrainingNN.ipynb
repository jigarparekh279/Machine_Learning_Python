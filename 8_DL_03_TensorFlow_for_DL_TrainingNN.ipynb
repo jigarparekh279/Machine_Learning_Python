{
 "cells": [
  {
   "cell_type": "markdown",
   "source": [
    "# TensorFlow for Deep Learning - Training Deep Neural Networks"
   ],
   "metadata": {}
  },
  {
   "cell_type": "markdown",
   "source": [],
   "metadata": {}
  }
 ],
 "metadata": {
  "interpreter": {
   "hash": "9cdf6fd4ca346b1685b865c1c06435fd6596898e7539d13aac3a66e78bae3ff1"
  },
  "kernelspec": {
   "name": "python3",
   "display_name": "Python 3.7.6 64-bit ('tfEnv_1': conda)"
  },
  "language_info": {
   "codemirror_mode": {
    "name": "ipython",
    "version": 3
   },
   "file_extension": ".py",
   "mimetype": "text/x-python",
   "name": "python",
   "nbconvert_exporter": "python",
   "pygments_lexer": "ipython3",
   "version": "3.7.6"
  }
 },
 "nbformat": 4,
 "nbformat_minor": 4
}